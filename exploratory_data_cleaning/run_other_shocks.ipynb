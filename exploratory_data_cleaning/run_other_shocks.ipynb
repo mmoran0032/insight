{
 "cells": [
  {
   "cell_type": "code",
   "execution_count": 1,
   "metadata": {
    "collapsed": true
   },
   "outputs": [],
   "source": [
    "%matplotlib inline\n",
    "\n",
    "import matplotlib.pyplot as plt\n",
    "import numpy as np\n",
    "import pandas as pd\n",
    "\n",
    "import run_single as rs"
   ]
  },
  {
   "cell_type": "markdown",
   "metadata": {},
   "source": [
    "Other shocks\n",
    "========\n",
    "\n",
    "We're going to run some other shock events, based on the list of identified shocks that I found. This will help fill out the model, and I can save them in a meaningful manner (pre, post, change) so that I don't have to keep running things. To start, I'll redo the Q opening to make sure I have all of the details."
   ]
  },
  {
   "cell_type": "code",
   "execution_count": 75,
   "metadata": {},
   "outputs": [
    {
     "data": {
      "text/plain": [
       "['R001', 'R003', 'R004', 'R005', 'R006']"
      ]
     },
     "execution_count": 75,
     "metadata": {},
     "output_type": "execute_result"
    }
   ],
   "source": [
    "conn = rs.create_connection()\n",
    "units = rs.get_unit_list(conn)\n",
    "query = rs.build_large_query(units, '2016-10-15', '2017-03-15', include_exit=False)  # ~150 day window\n",
    "units[:5]"
   ]
  },
  {
   "cell_type": "code",
   "execution_count": 76,
   "metadata": {},
   "outputs": [
    {
     "name": "stdout",
     "output_type": "stream",
     "text": [
      "select R001.date_time, R001.enter R001,\n",
      "R003.enter R003,\n",
      "R004.enter R004,\n",
      "R005.enter R005,\n",
      "R006.enter R006,\n",
      "R007.enter R007,\n",
      "R008.enter R008\n",
      "2 on r001.date_time = R572.date_time\n",
      "        where R001.date_time between '2016-10-15' and '2017-03-15'\n",
      "        order by date_time asc;\n",
      "    \n"
     ]
    }
   ],
   "source": [
    "print(query[:140], query[-140:], sep='\\n')"
   ]
  },
  {
   "cell_type": "code",
   "execution_count": 77,
   "metadata": {},
   "outputs": [
    {
     "data": {
      "text/html": [
       "<div>\n",
       "<style>\n",
       "    .dataframe thead tr:only-child th {\n",
       "        text-align: right;\n",
       "    }\n",
       "\n",
       "    .dataframe thead th {\n",
       "        text-align: left;\n",
       "    }\n",
       "\n",
       "    .dataframe tbody tr th {\n",
       "        vertical-align: top;\n",
       "    }\n",
       "</style>\n",
       "<table border=\"1\" class=\"dataframe\">\n",
       "  <thead>\n",
       "    <tr style=\"text-align: right;\">\n",
       "      <th></th>\n",
       "      <th>R001</th>\n",
       "      <th>R003</th>\n",
       "      <th>R004</th>\n",
       "      <th>R005</th>\n",
       "      <th>R006</th>\n",
       "      <th>R007</th>\n",
       "      <th>R008</th>\n",
       "      <th>R009</th>\n",
       "      <th>R010</th>\n",
       "      <th>R011</th>\n",
       "      <th>...</th>\n",
       "      <th>R546</th>\n",
       "      <th>R547</th>\n",
       "      <th>R548</th>\n",
       "      <th>R549</th>\n",
       "      <th>R550</th>\n",
       "      <th>R551</th>\n",
       "      <th>R552</th>\n",
       "      <th>R570</th>\n",
       "      <th>R571</th>\n",
       "      <th>R572</th>\n",
       "    </tr>\n",
       "    <tr>\n",
       "      <th>date_time</th>\n",
       "      <th></th>\n",
       "      <th></th>\n",
       "      <th></th>\n",
       "      <th></th>\n",
       "      <th></th>\n",
       "      <th></th>\n",
       "      <th></th>\n",
       "      <th></th>\n",
       "      <th></th>\n",
       "      <th></th>\n",
       "      <th></th>\n",
       "      <th></th>\n",
       "      <th></th>\n",
       "      <th></th>\n",
       "      <th></th>\n",
       "      <th></th>\n",
       "      <th></th>\n",
       "      <th></th>\n",
       "      <th></th>\n",
       "      <th></th>\n",
       "      <th></th>\n",
       "    </tr>\n",
       "  </thead>\n",
       "  <tbody>\n",
       "    <tr>\n",
       "      <th>2016-10-15 04:00:00-05:00</th>\n",
       "      <td>1523.0</td>\n",
       "      <td>86.0</td>\n",
       "      <td>207.0</td>\n",
       "      <td>190.0</td>\n",
       "      <td>364.0</td>\n",
       "      <td>155.0</td>\n",
       "      <td>158.0</td>\n",
       "      <td>214.0</td>\n",
       "      <td>7733.0</td>\n",
       "      <td>7067.0</td>\n",
       "      <td>...</td>\n",
       "      <td>342.0</td>\n",
       "      <td>1298.0</td>\n",
       "      <td>851.0</td>\n",
       "      <td>784.0</td>\n",
       "      <td>5813.0</td>\n",
       "      <td>875.0</td>\n",
       "      <td>503.0</td>\n",
       "      <td>NaN</td>\n",
       "      <td>NaN</td>\n",
       "      <td>NaN</td>\n",
       "    </tr>\n",
       "    <tr>\n",
       "      <th>2016-10-15 08:00:00-05:00</th>\n",
       "      <td>269.0</td>\n",
       "      <td>11.0</td>\n",
       "      <td>38.0</td>\n",
       "      <td>41.0</td>\n",
       "      <td>96.0</td>\n",
       "      <td>40.0</td>\n",
       "      <td>40.0</td>\n",
       "      <td>73.0</td>\n",
       "      <td>1420.0</td>\n",
       "      <td>963.0</td>\n",
       "      <td>...</td>\n",
       "      <td>104.0</td>\n",
       "      <td>0.0</td>\n",
       "      <td>0.0</td>\n",
       "      <td>516.0</td>\n",
       "      <td>129.0</td>\n",
       "      <td>205.0</td>\n",
       "      <td>594.0</td>\n",
       "      <td>NaN</td>\n",
       "      <td>NaN</td>\n",
       "      <td>NaN</td>\n",
       "    </tr>\n",
       "    <tr>\n",
       "      <th>2016-10-15 12:00:00-05:00</th>\n",
       "      <td>1552.0</td>\n",
       "      <td>56.0</td>\n",
       "      <td>160.0</td>\n",
       "      <td>184.0</td>\n",
       "      <td>177.0</td>\n",
       "      <td>211.0</td>\n",
       "      <td>110.0</td>\n",
       "      <td>107.0</td>\n",
       "      <td>1946.0</td>\n",
       "      <td>2797.0</td>\n",
       "      <td>...</td>\n",
       "      <td>1600.0</td>\n",
       "      <td>0.0</td>\n",
       "      <td>0.0</td>\n",
       "      <td>1933.0</td>\n",
       "      <td>815.0</td>\n",
       "      <td>1576.0</td>\n",
       "      <td>2537.0</td>\n",
       "      <td>NaN</td>\n",
       "      <td>NaN</td>\n",
       "      <td>NaN</td>\n",
       "    </tr>\n",
       "    <tr>\n",
       "      <th>2016-10-15 16:00:00-05:00</th>\n",
       "      <td>3177.0</td>\n",
       "      <td>0.0</td>\n",
       "      <td>0.0</td>\n",
       "      <td>1.0</td>\n",
       "      <td>0.0</td>\n",
       "      <td>0.0</td>\n",
       "      <td>0.0</td>\n",
       "      <td>0.0</td>\n",
       "      <td>5214.0</td>\n",
       "      <td>8488.0</td>\n",
       "      <td>...</td>\n",
       "      <td>2116.0</td>\n",
       "      <td>0.0</td>\n",
       "      <td>0.0</td>\n",
       "      <td>2507.0</td>\n",
       "      <td>1997.0</td>\n",
       "      <td>2804.0</td>\n",
       "      <td>2727.0</td>\n",
       "      <td>NaN</td>\n",
       "      <td>NaN</td>\n",
       "      <td>NaN</td>\n",
       "    </tr>\n",
       "    <tr>\n",
       "      <th>2016-10-15 20:00:00-05:00</th>\n",
       "      <td>6047.0</td>\n",
       "      <td>0.0</td>\n",
       "      <td>0.0</td>\n",
       "      <td>0.0</td>\n",
       "      <td>0.0</td>\n",
       "      <td>0.0</td>\n",
       "      <td>1.0</td>\n",
       "      <td>2.0</td>\n",
       "      <td>7544.0</td>\n",
       "      <td>8411.0</td>\n",
       "      <td>...</td>\n",
       "      <td>2302.0</td>\n",
       "      <td>0.0</td>\n",
       "      <td>0.0</td>\n",
       "      <td>2136.0</td>\n",
       "      <td>1977.0</td>\n",
       "      <td>2552.0</td>\n",
       "      <td>3053.0</td>\n",
       "      <td>NaN</td>\n",
       "      <td>NaN</td>\n",
       "      <td>NaN</td>\n",
       "    </tr>\n",
       "  </tbody>\n",
       "</table>\n",
       "<p>5 rows × 470 columns</p>\n",
       "</div>"
      ],
      "text/plain": [
       "                             R001  R003   R004   R005   R006   R007   R008  \\\n",
       "date_time                                                                    \n",
       "2016-10-15 04:00:00-05:00  1523.0  86.0  207.0  190.0  364.0  155.0  158.0   \n",
       "2016-10-15 08:00:00-05:00   269.0  11.0   38.0   41.0   96.0   40.0   40.0   \n",
       "2016-10-15 12:00:00-05:00  1552.0  56.0  160.0  184.0  177.0  211.0  110.0   \n",
       "2016-10-15 16:00:00-05:00  3177.0   0.0    0.0    1.0    0.0    0.0    0.0   \n",
       "2016-10-15 20:00:00-05:00  6047.0   0.0    0.0    0.0    0.0    0.0    1.0   \n",
       "\n",
       "                            R009    R010    R011  ...     R546    R547   R548  \\\n",
       "date_time                                         ...                           \n",
       "2016-10-15 04:00:00-05:00  214.0  7733.0  7067.0  ...    342.0  1298.0  851.0   \n",
       "2016-10-15 08:00:00-05:00   73.0  1420.0   963.0  ...    104.0     0.0    0.0   \n",
       "2016-10-15 12:00:00-05:00  107.0  1946.0  2797.0  ...   1600.0     0.0    0.0   \n",
       "2016-10-15 16:00:00-05:00    0.0  5214.0  8488.0  ...   2116.0     0.0    0.0   \n",
       "2016-10-15 20:00:00-05:00    2.0  7544.0  8411.0  ...   2302.0     0.0    0.0   \n",
       "\n",
       "                             R549    R550    R551    R552  R570  R571  R572  \n",
       "date_time                                                                    \n",
       "2016-10-15 04:00:00-05:00   784.0  5813.0   875.0   503.0   NaN   NaN   NaN  \n",
       "2016-10-15 08:00:00-05:00   516.0   129.0   205.0   594.0   NaN   NaN   NaN  \n",
       "2016-10-15 12:00:00-05:00  1933.0   815.0  1576.0  2537.0   NaN   NaN   NaN  \n",
       "2016-10-15 16:00:00-05:00  2507.0  1997.0  2804.0  2727.0   NaN   NaN   NaN  \n",
       "2016-10-15 20:00:00-05:00  2136.0  1977.0  2552.0  3053.0   NaN   NaN   NaN  \n",
       "\n",
       "[5 rows x 470 columns]"
      ]
     },
     "execution_count": 77,
     "metadata": {},
     "output_type": "execute_result"
    }
   ],
   "source": [
    "data = rs.pull_data(query, conn)\n",
    "data.columns = units\n",
    "data.head()"
   ]
  },
  {
   "cell_type": "markdown",
   "metadata": {},
   "source": [
    "We need to collapse this down into daily data, which we can do easily with pandas. We have to shift the times backward by at least an hour to make sure that our daily ridership is correct, since the reading at midnight is for the riders that rode in the previous four hours."
   ]
  },
  {
   "cell_type": "code",
   "execution_count": 78,
   "metadata": {},
   "outputs": [
    {
     "data": {
      "text/html": [
       "<div>\n",
       "<style>\n",
       "    .dataframe thead tr:only-child th {\n",
       "        text-align: right;\n",
       "    }\n",
       "\n",
       "    .dataframe thead th {\n",
       "        text-align: left;\n",
       "    }\n",
       "\n",
       "    .dataframe tbody tr th {\n",
       "        vertical-align: top;\n",
       "    }\n",
       "</style>\n",
       "<table border=\"1\" class=\"dataframe\">\n",
       "  <thead>\n",
       "    <tr style=\"text-align: right;\">\n",
       "      <th></th>\n",
       "      <th>R001</th>\n",
       "      <th>R003</th>\n",
       "      <th>R004</th>\n",
       "      <th>R005</th>\n",
       "      <th>R006</th>\n",
       "      <th>R007</th>\n",
       "      <th>R008</th>\n",
       "      <th>R009</th>\n",
       "      <th>R010</th>\n",
       "      <th>R011</th>\n",
       "      <th>...</th>\n",
       "      <th>R546</th>\n",
       "      <th>R547</th>\n",
       "      <th>R548</th>\n",
       "      <th>R549</th>\n",
       "      <th>R550</th>\n",
       "      <th>R551</th>\n",
       "      <th>R552</th>\n",
       "      <th>R570</th>\n",
       "      <th>R571</th>\n",
       "      <th>R572</th>\n",
       "    </tr>\n",
       "    <tr>\n",
       "      <th>date</th>\n",
       "      <th></th>\n",
       "      <th></th>\n",
       "      <th></th>\n",
       "      <th></th>\n",
       "      <th></th>\n",
       "      <th></th>\n",
       "      <th></th>\n",
       "      <th></th>\n",
       "      <th></th>\n",
       "      <th></th>\n",
       "      <th></th>\n",
       "      <th></th>\n",
       "      <th></th>\n",
       "      <th></th>\n",
       "      <th></th>\n",
       "      <th></th>\n",
       "      <th></th>\n",
       "      <th></th>\n",
       "      <th></th>\n",
       "      <th></th>\n",
       "      <th></th>\n",
       "    </tr>\n",
       "  </thead>\n",
       "  <tbody>\n",
       "    <tr>\n",
       "      <th>2016-10-16</th>\n",
       "      <td>12976.0</td>\n",
       "      <td>108.0</td>\n",
       "      <td>283.0</td>\n",
       "      <td>351.0</td>\n",
       "      <td>590.0</td>\n",
       "      <td>235.0</td>\n",
       "      <td>273.0</td>\n",
       "      <td>322.0</td>\n",
       "      <td>27344.0</td>\n",
       "      <td>30944.0</td>\n",
       "      <td>...</td>\n",
       "      <td>5846.0</td>\n",
       "      <td>0.0</td>\n",
       "      <td>0.0</td>\n",
       "      <td>7403.0</td>\n",
       "      <td>5046.0</td>\n",
       "      <td>6909.0</td>\n",
       "      <td>8710.0</td>\n",
       "      <td>NaN</td>\n",
       "      <td>NaN</td>\n",
       "      <td>NaN</td>\n",
       "    </tr>\n",
       "    <tr>\n",
       "      <th>2016-10-17</th>\n",
       "      <td>31430.0</td>\n",
       "      <td>1581.0</td>\n",
       "      <td>4081.0</td>\n",
       "      <td>4102.0</td>\n",
       "      <td>5097.0</td>\n",
       "      <td>2912.0</td>\n",
       "      <td>2674.0</td>\n",
       "      <td>2540.0</td>\n",
       "      <td>31297.0</td>\n",
       "      <td>70049.0</td>\n",
       "      <td>...</td>\n",
       "      <td>20205.0</td>\n",
       "      <td>4022.0</td>\n",
       "      <td>4560.0</td>\n",
       "      <td>28428.0</td>\n",
       "      <td>20818.0</td>\n",
       "      <td>20112.0</td>\n",
       "      <td>21008.0</td>\n",
       "      <td>NaN</td>\n",
       "      <td>NaN</td>\n",
       "      <td>NaN</td>\n",
       "    </tr>\n",
       "    <tr>\n",
       "      <th>2016-10-18</th>\n",
       "      <td>31975.0</td>\n",
       "      <td>1653.0</td>\n",
       "      <td>4281.0</td>\n",
       "      <td>4172.0</td>\n",
       "      <td>5163.0</td>\n",
       "      <td>3034.0</td>\n",
       "      <td>2824.0</td>\n",
       "      <td>2662.0</td>\n",
       "      <td>34550.0</td>\n",
       "      <td>67918.0</td>\n",
       "      <td>...</td>\n",
       "      <td>21119.0</td>\n",
       "      <td>5499.0</td>\n",
       "      <td>4914.0</td>\n",
       "      <td>29025.0</td>\n",
       "      <td>34413.0</td>\n",
       "      <td>21295.0</td>\n",
       "      <td>21870.0</td>\n",
       "      <td>NaN</td>\n",
       "      <td>NaN</td>\n",
       "      <td>NaN</td>\n",
       "    </tr>\n",
       "    <tr>\n",
       "      <th>2016-10-19</th>\n",
       "      <td>33229.0</td>\n",
       "      <td>1658.0</td>\n",
       "      <td>4272.0</td>\n",
       "      <td>4289.0</td>\n",
       "      <td>5192.0</td>\n",
       "      <td>3027.0</td>\n",
       "      <td>2907.0</td>\n",
       "      <td>2734.0</td>\n",
       "      <td>35471.0</td>\n",
       "      <td>68624.0</td>\n",
       "      <td>...</td>\n",
       "      <td>20649.0</td>\n",
       "      <td>5869.0</td>\n",
       "      <td>5510.0</td>\n",
       "      <td>27925.0</td>\n",
       "      <td>24410.0</td>\n",
       "      <td>21185.0</td>\n",
       "      <td>21663.0</td>\n",
       "      <td>NaN</td>\n",
       "      <td>NaN</td>\n",
       "      <td>NaN</td>\n",
       "    </tr>\n",
       "    <tr>\n",
       "      <th>2016-10-20</th>\n",
       "      <td>31916.0</td>\n",
       "      <td>1613.0</td>\n",
       "      <td>4289.0</td>\n",
       "      <td>4259.0</td>\n",
       "      <td>5361.0</td>\n",
       "      <td>3000.0</td>\n",
       "      <td>2897.0</td>\n",
       "      <td>2701.0</td>\n",
       "      <td>35597.0</td>\n",
       "      <td>69591.0</td>\n",
       "      <td>...</td>\n",
       "      <td>21516.0</td>\n",
       "      <td>4541.0</td>\n",
       "      <td>4939.0</td>\n",
       "      <td>28167.0</td>\n",
       "      <td>24845.0</td>\n",
       "      <td>21480.0</td>\n",
       "      <td>22161.0</td>\n",
       "      <td>NaN</td>\n",
       "      <td>NaN</td>\n",
       "      <td>NaN</td>\n",
       "    </tr>\n",
       "  </tbody>\n",
       "</table>\n",
       "<p>5 rows × 467 columns</p>\n",
       "</div>"
      ],
      "text/plain": [
       "               R001    R003    R004    R005    R006    R007    R008    R009  \\\n",
       "date                                                                          \n",
       "2016-10-16  12976.0   108.0   283.0   351.0   590.0   235.0   273.0   322.0   \n",
       "2016-10-17  31430.0  1581.0  4081.0  4102.0  5097.0  2912.0  2674.0  2540.0   \n",
       "2016-10-18  31975.0  1653.0  4281.0  4172.0  5163.0  3034.0  2824.0  2662.0   \n",
       "2016-10-19  33229.0  1658.0  4272.0  4289.0  5192.0  3027.0  2907.0  2734.0   \n",
       "2016-10-20  31916.0  1613.0  4289.0  4259.0  5361.0  3000.0  2897.0  2701.0   \n",
       "\n",
       "               R010     R011  ...      R546    R547    R548     R549     R550  \\\n",
       "date                          ...                                               \n",
       "2016-10-16  27344.0  30944.0  ...    5846.0     0.0     0.0   7403.0   5046.0   \n",
       "2016-10-17  31297.0  70049.0  ...   20205.0  4022.0  4560.0  28428.0  20818.0   \n",
       "2016-10-18  34550.0  67918.0  ...   21119.0  5499.0  4914.0  29025.0  34413.0   \n",
       "2016-10-19  35471.0  68624.0  ...   20649.0  5869.0  5510.0  27925.0  24410.0   \n",
       "2016-10-20  35597.0  69591.0  ...   21516.0  4541.0  4939.0  28167.0  24845.0   \n",
       "\n",
       "               R551     R552  R570  R571  R572  \n",
       "date                                            \n",
       "2016-10-16   6909.0   8710.0   NaN   NaN   NaN  \n",
       "2016-10-17  20112.0  21008.0   NaN   NaN   NaN  \n",
       "2016-10-18  21295.0  21870.0   NaN   NaN   NaN  \n",
       "2016-10-19  21185.0  21663.0   NaN   NaN   NaN  \n",
       "2016-10-20  21480.0  22161.0   NaN   NaN   NaN  \n",
       "\n",
       "[5 rows x 467 columns]"
      ]
     },
     "execution_count": 78,
     "metadata": {},
     "output_type": "execute_result"
    }
   ],
   "source": [
    "data = rs.resample(data)\n",
    "data.head()"
   ]
  },
  {
   "cell_type": "markdown",
   "metadata": {},
   "source": [
    "Now, we can do some bayesian inference. I think there's probably a way to combine the model into getting the values for all of the stations at once, but that will have to wait for another time. For now, run the ~470 separate models and store the results."
   ]
  },
  {
   "cell_type": "code",
   "execution_count": 79,
   "metadata": {},
   "outputs": [
    {
     "data": {
      "text/plain": [
       "(470, ['R001', 'R003', 'R004', 'R005', 'R006'])"
      ]
     },
     "execution_count": 79,
     "metadata": {},
     "output_type": "execute_result"
    }
   ],
   "source": [
    "len(units), units[:5]"
   ]
  },
  {
   "cell_type": "code",
   "execution_count": 80,
   "metadata": {},
   "outputs": [
    {
     "data": {
      "text/plain": [
       "467"
      ]
     },
     "execution_count": 80,
     "metadata": {},
     "output_type": "execute_result"
    }
   ],
   "source": [
    "len(data.columns)"
   ]
  },
  {
   "cell_type": "code",
   "execution_count": 83,
   "metadata": {},
   "outputs": [
    {
     "name": "stderr",
     "output_type": "stream",
     "text": [
      "100%|██████████| 10000/10000 [00:02<00:00, 3493.68it/s]\n",
      "100%|██████████| 10000/10000 [00:02<00:00, 3678.38it/s]\n"
     ]
    },
    {
     "ename": "AssertionError",
     "evalue": "('The following error happened while compiling the node', Elemwise{Composite{Switch(Identity(GE(Composite{Switch(GE(i0, i1), i2, i3)}(i0, i1, i2, i3), i4)), ((Switch(EQ(Composite{Switch(GE(i0, i1), i2, i3)}(i0, i1, i2, i3), i4), i5, (i6 * log(Composite{Switch(GE(i0, i1), i2, i3)}(i0, i1, i2, i3)))) - i7) - Composite{Switch(GE(i0, i1), i2, i3)}(i0, i1, i2, i3)), i5)}}(inarray, TensorConstant{[  0   1  ..8 149 150]}, InplaceDimShuffle{x}.0, InplaceDimShuffle{x}.0, TensorConstant{(1,) of 0}, TensorConstant{(1,) of -inf}, TensorConstant{[  283.  4...\n    65.]}, TensorConstant{[  1318.40...34258675]}), '\\n')",
     "output_type": "error",
     "traceback": [
      "\u001b[0;31m---------------------------------------------------------------------------\u001b[0m",
      "\u001b[0;31mAssertionError\u001b[0m                            Traceback (most recent call last)",
      "\u001b[0;32m<ipython-input-83-8f107e2d6a50>\u001b[0m in \u001b[0;36m<module>\u001b[0;34m()\u001b[0m\n\u001b[1;32m      8\u001b[0m     \u001b[0;32mreturn\u001b[0m \u001b[0msaved_traces\u001b[0m\u001b[0;34m\u001b[0m\u001b[0m\n\u001b[1;32m      9\u001b[0m \u001b[0;34m\u001b[0m\u001b[0m\n\u001b[0;32m---> 10\u001b[0;31m \u001b[0msaved_traces\u001b[0m \u001b[0;34m=\u001b[0m \u001b[0mprediction\u001b[0m\u001b[0;34m(\u001b[0m\u001b[0;34m)\u001b[0m\u001b[0;34m\u001b[0m\u001b[0m\n\u001b[0m",
      "\u001b[0;32m<ipython-input-83-8f107e2d6a50>\u001b[0m in \u001b[0;36mprediction\u001b[0;34m()\u001b[0m\n\u001b[1;32m      4\u001b[0m     \u001b[0;32mfor\u001b[0m \u001b[0mstation\u001b[0m \u001b[0;32min\u001b[0m \u001b[0mdata\u001b[0m\u001b[0;34m.\u001b[0m\u001b[0mcolumns\u001b[0m\u001b[0;34m:\u001b[0m\u001b[0;34m\u001b[0m\u001b[0m\n\u001b[1;32m      5\u001b[0m         \u001b[0mdf\u001b[0m \u001b[0;34m=\u001b[0m \u001b[0mdata\u001b[0m\u001b[0;34m[\u001b[0m\u001b[0mstation\u001b[0m\u001b[0;34m]\u001b[0m\u001b[0;34m.\u001b[0m\u001b[0mfillna\u001b[0m\u001b[0;34m(\u001b[0m\u001b[0;36m0\u001b[0m\u001b[0;34m)\u001b[0m\u001b[0;34m\u001b[0m\u001b[0m\n\u001b[0;32m----> 6\u001b[0;31m         \u001b[0mtrace\u001b[0m \u001b[0;34m=\u001b[0m \u001b[0mrs\u001b[0m\u001b[0;34m.\u001b[0m\u001b[0mget_model_results\u001b[0m\u001b[0;34m(\u001b[0m\u001b[0mdf\u001b[0m\u001b[0;34m,\u001b[0m \u001b[0msample\u001b[0m\u001b[0;34m=\u001b[0m\u001b[0;36m10000\u001b[0m\u001b[0;34m,\u001b[0m \u001b[0mtune\u001b[0m\u001b[0;34m=\u001b[0m\u001b[0;36m5000\u001b[0m\u001b[0;34m)\u001b[0m\u001b[0;34m\u001b[0m\u001b[0m\n\u001b[0m\u001b[1;32m      7\u001b[0m         \u001b[0msaved_traces\u001b[0m\u001b[0;34m.\u001b[0m\u001b[0mappend\u001b[0m\u001b[0;34m(\u001b[0m\u001b[0mtrace\u001b[0m\u001b[0;34m[\u001b[0m\u001b[0;36m5000\u001b[0m\u001b[0;34m:\u001b[0m\u001b[0;34m]\u001b[0m\u001b[0;34m)\u001b[0m\u001b[0;34m\u001b[0m\u001b[0m\n\u001b[1;32m      8\u001b[0m     \u001b[0;32mreturn\u001b[0m \u001b[0msaved_traces\u001b[0m\u001b[0;34m\u001b[0m\u001b[0m\n",
      "\u001b[0;32m/home/mikemoran/Insight/switchyard_analysis/run_single.py\u001b[0m in \u001b[0;36mget_model_results\u001b[0;34m(data, sample, tune)\u001b[0m\n\u001b[1;32m     77\u001b[0m         \u001b[0mlambda_\u001b[0m \u001b[0;34m=\u001b[0m \u001b[0mpm\u001b[0m\u001b[0;34m.\u001b[0m\u001b[0mmath\u001b[0m\u001b[0;34m.\u001b[0m\u001b[0mswitch\u001b[0m\u001b[0;34m(\u001b[0m\u001b[0mtau\u001b[0m \u001b[0;34m>=\u001b[0m \u001b[0midx\u001b[0m\u001b[0;34m,\u001b[0m \u001b[0mlambda_1\u001b[0m\u001b[0;34m,\u001b[0m \u001b[0mlambda_2\u001b[0m\u001b[0;34m)\u001b[0m\u001b[0;34m\u001b[0m\u001b[0m\n\u001b[1;32m     78\u001b[0m         \u001b[0mobservation\u001b[0m \u001b[0;34m=\u001b[0m \u001b[0mpm\u001b[0m\u001b[0;34m.\u001b[0m\u001b[0mPoisson\u001b[0m\u001b[0;34m(\u001b[0m\u001b[0;34m'observed'\u001b[0m\u001b[0;34m,\u001b[0m \u001b[0mlambda_\u001b[0m\u001b[0;34m,\u001b[0m \u001b[0mobserved\u001b[0m\u001b[0;34m=\u001b[0m\u001b[0mdata\u001b[0m\u001b[0;34m.\u001b[0m\u001b[0mvalues\u001b[0m\u001b[0;34m)\u001b[0m\u001b[0;34m\u001b[0m\u001b[0m\n\u001b[0;32m---> 79\u001b[0;31m         \u001b[0mstep\u001b[0m \u001b[0;34m=\u001b[0m \u001b[0mpm\u001b[0m\u001b[0;34m.\u001b[0m\u001b[0mMetropolis\u001b[0m\u001b[0;34m(\u001b[0m\u001b[0;34m)\u001b[0m\u001b[0;34m\u001b[0m\u001b[0m\n\u001b[0m\u001b[1;32m     80\u001b[0m         \u001b[0mtrace\u001b[0m \u001b[0;34m=\u001b[0m \u001b[0mpm\u001b[0m\u001b[0;34m.\u001b[0m\u001b[0msample\u001b[0m\u001b[0;34m(\u001b[0m\u001b[0msample\u001b[0m\u001b[0;34m,\u001b[0m \u001b[0mtune\u001b[0m\u001b[0;34m=\u001b[0m\u001b[0mtune\u001b[0m\u001b[0;34m,\u001b[0m \u001b[0mstep\u001b[0m\u001b[0;34m=\u001b[0m\u001b[0mstep\u001b[0m\u001b[0;34m)\u001b[0m\u001b[0;34m\u001b[0m\u001b[0m\n\u001b[1;32m     81\u001b[0m     \u001b[0;32mreturn\u001b[0m \u001b[0mtrace\u001b[0m\u001b[0;34m\u001b[0m\u001b[0m\n",
      "\u001b[0;32m/opt/miniconda3/lib/python3.6/site-packages/pymc3/step_methods/arraystep.py\u001b[0m in \u001b[0;36m__new__\u001b[0;34m(cls, *args, **kwargs)\u001b[0m\n\u001b[1;32m     58\u001b[0m                 \u001b[0;31m# If we don't return the instance we have to manually\u001b[0m\u001b[0;34m\u001b[0m\u001b[0;34m\u001b[0m\u001b[0m\n\u001b[1;32m     59\u001b[0m                 \u001b[0;31m# call __init__\u001b[0m\u001b[0;34m\u001b[0m\u001b[0;34m\u001b[0m\u001b[0m\n\u001b[0;32m---> 60\u001b[0;31m                 \u001b[0mstep\u001b[0m\u001b[0;34m.\u001b[0m\u001b[0m__init__\u001b[0m\u001b[0;34m(\u001b[0m\u001b[0;34m[\u001b[0m\u001b[0mvar\u001b[0m\u001b[0;34m]\u001b[0m\u001b[0;34m,\u001b[0m \u001b[0;34m*\u001b[0m\u001b[0margs\u001b[0m\u001b[0;34m,\u001b[0m \u001b[0;34m**\u001b[0m\u001b[0mkwargs\u001b[0m\u001b[0;34m)\u001b[0m\u001b[0;34m\u001b[0m\u001b[0m\n\u001b[0m\u001b[1;32m     61\u001b[0m                 \u001b[0;31m# Hack for creating the class correctly when unpickling.\u001b[0m\u001b[0;34m\u001b[0m\u001b[0;34m\u001b[0m\u001b[0m\n\u001b[1;32m     62\u001b[0m                 \u001b[0mstep\u001b[0m\u001b[0;34m.\u001b[0m\u001b[0m__newargs\u001b[0m \u001b[0;34m=\u001b[0m \u001b[0;34m(\u001b[0m\u001b[0;34m[\u001b[0m\u001b[0mvar\u001b[0m\u001b[0;34m]\u001b[0m\u001b[0;34m,\u001b[0m \u001b[0;34m)\u001b[0m \u001b[0;34m+\u001b[0m \u001b[0margs\u001b[0m\u001b[0;34m,\u001b[0m \u001b[0mkwargs\u001b[0m\u001b[0;34m\u001b[0m\u001b[0m\n",
      "\u001b[0;32m/opt/miniconda3/lib/python3.6/site-packages/pymc3/step_methods/metropolis.py\u001b[0m in \u001b[0;36m__init__\u001b[0;34m(self, vars, S, proposal_dist, scaling, tune, tune_interval, model, **kwargs)\u001b[0m\n\u001b[1;32m     96\u001b[0m \u001b[0;34m\u001b[0m\u001b[0m\n\u001b[1;32m     97\u001b[0m         \u001b[0mshared\u001b[0m \u001b[0;34m=\u001b[0m \u001b[0mpm\u001b[0m\u001b[0;34m.\u001b[0m\u001b[0mmake_shared_replacements\u001b[0m\u001b[0;34m(\u001b[0m\u001b[0mvars\u001b[0m\u001b[0;34m,\u001b[0m \u001b[0mmodel\u001b[0m\u001b[0;34m)\u001b[0m\u001b[0;34m\u001b[0m\u001b[0m\n\u001b[0;32m---> 98\u001b[0;31m         \u001b[0mself\u001b[0m\u001b[0;34m.\u001b[0m\u001b[0mdelta_logp\u001b[0m \u001b[0;34m=\u001b[0m \u001b[0mdelta_logp\u001b[0m\u001b[0;34m(\u001b[0m\u001b[0mmodel\u001b[0m\u001b[0;34m.\u001b[0m\u001b[0mlogpt\u001b[0m\u001b[0;34m,\u001b[0m \u001b[0mvars\u001b[0m\u001b[0;34m,\u001b[0m \u001b[0mshared\u001b[0m\u001b[0;34m)\u001b[0m\u001b[0;34m\u001b[0m\u001b[0m\n\u001b[0m\u001b[1;32m     99\u001b[0m         \u001b[0msuper\u001b[0m\u001b[0;34m(\u001b[0m\u001b[0mMetropolis\u001b[0m\u001b[0;34m,\u001b[0m \u001b[0mself\u001b[0m\u001b[0;34m)\u001b[0m\u001b[0;34m.\u001b[0m\u001b[0m__init__\u001b[0m\u001b[0;34m(\u001b[0m\u001b[0mvars\u001b[0m\u001b[0;34m,\u001b[0m \u001b[0mshared\u001b[0m\u001b[0;34m)\u001b[0m\u001b[0;34m\u001b[0m\u001b[0m\n\u001b[1;32m    100\u001b[0m \u001b[0;34m\u001b[0m\u001b[0m\n",
      "\u001b[0;32m/opt/miniconda3/lib/python3.6/site-packages/pymc3/step_methods/metropolis.py\u001b[0m in \u001b[0;36mdelta_logp\u001b[0;34m(logp, vars, shared)\u001b[0m\n\u001b[1;32m    431\u001b[0m     \u001b[0mlogp1\u001b[0m \u001b[0;34m=\u001b[0m \u001b[0mpm\u001b[0m\u001b[0;34m.\u001b[0m\u001b[0mCallableTensor\u001b[0m\u001b[0;34m(\u001b[0m\u001b[0mlogp0\u001b[0m\u001b[0;34m)\u001b[0m\u001b[0;34m(\u001b[0m\u001b[0minarray1\u001b[0m\u001b[0;34m)\u001b[0m\u001b[0;34m\u001b[0m\u001b[0m\n\u001b[1;32m    432\u001b[0m \u001b[0;34m\u001b[0m\u001b[0m\n\u001b[0;32m--> 433\u001b[0;31m     \u001b[0mf\u001b[0m \u001b[0;34m=\u001b[0m \u001b[0mtheano\u001b[0m\u001b[0;34m.\u001b[0m\u001b[0mfunction\u001b[0m\u001b[0;34m(\u001b[0m\u001b[0;34m[\u001b[0m\u001b[0minarray1\u001b[0m\u001b[0;34m,\u001b[0m \u001b[0minarray0\u001b[0m\u001b[0;34m]\u001b[0m\u001b[0;34m,\u001b[0m \u001b[0mlogp1\u001b[0m \u001b[0;34m-\u001b[0m \u001b[0mlogp0\u001b[0m\u001b[0;34m)\u001b[0m\u001b[0;34m\u001b[0m\u001b[0m\n\u001b[0m\u001b[1;32m    434\u001b[0m     \u001b[0mf\u001b[0m\u001b[0;34m.\u001b[0m\u001b[0mtrust_input\u001b[0m \u001b[0;34m=\u001b[0m \u001b[0;32mTrue\u001b[0m\u001b[0;34m\u001b[0m\u001b[0m\n\u001b[1;32m    435\u001b[0m     \u001b[0;32mreturn\u001b[0m \u001b[0mf\u001b[0m\u001b[0;34m\u001b[0m\u001b[0m\n",
      "\u001b[0;32m/opt/miniconda3/lib/python3.6/site-packages/theano/compile/function.py\u001b[0m in \u001b[0;36mfunction\u001b[0;34m(inputs, outputs, mode, updates, givens, no_default_updates, accept_inplace, name, rebuild_strict, allow_input_downcast, profile, on_unused_input)\u001b[0m\n\u001b[1;32m    324\u001b[0m                    \u001b[0mon_unused_input\u001b[0m\u001b[0;34m=\u001b[0m\u001b[0mon_unused_input\u001b[0m\u001b[0;34m,\u001b[0m\u001b[0;34m\u001b[0m\u001b[0m\n\u001b[1;32m    325\u001b[0m                    \u001b[0mprofile\u001b[0m\u001b[0;34m=\u001b[0m\u001b[0mprofile\u001b[0m\u001b[0;34m,\u001b[0m\u001b[0;34m\u001b[0m\u001b[0m\n\u001b[0;32m--> 326\u001b[0;31m                    output_keys=output_keys)\n\u001b[0m\u001b[1;32m    327\u001b[0m     \u001b[0;31m# We need to add the flag check_aliased inputs if we have any mutable or\u001b[0m\u001b[0;34m\u001b[0m\u001b[0;34m\u001b[0m\u001b[0m\n\u001b[1;32m    328\u001b[0m     \u001b[0;31m# borrowed used defined inputs\u001b[0m\u001b[0;34m\u001b[0m\u001b[0;34m\u001b[0m\u001b[0m\n",
      "\u001b[0;32m/opt/miniconda3/lib/python3.6/site-packages/theano/compile/pfunc.py\u001b[0m in \u001b[0;36mpfunc\u001b[0;34m(params, outputs, mode, updates, givens, no_default_updates, accept_inplace, name, rebuild_strict, allow_input_downcast, profile, on_unused_input, output_keys)\u001b[0m\n\u001b[1;32m    484\u001b[0m                          \u001b[0maccept_inplace\u001b[0m\u001b[0;34m=\u001b[0m\u001b[0maccept_inplace\u001b[0m\u001b[0;34m,\u001b[0m \u001b[0mname\u001b[0m\u001b[0;34m=\u001b[0m\u001b[0mname\u001b[0m\u001b[0;34m,\u001b[0m\u001b[0;34m\u001b[0m\u001b[0m\n\u001b[1;32m    485\u001b[0m                          \u001b[0mprofile\u001b[0m\u001b[0;34m=\u001b[0m\u001b[0mprofile\u001b[0m\u001b[0;34m,\u001b[0m \u001b[0mon_unused_input\u001b[0m\u001b[0;34m=\u001b[0m\u001b[0mon_unused_input\u001b[0m\u001b[0;34m,\u001b[0m\u001b[0;34m\u001b[0m\u001b[0m\n\u001b[0;32m--> 486\u001b[0;31m                          output_keys=output_keys)\n\u001b[0m\u001b[1;32m    487\u001b[0m \u001b[0;34m\u001b[0m\u001b[0m\n\u001b[1;32m    488\u001b[0m \u001b[0;34m\u001b[0m\u001b[0m\n",
      "\u001b[0;32m/opt/miniconda3/lib/python3.6/site-packages/theano/compile/function_module.py\u001b[0m in \u001b[0;36morig_function\u001b[0;34m(inputs, outputs, mode, accept_inplace, name, profile, on_unused_input, output_keys)\u001b[0m\n\u001b[1;32m   1793\u001b[0m                    \u001b[0mon_unused_input\u001b[0m\u001b[0;34m=\u001b[0m\u001b[0mon_unused_input\u001b[0m\u001b[0;34m,\u001b[0m\u001b[0;34m\u001b[0m\u001b[0m\n\u001b[1;32m   1794\u001b[0m                    \u001b[0moutput_keys\u001b[0m\u001b[0;34m=\u001b[0m\u001b[0moutput_keys\u001b[0m\u001b[0;34m)\u001b[0m\u001b[0;34m.\u001b[0m\u001b[0mcreate\u001b[0m\u001b[0;34m(\u001b[0m\u001b[0;34m\u001b[0m\u001b[0m\n\u001b[0;32m-> 1795\u001b[0;31m             defaults)\n\u001b[0m\u001b[1;32m   1796\u001b[0m \u001b[0;34m\u001b[0m\u001b[0m\n\u001b[1;32m   1797\u001b[0m     \u001b[0mt2\u001b[0m \u001b[0;34m=\u001b[0m \u001b[0mtime\u001b[0m\u001b[0;34m.\u001b[0m\u001b[0mtime\u001b[0m\u001b[0;34m(\u001b[0m\u001b[0;34m)\u001b[0m\u001b[0;34m\u001b[0m\u001b[0m\n",
      "\u001b[0;32m/opt/miniconda3/lib/python3.6/site-packages/theano/compile/function_module.py\u001b[0m in \u001b[0;36mcreate\u001b[0;34m(self, input_storage, trustme, storage_map)\u001b[0m\n\u001b[1;32m   1659\u001b[0m             \u001b[0mtheano\u001b[0m\u001b[0;34m.\u001b[0m\u001b[0mconfig\u001b[0m\u001b[0;34m.\u001b[0m\u001b[0mtraceback\u001b[0m\u001b[0;34m.\u001b[0m\u001b[0mlimit\u001b[0m \u001b[0;34m=\u001b[0m \u001b[0mtheano\u001b[0m\u001b[0;34m.\u001b[0m\u001b[0mconfig\u001b[0m\u001b[0;34m.\u001b[0m\u001b[0mtraceback\u001b[0m\u001b[0;34m.\u001b[0m\u001b[0mcompile_limit\u001b[0m\u001b[0;34m\u001b[0m\u001b[0m\n\u001b[1;32m   1660\u001b[0m             _fn, _i, _o = self.linker.make_thunk(\n\u001b[0;32m-> 1661\u001b[0;31m                 input_storage=input_storage_lists, storage_map=storage_map)\n\u001b[0m\u001b[1;32m   1662\u001b[0m         \u001b[0;32mfinally\u001b[0m\u001b[0;34m:\u001b[0m\u001b[0;34m\u001b[0m\u001b[0m\n\u001b[1;32m   1663\u001b[0m             \u001b[0mtheano\u001b[0m\u001b[0;34m.\u001b[0m\u001b[0mconfig\u001b[0m\u001b[0;34m.\u001b[0m\u001b[0mtraceback\u001b[0m\u001b[0;34m.\u001b[0m\u001b[0mlimit\u001b[0m \u001b[0;34m=\u001b[0m \u001b[0mlimit_orig\u001b[0m\u001b[0;34m\u001b[0m\u001b[0m\n",
      "\u001b[0;32m/opt/miniconda3/lib/python3.6/site-packages/theano/gof/link.py\u001b[0m in \u001b[0;36mmake_thunk\u001b[0;34m(self, input_storage, output_storage, storage_map)\u001b[0m\n\u001b[1;32m    697\u001b[0m         return self.make_all(input_storage=input_storage,\n\u001b[1;32m    698\u001b[0m                              \u001b[0moutput_storage\u001b[0m\u001b[0;34m=\u001b[0m\u001b[0moutput_storage\u001b[0m\u001b[0;34m,\u001b[0m\u001b[0;34m\u001b[0m\u001b[0m\n\u001b[0;32m--> 699\u001b[0;31m                              storage_map=storage_map)[:3]\n\u001b[0m\u001b[1;32m    700\u001b[0m \u001b[0;34m\u001b[0m\u001b[0m\n\u001b[1;32m    701\u001b[0m     \u001b[0;32mdef\u001b[0m \u001b[0mmake_all\u001b[0m\u001b[0;34m(\u001b[0m\u001b[0mself\u001b[0m\u001b[0;34m,\u001b[0m \u001b[0minput_storage\u001b[0m\u001b[0;34m,\u001b[0m \u001b[0moutput_storage\u001b[0m\u001b[0;34m)\u001b[0m\u001b[0;34m:\u001b[0m\u001b[0;34m\u001b[0m\u001b[0m\n",
      "\u001b[0;32m/opt/miniconda3/lib/python3.6/site-packages/theano/gof/vm.py\u001b[0m in \u001b[0;36mmake_all\u001b[0;34m(self, profiler, input_storage, output_storage, storage_map)\u001b[0m\n\u001b[1;32m   1045\u001b[0m                                                  \u001b[0mcompute_map\u001b[0m\u001b[0;34m,\u001b[0m\u001b[0;34m\u001b[0m\u001b[0m\n\u001b[1;32m   1046\u001b[0m                                                  \u001b[0mno_recycling\u001b[0m\u001b[0;34m,\u001b[0m\u001b[0;34m\u001b[0m\u001b[0m\n\u001b[0;32m-> 1047\u001b[0;31m                                                  impl=impl))\n\u001b[0m\u001b[1;32m   1048\u001b[0m                 \u001b[0mlinker_make_thunk_time\u001b[0m\u001b[0;34m[\u001b[0m\u001b[0mnode\u001b[0m\u001b[0;34m]\u001b[0m \u001b[0;34m=\u001b[0m \u001b[0mtime\u001b[0m\u001b[0;34m.\u001b[0m\u001b[0mtime\u001b[0m\u001b[0;34m(\u001b[0m\u001b[0;34m)\u001b[0m \u001b[0;34m-\u001b[0m \u001b[0mthunk_start\u001b[0m\u001b[0;34m\u001b[0m\u001b[0m\n\u001b[1;32m   1049\u001b[0m                 \u001b[0;32mif\u001b[0m \u001b[0;32mnot\u001b[0m \u001b[0mhasattr\u001b[0m\u001b[0;34m(\u001b[0m\u001b[0mthunks\u001b[0m\u001b[0;34m[\u001b[0m\u001b[0;34m-\u001b[0m\u001b[0;36m1\u001b[0m\u001b[0;34m]\u001b[0m\u001b[0;34m,\u001b[0m \u001b[0;34m'lazy'\u001b[0m\u001b[0;34m)\u001b[0m\u001b[0;34m:\u001b[0m\u001b[0;34m\u001b[0m\u001b[0m\n",
      "\u001b[0;32m/opt/miniconda3/lib/python3.6/site-packages/theano/gof/op.py\u001b[0m in \u001b[0;36mmake_thunk\u001b[0;34m(self, node, storage_map, compute_map, no_recycling, impl)\u001b[0m\n\u001b[1;32m    933\u001b[0m             \u001b[0;32mtry\u001b[0m\u001b[0;34m:\u001b[0m\u001b[0;34m\u001b[0m\u001b[0m\n\u001b[1;32m    934\u001b[0m                 return self.make_c_thunk(node, storage_map, compute_map,\n\u001b[0;32m--> 935\u001b[0;31m                                          no_recycling)\n\u001b[0m\u001b[1;32m    936\u001b[0m             \u001b[0;32mexcept\u001b[0m \u001b[0;34m(\u001b[0m\u001b[0mNotImplementedError\u001b[0m\u001b[0;34m,\u001b[0m \u001b[0mutils\u001b[0m\u001b[0;34m.\u001b[0m\u001b[0mMethodNotDefined\u001b[0m\u001b[0;34m)\u001b[0m\u001b[0;34m:\u001b[0m\u001b[0;34m\u001b[0m\u001b[0m\n\u001b[1;32m    937\u001b[0m                 \u001b[0;31m# We requested the c code, so don't catch the error.\u001b[0m\u001b[0;34m\u001b[0m\u001b[0;34m\u001b[0m\u001b[0m\n",
      "\u001b[0;32m/opt/miniconda3/lib/python3.6/site-packages/theano/gof/op.py\u001b[0m in \u001b[0;36mmake_c_thunk\u001b[0;34m(self, node, storage_map, compute_map, no_recycling)\u001b[0m\n\u001b[1;32m    837\u001b[0m         \u001b[0m_logger\u001b[0m\u001b[0;34m.\u001b[0m\u001b[0mdebug\u001b[0m\u001b[0;34m(\u001b[0m\u001b[0;34m'Trying CLinker.make_thunk'\u001b[0m\u001b[0;34m)\u001b[0m\u001b[0;34m\u001b[0m\u001b[0m\n\u001b[1;32m    838\u001b[0m         outputs = cl.make_thunk(input_storage=node_input_storage,\n\u001b[0;32m--> 839\u001b[0;31m                                 output_storage=node_output_storage)\n\u001b[0m\u001b[1;32m    840\u001b[0m         \u001b[0mfill_storage\u001b[0m\u001b[0;34m,\u001b[0m \u001b[0mnode_input_filters\u001b[0m\u001b[0;34m,\u001b[0m \u001b[0mnode_output_filters\u001b[0m \u001b[0;34m=\u001b[0m \u001b[0moutputs\u001b[0m\u001b[0;34m\u001b[0m\u001b[0m\n\u001b[1;32m    841\u001b[0m \u001b[0;34m\u001b[0m\u001b[0m\n",
      "\u001b[0;32m/opt/miniconda3/lib/python3.6/site-packages/theano/gof/cc.py\u001b[0m in \u001b[0;36mmake_thunk\u001b[0;34m(self, input_storage, output_storage, storage_map, keep_lock)\u001b[0m\n\u001b[1;32m   1188\u001b[0m         cthunk, in_storage, out_storage, error_storage = self.__compile__(\n\u001b[1;32m   1189\u001b[0m             \u001b[0minput_storage\u001b[0m\u001b[0;34m,\u001b[0m \u001b[0moutput_storage\u001b[0m\u001b[0;34m,\u001b[0m \u001b[0mstorage_map\u001b[0m\u001b[0;34m,\u001b[0m\u001b[0;34m\u001b[0m\u001b[0m\n\u001b[0;32m-> 1190\u001b[0;31m             keep_lock=keep_lock)\n\u001b[0m\u001b[1;32m   1191\u001b[0m \u001b[0;34m\u001b[0m\u001b[0m\n\u001b[1;32m   1192\u001b[0m         \u001b[0mres\u001b[0m \u001b[0;34m=\u001b[0m \u001b[0m_CThunk\u001b[0m\u001b[0;34m(\u001b[0m\u001b[0mcthunk\u001b[0m\u001b[0;34m,\u001b[0m \u001b[0minit_tasks\u001b[0m\u001b[0;34m,\u001b[0m \u001b[0mtasks\u001b[0m\u001b[0;34m,\u001b[0m \u001b[0merror_storage\u001b[0m\u001b[0;34m)\u001b[0m\u001b[0;34m\u001b[0m\u001b[0m\n",
      "\u001b[0;32m/opt/miniconda3/lib/python3.6/site-packages/theano/gof/cc.py\u001b[0m in \u001b[0;36m__compile__\u001b[0;34m(self, input_storage, output_storage, storage_map, keep_lock)\u001b[0m\n\u001b[1;32m   1129\u001b[0m                                     \u001b[0moutput_storage\u001b[0m\u001b[0;34m,\u001b[0m\u001b[0;34m\u001b[0m\u001b[0m\n\u001b[1;32m   1130\u001b[0m                                     \u001b[0mstorage_map\u001b[0m\u001b[0;34m,\u001b[0m\u001b[0;34m\u001b[0m\u001b[0m\n\u001b[0;32m-> 1131\u001b[0;31m                                     keep_lock=keep_lock)\n\u001b[0m\u001b[1;32m   1132\u001b[0m         return (thunk,\n\u001b[1;32m   1133\u001b[0m                 [link.Container(input, storage) for input, storage in\n",
      "\u001b[0;32m/opt/miniconda3/lib/python3.6/site-packages/theano/gof/cc.py\u001b[0m in \u001b[0;36mcthunk_factory\u001b[0;34m(self, error_storage, in_storage, out_storage, storage_map, keep_lock)\u001b[0m\n\u001b[1;32m   1584\u001b[0m                 \u001b[0mnode\u001b[0m\u001b[0;34m.\u001b[0m\u001b[0mop\u001b[0m\u001b[0;34m.\u001b[0m\u001b[0mprepare_node\u001b[0m\u001b[0;34m(\u001b[0m\u001b[0mnode\u001b[0m\u001b[0;34m,\u001b[0m \u001b[0mstorage_map\u001b[0m\u001b[0;34m,\u001b[0m \u001b[0;32mNone\u001b[0m\u001b[0;34m,\u001b[0m \u001b[0;34m'c'\u001b[0m\u001b[0;34m)\u001b[0m\u001b[0;34m\u001b[0m\u001b[0m\n\u001b[1;32m   1585\u001b[0m             module = get_module_cache().module_from_key(\n\u001b[0;32m-> 1586\u001b[0;31m                 key=key, lnk=self, keep_lock=keep_lock)\n\u001b[0m\u001b[1;32m   1587\u001b[0m \u001b[0;34m\u001b[0m\u001b[0m\n\u001b[1;32m   1588\u001b[0m         \u001b[0mvars\u001b[0m \u001b[0;34m=\u001b[0m \u001b[0mself\u001b[0m\u001b[0;34m.\u001b[0m\u001b[0minputs\u001b[0m \u001b[0;34m+\u001b[0m \u001b[0mself\u001b[0m\u001b[0;34m.\u001b[0m\u001b[0moutputs\u001b[0m \u001b[0;34m+\u001b[0m \u001b[0mself\u001b[0m\u001b[0;34m.\u001b[0m\u001b[0morphans\u001b[0m\u001b[0;34m\u001b[0m\u001b[0m\n",
      "\u001b[0;32m/opt/miniconda3/lib/python3.6/site-packages/theano/gof/cmodule.py\u001b[0m in \u001b[0;36mmodule_from_key\u001b[0;34m(self, key, lnk, keep_lock)\u001b[0m\n\u001b[1;32m   1123\u001b[0m         \u001b[0;31m# Is the source code already in the cache?\u001b[0m\u001b[0;34m\u001b[0m\u001b[0;34m\u001b[0m\u001b[0m\n\u001b[1;32m   1124\u001b[0m         \u001b[0mmodule_hash\u001b[0m \u001b[0;34m=\u001b[0m \u001b[0mget_module_hash\u001b[0m\u001b[0;34m(\u001b[0m\u001b[0msrc_code\u001b[0m\u001b[0;34m,\u001b[0m \u001b[0mkey\u001b[0m\u001b[0;34m)\u001b[0m\u001b[0;34m\u001b[0m\u001b[0m\n\u001b[0;32m-> 1125\u001b[0;31m         \u001b[0mmodule\u001b[0m \u001b[0;34m=\u001b[0m \u001b[0mself\u001b[0m\u001b[0;34m.\u001b[0m\u001b[0m_get_from_hash\u001b[0m\u001b[0;34m(\u001b[0m\u001b[0mmodule_hash\u001b[0m\u001b[0;34m,\u001b[0m \u001b[0mkey\u001b[0m\u001b[0;34m,\u001b[0m \u001b[0mkeep_lock\u001b[0m\u001b[0;34m=\u001b[0m\u001b[0mkeep_lock\u001b[0m\u001b[0;34m)\u001b[0m\u001b[0;34m\u001b[0m\u001b[0m\n\u001b[0m\u001b[1;32m   1126\u001b[0m         \u001b[0;32mif\u001b[0m \u001b[0mmodule\u001b[0m \u001b[0;32mis\u001b[0m \u001b[0;32mnot\u001b[0m \u001b[0;32mNone\u001b[0m\u001b[0;34m:\u001b[0m\u001b[0;34m\u001b[0m\u001b[0m\n\u001b[1;32m   1127\u001b[0m             \u001b[0;32mreturn\u001b[0m \u001b[0mmodule\u001b[0m\u001b[0;34m\u001b[0m\u001b[0m\n",
      "\u001b[0;32m/opt/miniconda3/lib/python3.6/site-packages/theano/gof/cmodule.py\u001b[0m in \u001b[0;36m_get_from_hash\u001b[0;34m(self, module_hash, key, keep_lock)\u001b[0m\n\u001b[1;32m   1023\u001b[0m             \u001b[0;32mwith\u001b[0m \u001b[0mcompilelock\u001b[0m\u001b[0;34m.\u001b[0m\u001b[0mlock_ctx\u001b[0m\u001b[0;34m(\u001b[0m\u001b[0mkeep_lock\u001b[0m\u001b[0;34m=\u001b[0m\u001b[0mkeep_lock\u001b[0m\u001b[0;34m)\u001b[0m\u001b[0;34m:\u001b[0m\u001b[0;34m\u001b[0m\u001b[0m\n\u001b[1;32m   1024\u001b[0m                 \u001b[0;32mtry\u001b[0m\u001b[0;34m:\u001b[0m\u001b[0;34m\u001b[0m\u001b[0m\n\u001b[0;32m-> 1025\u001b[0;31m                     \u001b[0mkey_data\u001b[0m\u001b[0;34m.\u001b[0m\u001b[0madd_key\u001b[0m\u001b[0;34m(\u001b[0m\u001b[0mkey\u001b[0m\u001b[0;34m,\u001b[0m \u001b[0msave_pkl\u001b[0m\u001b[0;34m=\u001b[0m\u001b[0mbool\u001b[0m\u001b[0;34m(\u001b[0m\u001b[0mkey\u001b[0m\u001b[0;34m[\u001b[0m\u001b[0;36m0\u001b[0m\u001b[0;34m]\u001b[0m\u001b[0;34m)\u001b[0m\u001b[0;34m)\u001b[0m\u001b[0;34m\u001b[0m\u001b[0m\n\u001b[0m\u001b[1;32m   1026\u001b[0m                     \u001b[0mkey_broken\u001b[0m \u001b[0;34m=\u001b[0m \u001b[0;32mFalse\u001b[0m\u001b[0;34m\u001b[0m\u001b[0m\n\u001b[1;32m   1027\u001b[0m                 \u001b[0;32mexcept\u001b[0m \u001b[0mpickle\u001b[0m\u001b[0;34m.\u001b[0m\u001b[0mPicklingError\u001b[0m\u001b[0;34m:\u001b[0m\u001b[0;34m\u001b[0m\u001b[0m\n",
      "\u001b[0;32m/opt/miniconda3/lib/python3.6/site-packages/theano/gof/cmodule.py\u001b[0m in \u001b[0;36madd_key\u001b[0;34m(self, key, save_pkl)\u001b[0m\n\u001b[1;32m    485\u001b[0m \u001b[0;34m\u001b[0m\u001b[0m\n\u001b[1;32m    486\u001b[0m         \"\"\"\n\u001b[0;32m--> 487\u001b[0;31m         \u001b[0;32massert\u001b[0m \u001b[0mkey\u001b[0m \u001b[0;32mnot\u001b[0m \u001b[0;32min\u001b[0m \u001b[0mself\u001b[0m\u001b[0;34m.\u001b[0m\u001b[0mkeys\u001b[0m\u001b[0;34m\u001b[0m\u001b[0m\n\u001b[0m\u001b[1;32m    488\u001b[0m         \u001b[0mself\u001b[0m\u001b[0;34m.\u001b[0m\u001b[0mkeys\u001b[0m\u001b[0;34m.\u001b[0m\u001b[0madd\u001b[0m\u001b[0;34m(\u001b[0m\u001b[0mkey\u001b[0m\u001b[0;34m)\u001b[0m\u001b[0;34m\u001b[0m\u001b[0m\n\u001b[1;32m    489\u001b[0m         \u001b[0;32mif\u001b[0m \u001b[0msave_pkl\u001b[0m\u001b[0;34m:\u001b[0m\u001b[0;34m\u001b[0m\u001b[0m\n",
      "\u001b[0;31mAssertionError\u001b[0m: ('The following error happened while compiling the node', Elemwise{Composite{Switch(Identity(GE(Composite{Switch(GE(i0, i1), i2, i3)}(i0, i1, i2, i3), i4)), ((Switch(EQ(Composite{Switch(GE(i0, i1), i2, i3)}(i0, i1, i2, i3), i4), i5, (i6 * log(Composite{Switch(GE(i0, i1), i2, i3)}(i0, i1, i2, i3)))) - i7) - Composite{Switch(GE(i0, i1), i2, i3)}(i0, i1, i2, i3)), i5)}}(inarray, TensorConstant{[  0   1  ..8 149 150]}, InplaceDimShuffle{x}.0, InplaceDimShuffle{x}.0, TensorConstant{(1,) of 0}, TensorConstant{(1,) of -inf}, TensorConstant{[  283.  4...\n    65.]}, TensorConstant{[  1318.40...34258675]}), '\\n')"
     ]
    }
   ],
   "source": [
    "# ignores burn-in from traces\n",
    "def prediction():\n",
    "    saved_traces = []\n",
    "    for station in data.columns:\n",
    "        df = data[station].fillna(0)\n",
    "        trace = rs.get_model_results(df, sample=10000, tune=5000)\n",
    "        saved_traces.append(trace[5000:])\n",
    "    return saved_traces\n",
    "\n",
    "saved_traces = prediction()"
   ]
  },
  {
   "cell_type": "code",
   "execution_count": 82,
   "metadata": {},
   "outputs": [
    {
     "name": "stdout",
     "output_type": "stream",
     "text": [
      "2017-06-23 17:51:13.864188\n"
     ]
    }
   ],
   "source": [
    "from datetime import datetime\n",
    "\n",
    "print(datetime.now())"
   ]
  },
  {
   "cell_type": "markdown",
   "metadata": {},
   "source": [
    "Now that we have our restricted traces, we can start looking at some of the values. First, let's check out one of the ones on the Q."
   ]
  },
  {
   "cell_type": "code",
   "execution_count": 22,
   "metadata": {},
   "outputs": [
    {
     "name": "stdout",
     "output_type": "stream",
     "text": [
      "R572\n",
      "1.0 0.0 12360.6088 16.3559335582\n"
     ]
    }
   ],
   "source": [
    "print(units[-1])\n",
    "r572_trace = saved_traces[-1]\n",
    "\n",
    "before = r572_trace.get_values('riders_before')\n",
    "after = r572_trace.get_values('riders_after')\n",
    "print(before.mean(), before.std(), after.mean(), after.std())"
   ]
  },
  {
   "cell_type": "markdown",
   "metadata": {},
   "source": [
    "That's what we expect. Now, for a station in the middle..."
   ]
  },
  {
   "cell_type": "code",
   "execution_count": 23,
   "metadata": {},
   "outputs": [
    {
     "name": "stdout",
     "output_type": "stream",
     "text": [
      "R210\n",
      "12241.2608 17.5510222882 10909.9632 14.6114422888\n"
     ]
    }
   ],
   "source": [
    "print(units[200])\n",
    "r_trace = saved_traces[200]\n",
    "\n",
    "before = r_trace.get_values('riders_before')\n",
    "after = r_trace.get_values('riders_after')\n",
    "print(before.mean(), before.std(), after.mean(), after.std())"
   ]
  },
  {
   "cell_type": "code",
   "execution_count": 24,
   "metadata": {},
   "outputs": [
    {
     "data": {
      "text/html": [
       "<div>\n",
       "<style>\n",
       "    .dataframe thead tr:only-child th {\n",
       "        text-align: right;\n",
       "    }\n",
       "\n",
       "    .dataframe thead th {\n",
       "        text-align: left;\n",
       "    }\n",
       "\n",
       "    .dataframe tbody tr th {\n",
       "        vertical-align: top;\n",
       "    }\n",
       "</style>\n",
       "<table border=\"1\" class=\"dataframe\">\n",
       "  <thead>\n",
       "    <tr style=\"text-align: right;\">\n",
       "      <th></th>\n",
       "      <th>unit</th>\n",
       "      <th>station</th>\n",
       "      <th>linename</th>\n",
       "      <th>c_a</th>\n",
       "    </tr>\n",
       "  </thead>\n",
       "  <tbody>\n",
       "    <tr>\n",
       "      <th>594</th>\n",
       "      <td>R210</td>\n",
       "      <td>BEVERLY RD</td>\n",
       "      <td>25</td>\n",
       "      <td>R641</td>\n",
       "    </tr>\n",
       "    <tr>\n",
       "      <th>595</th>\n",
       "      <td>R210</td>\n",
       "      <td>BEVERLY ROAD</td>\n",
       "      <td>25</td>\n",
       "      <td>R641</td>\n",
       "    </tr>\n",
       "  </tbody>\n",
       "</table>\n",
       "</div>"
      ],
      "text/plain": [
       "     unit       station linename   c_a\n",
       "594  R210    BEVERLY RD       25  R641\n",
       "595  R210  BEVERLY ROAD       25  R641"
      ]
     },
     "execution_count": 24,
     "metadata": {},
     "output_type": "execute_result"
    }
   ],
   "source": [
    "details = pd.read_sql('select * from details;', conn)\n",
    "details[details.unit == 'R210']"
   ]
  },
  {
   "cell_type": "code",
   "execution_count": 27,
   "metadata": {},
   "outputs": [
    {
     "name": "stderr",
     "output_type": "stream",
     "text": [
      "/opt/miniconda3/lib/python3.6/site-packages/matplotlib/figure.py:1743: UserWarning: This figure includes Axes that are not compatible with tight_layout, so its results might be incorrect.\n",
      "  warnings.warn(\"This figure includes Axes that are not \"\n"
     ]
    },
    {
     "data": {
      "image/png": "[encoded data removed]",
      "text/plain": [
       "<matplotlib.figure.Figure at 0x7fdbfe46ce80>"
      ]
     },
     "metadata": {},
     "output_type": "display_data"
    }
   ],
   "source": [
    "plt.hist(r_trace.get_values('riders_before'), bins=50, normed=True)\n",
    "plt.hist(r_trace.get_values('riders_after'), bins=50, normed=True)\n",
    "plt.show()"
   ]
  },
  {
   "cell_type": "code",
   "execution_count": 28,
   "metadata": {},
   "outputs": [
    {
     "data": {
      "text/plain": [
       "<matplotlib.axes._subplots.AxesSubplot at 0x7fdbf54024e0>"
      ]
     },
     "execution_count": 28,
     "metadata": {},
     "output_type": "execute_result"
    },
    {
     "name": "stderr",
     "output_type": "stream",
     "text": [
      "/opt/miniconda3/lib/python3.6/site-packages/matplotlib/figure.py:1743: UserWarning: This figure includes Axes that are not compatible with tight_layout, so its results might be incorrect.\n",
      "  warnings.warn(\"This figure includes Axes that are not \"\n"
     ]
    },
    {
     "data": {
      "image/png": "[encoded data removed]",
      "text/plain": [
       "<matplotlib.figure.Figure at 0x7fdbf9584358>"
      ]
     },
     "metadata": {},
     "output_type": "display_data"
    }
   ],
   "source": [
    "data['R210'].plot()"
   ]
  },
  {
   "cell_type": "code",
   "execution_count": 34,
   "metadata": {},
   "outputs": [
    {
     "data": {
      "text/plain": [
       "datetime.date(2016, 12, 23)"
      ]
     },
     "execution_count": 34,
     "metadata": {},
     "output_type": "execute_result"
    }
   ],
   "source": [
    "data.index[int(r_trace.get_values('day_of_shock').mean())]"
   ]
  },
  {
   "cell_type": "markdown",
   "metadata": {},
   "source": [
    "So, even though it picks out a day, we can safely assume that this was the model fitting the noise around the holidays. Since we're using 90 days, let's make sure that we're only looking at those stations that are near the actual day, +/- 3-5 days."
   ]
  },
  {
   "cell_type": "code",
   "execution_count": 35,
   "metadata": {},
   "outputs": [
    {
     "data": {
      "text/plain": [
       "46.0"
      ]
     },
     "execution_count": 35,
     "metadata": {},
     "output_type": "execute_result"
    }
   ],
   "source": [
    "r572_trace.get_values('day_of_shock').mean()"
   ]
  },
  {
   "cell_type": "code",
   "execution_count": 38,
   "metadata": {},
   "outputs": [
    {
     "data": {
      "text/plain": [
       "198"
      ]
     },
     "execution_count": 38,
     "metadata": {},
     "output_type": "execute_result"
    }
   ],
   "source": [
    "affected = []\n",
    "for unit, trace in zip(data.columns, saved_traces):\n",
    "    if 41 < trace.get_values('day_of_shock').mean() < 49:\n",
    "        affected.append((unit, trace))\n",
    "len(affected)"
   ]
  },
  {
   "cell_type": "markdown",
   "metadata": {},
   "source": [
    "We could try to limit this further, but we don't really know the underlying causes unless we go back to using some time series modeling, which I'm going to avoid for now. Let's calculate our deltas for these stations, and try to attribute the differences. But first, let's just visual those deltas."
   ]
  },
  {
   "cell_type": "code",
   "execution_count": 61,
   "metadata": {},
   "outputs": [
    {
     "name": "stdout",
     "output_type": "stream",
     "text": [
      "-107.455672727 3149.05865876\n"
     ]
    },
    {
     "name": "stderr",
     "output_type": "stream",
     "text": [
      "/opt/miniconda3/lib/python3.6/site-packages/matplotlib/figure.py:1743: UserWarning: This figure includes Axes that are not compatible with tight_layout, so its results might be incorrect.\n",
      "  warnings.warn(\"This figure includes Axes that are not \"\n"
     ]
    },
    {
     "data": {
      "image/png": "[encoded data removed]",
      "text/plain": [
       "<matplotlib.figure.Figure at 0x7fdbfbcb1b70>"
      ]
     },
     "metadata": {},
     "output_type": "display_data"
    }
   ],
   "source": [
    "diffs = np.array([(t.get_values('riders_after') - t.get_values('riders_before')).mean()\n",
    "                  for _, t in affected])\n",
    "print(diffs.mean(), diffs.std())\n",
    "_ = plt.hist(diffs, bins=50)"
   ]
  },
  {
   "cell_type": "markdown",
   "metadata": {},
   "source": [
    "So, we have a whole bunch of roughly zero change stations. Let's only keep those that saw a change of more than one standard deviation of riders in either direction."
   ]
  },
  {
   "cell_type": "code",
   "execution_count": 119,
   "metadata": {},
   "outputs": [
    {
     "data": {
      "text/plain": [
       "185"
      ]
     },
     "execution_count": 119,
     "metadata": {},
     "output_type": "execute_result"
    }
   ],
   "source": [
    "more_affected = []\n",
    "exclude = ['R010', 'R011', 'R012', 'R020', 'R021',\n",
    "           'R022',\n",
    "           'R031', 'R032', 'R033', 'R045', 'R046',\n",
    "           'R047', 'R048', 'R195', 'R293', 'R550']\n",
    "\n",
    "for unit, trace in affected:\n",
    "    if unit not in exclude:\n",
    "        before = trace.get_values('riders_before').mean()\n",
    "        after = trace.get_values('riders_after').mean()\n",
    "        more_affected.append((unit, trace))\n",
    "len(more_affected)"
   ]
  },
  {
   "cell_type": "markdown",
   "metadata": {},
   "source": [
    "*Much* more manageable! We'll say that these stations are the only ones I care about, and the start of our data from it.\n",
    "\n",
    "Elasticity\n",
    "------------\n",
    "\n",
    "I have two choices: I can create the values fo the ~200 stations that had changepoints near the correct day, or just for the 23 that saw changes above some threshold. I'll do the latter, since that's less calculating and the others would show marginal (at best) differences and shouldn't be taken into account."
   ]
  },
  {
   "cell_type": "code",
   "execution_count": 120,
   "metadata": {},
   "outputs": [
    {
     "name": "stdout",
     "output_type": "stream",
     "text": [
      "R006, R009, R014, R016, R017, R018, R022, R024, R049, R051, R054, R058, R067, R069, R072, R079, R080, R083, R087, R088, R089, R090, R094, R095, R096, R103, R106, R108, R113, R116, R118, R122, R124, R125, R136, R137, R139, R145, R146, R148, R149, R152, R153, R157, R162, R166, R168, R171, R174, R176, R178, R179, R184, R185, R188, R189, R190, R193, R194, R196, R197, R198, R202, R209, R211, R215, R217, R220, R221, R223, R226, R227, R229, R231, R232, R234, R236, R238, R239, R240, R241, R243, R245, R246, R247, R249, R253, R256, R257, R258, R259, R262, R265, R266, R268, R269, R271, R276, R277, R279, R280, R281, R282, R284, R285, R287, R288, R289, R290, R292, R297, R298, R299, R300, R303, R304, R306, R310, R312, R313, R317, R318, R319, R322, R326, R327, R328, R329, R333, R338, R342, R343, R344, R345, R346, R347, R348, R352, R353, R354, R355, R356, R359, R361, R362, R364, R370, R372, R377, R378, R379, R394, R402, R403, R404, R405, R411, R413, R414, R424, R427, R430, R431, R436, R437, R439, R441, R454, R455, R460, R462, R463, R464, R468, R541, R542, R543, R544, R545, R546, R548, R549, R570, R571, R572\n"
     ]
    }
   ],
   "source": [
    "units = [s[0] for s in more_affected]\n",
    "print(*units, sep=', ')"
   ]
  },
  {
   "cell_type": "code",
   "execution_count": 125,
   "metadata": {},
   "outputs": [
    {
     "name": "stdout",
     "output_type": "stream",
     "text": [
      "     unit station linename   c_a\n",
      "523  R179   86 ST      456  R249\n",
      "524  R179   86 ST      456  R250\n"
     ]
    },
    {
     "data": {
      "text/plain": [
       "<matplotlib.axes._subplots.AxesSubplot at 0x7fdbf69f40b8>"
      ]
     },
     "execution_count": 125,
     "metadata": {},
     "output_type": "execute_result"
    },
    {
     "name": "stderr",
     "output_type": "stream",
     "text": [
      "/opt/miniconda3/lib/python3.6/site-packages/matplotlib/figure.py:1743: UserWarning: This figure includes Axes that are not compatible with tight_layout, so its results might be incorrect.\n",
      "  warnings.warn(\"This figure includes Axes that are not \"\n"
     ]
    },
    {
     "data": {
      "image/png": "[encoded data removed]",
      "text/plain": [
       "<matplotlib.figure.Figure at 0x7fdbf80e2860>"
      ]
     },
     "metadata": {},
     "output_type": "display_data"
    }
   ],
   "source": [
    "u = 'R179'\n",
    "print(details[details.unit == u])\n",
    "data[u].plot()"
   ]
  },
  {
   "cell_type": "code",
   "execution_count": 126,
   "metadata": {},
   "outputs": [
    {
     "name": "stdout",
     "output_type": "stream",
     "text": [
      "R014 -9161.6796\n",
      "R017 -2351.7272\n",
      "R018 -2176.9924\n",
      "R022 -10379.6618\n",
      "R024 -1463.8204\n",
      "R049 -1907.6908\n",
      "R051 -5786.0592\n",
      "R054 -1516.9128\n",
      "R079 -2449.5902\n",
      "R080 3361.822\n",
      "R108 1820.732\n",
      "R113 -1233.2298\n",
      "R116 -3249.2052\n",
      "R166 -1563.811\n",
      "R171 1333.6228\n",
      "R176 -1819.073\n",
      "R178 -6540.5194\n",
      "R179 -15101.5586\n",
      "R188 -2337.8804\n",
      "R189 -1003.1784\n",
      "R202 -1218.5228\n",
      "R227 1212.5198\n",
      "R232 -2890.8548\n",
      "R236 1581.4444\n",
      "R257 -1558.9764\n",
      "R290 1344.621\n",
      "R300 -1977.6224\n",
      "R304 -1211.7008\n",
      "R319 3131.6378\n",
      "R322 -1416.1274\n",
      "R463 -1478.0348\n",
      "R542 1139.9976\n",
      "R543 2736.9964\n",
      "R544 1165.6912\n",
      "R545 1018.0266\n",
      "R549 2188.0338\n",
      "R570 20686.4878\n",
      "R571 19116.9204\n",
      "R572 12359.6088\n"
     ]
    }
   ],
   "source": [
    "Q_line = ['R570', 'R571', 'R572']\n",
    "diffs = []\n",
    "\n",
    "for unit, trace in more_affected:\n",
    "    before = trace.get_values('riders_before').mean()\n",
    "    after = trace.get_values('riders_after').mean()\n",
    "    diff = after - before\n",
    "    if np.abs(diff) > 1000:\n",
    "        print(unit, diff)\n",
    "        diffs.append((unit, diff))"
   ]
  },
  {
   "cell_type": "code",
   "execution_count": 84,
   "metadata": {},
   "outputs": [],
   "source": [
    "# a_units = [a[0] for a in more_affected]\n",
    "# for u in a_units:\n",
    "#     print(details[details.unit == u].iloc[0])"
   ]
  },
  {
   "cell_type": "code",
   "execution_count": 127,
   "metadata": {},
   "outputs": [
    {
     "data": {
      "text/plain": [
       "52163.017"
      ]
     },
     "execution_count": 127,
     "metadata": {},
     "output_type": "execute_result"
    }
   ],
   "source": [
    "added_to_q = diffs[-3][1] + diffs[-2][1] + diffs[-1][1]\n",
    "added_to_q"
   ]
  },
  {
   "cell_type": "code",
   "execution_count": 145,
   "metadata": {},
   "outputs": [
    {
     "data": {
      "text/html": [
       "<div>\n",
       "<style>\n",
       "    .dataframe thead tr:only-child th {\n",
       "        text-align: right;\n",
       "    }\n",
       "\n",
       "    .dataframe thead th {\n",
       "        text-align: left;\n",
       "    }\n",
       "\n",
       "    .dataframe tbody tr th {\n",
       "        vertical-align: top;\n",
       "    }\n",
       "</style>\n",
       "<table border=\"1\" class=\"dataframe\">\n",
       "  <thead>\n",
       "    <tr style=\"text-align: right;\">\n",
       "      <th></th>\n",
       "      <th>R570</th>\n",
       "      <th>R571</th>\n",
       "      <th>R572</th>\n",
       "    </tr>\n",
       "  </thead>\n",
       "  <tbody>\n",
       "    <tr>\n",
       "      <th>R014</th>\n",
       "      <td>-9161.6796</td>\n",
       "      <td>-9161.6796</td>\n",
       "      <td>-9161.6796</td>\n",
       "    </tr>\n",
       "    <tr>\n",
       "      <th>R017</th>\n",
       "      <td>-2351.7272</td>\n",
       "      <td>-2351.7272</td>\n",
       "      <td>-2351.7272</td>\n",
       "    </tr>\n",
       "    <tr>\n",
       "      <th>R018</th>\n",
       "      <td>-2176.9924</td>\n",
       "      <td>-2176.9924</td>\n",
       "      <td>-2176.9924</td>\n",
       "    </tr>\n",
       "    <tr>\n",
       "      <th>R022</th>\n",
       "      <td>-10379.6618</td>\n",
       "      <td>-10379.6618</td>\n",
       "      <td>-10379.6618</td>\n",
       "    </tr>\n",
       "    <tr>\n",
       "      <th>R024</th>\n",
       "      <td>-1463.8204</td>\n",
       "      <td>-1463.8204</td>\n",
       "      <td>-1463.8204</td>\n",
       "    </tr>\n",
       "    <tr>\n",
       "      <th>R049</th>\n",
       "      <td>-1907.6908</td>\n",
       "      <td>-1907.6908</td>\n",
       "      <td>-1907.6908</td>\n",
       "    </tr>\n",
       "    <tr>\n",
       "      <th>R051</th>\n",
       "      <td>-5786.0592</td>\n",
       "      <td>-5786.0592</td>\n",
       "      <td>-5786.0592</td>\n",
       "    </tr>\n",
       "    <tr>\n",
       "      <th>R054</th>\n",
       "      <td>-1516.9128</td>\n",
       "      <td>-1516.9128</td>\n",
       "      <td>-1516.9128</td>\n",
       "    </tr>\n",
       "    <tr>\n",
       "      <th>R079</th>\n",
       "      <td>-2449.5902</td>\n",
       "      <td>-2449.5902</td>\n",
       "      <td>-2449.5902</td>\n",
       "    </tr>\n",
       "    <tr>\n",
       "      <th>R080</th>\n",
       "      <td>3361.8220</td>\n",
       "      <td>3361.8220</td>\n",
       "      <td>3361.8220</td>\n",
       "    </tr>\n",
       "    <tr>\n",
       "      <th>R108</th>\n",
       "      <td>1820.7320</td>\n",
       "      <td>1820.7320</td>\n",
       "      <td>1820.7320</td>\n",
       "    </tr>\n",
       "    <tr>\n",
       "      <th>R113</th>\n",
       "      <td>-1233.2298</td>\n",
       "      <td>-1233.2298</td>\n",
       "      <td>-1233.2298</td>\n",
       "    </tr>\n",
       "    <tr>\n",
       "      <th>R116</th>\n",
       "      <td>-3249.2052</td>\n",
       "      <td>-3249.2052</td>\n",
       "      <td>-3249.2052</td>\n",
       "    </tr>\n",
       "    <tr>\n",
       "      <th>R166</th>\n",
       "      <td>-1563.8110</td>\n",
       "      <td>-1563.8110</td>\n",
       "      <td>-1563.8110</td>\n",
       "    </tr>\n",
       "    <tr>\n",
       "      <th>R171</th>\n",
       "      <td>1333.6228</td>\n",
       "      <td>1333.6228</td>\n",
       "      <td>1333.6228</td>\n",
       "    </tr>\n",
       "    <tr>\n",
       "      <th>R176</th>\n",
       "      <td>-1819.0730</td>\n",
       "      <td>-1819.0730</td>\n",
       "      <td>-1819.0730</td>\n",
       "    </tr>\n",
       "    <tr>\n",
       "      <th>R178</th>\n",
       "      <td>-6540.5194</td>\n",
       "      <td>-6540.5194</td>\n",
       "      <td>-6540.5194</td>\n",
       "    </tr>\n",
       "    <tr>\n",
       "      <th>R179</th>\n",
       "      <td>-15101.5586</td>\n",
       "      <td>-15101.5586</td>\n",
       "      <td>-15101.5586</td>\n",
       "    </tr>\n",
       "    <tr>\n",
       "      <th>R188</th>\n",
       "      <td>-2337.8804</td>\n",
       "      <td>-2337.8804</td>\n",
       "      <td>-2337.8804</td>\n",
       "    </tr>\n",
       "    <tr>\n",
       "      <th>R189</th>\n",
       "      <td>-1003.1784</td>\n",
       "      <td>-1003.1784</td>\n",
       "      <td>-1003.1784</td>\n",
       "    </tr>\n",
       "    <tr>\n",
       "      <th>R202</th>\n",
       "      <td>-1218.5228</td>\n",
       "      <td>-1218.5228</td>\n",
       "      <td>-1218.5228</td>\n",
       "    </tr>\n",
       "    <tr>\n",
       "      <th>R227</th>\n",
       "      <td>1212.5198</td>\n",
       "      <td>1212.5198</td>\n",
       "      <td>1212.5198</td>\n",
       "    </tr>\n",
       "    <tr>\n",
       "      <th>R232</th>\n",
       "      <td>-2890.8548</td>\n",
       "      <td>-2890.8548</td>\n",
       "      <td>-2890.8548</td>\n",
       "    </tr>\n",
       "    <tr>\n",
       "      <th>R236</th>\n",
       "      <td>1581.4444</td>\n",
       "      <td>1581.4444</td>\n",
       "      <td>1581.4444</td>\n",
       "    </tr>\n",
       "    <tr>\n",
       "      <th>R257</th>\n",
       "      <td>-1558.9764</td>\n",
       "      <td>-1558.9764</td>\n",
       "      <td>-1558.9764</td>\n",
       "    </tr>\n",
       "    <tr>\n",
       "      <th>R290</th>\n",
       "      <td>1344.6210</td>\n",
       "      <td>1344.6210</td>\n",
       "      <td>1344.6210</td>\n",
       "    </tr>\n",
       "    <tr>\n",
       "      <th>R300</th>\n",
       "      <td>-1977.6224</td>\n",
       "      <td>-1977.6224</td>\n",
       "      <td>-1977.6224</td>\n",
       "    </tr>\n",
       "    <tr>\n",
       "      <th>R304</th>\n",
       "      <td>-1211.7008</td>\n",
       "      <td>-1211.7008</td>\n",
       "      <td>-1211.7008</td>\n",
       "    </tr>\n",
       "    <tr>\n",
       "      <th>R319</th>\n",
       "      <td>3131.6378</td>\n",
       "      <td>3131.6378</td>\n",
       "      <td>3131.6378</td>\n",
       "    </tr>\n",
       "    <tr>\n",
       "      <th>R322</th>\n",
       "      <td>-1416.1274</td>\n",
       "      <td>-1416.1274</td>\n",
       "      <td>-1416.1274</td>\n",
       "    </tr>\n",
       "    <tr>\n",
       "      <th>R463</th>\n",
       "      <td>-1478.0348</td>\n",
       "      <td>-1478.0348</td>\n",
       "      <td>-1478.0348</td>\n",
       "    </tr>\n",
       "    <tr>\n",
       "      <th>R542</th>\n",
       "      <td>1139.9976</td>\n",
       "      <td>1139.9976</td>\n",
       "      <td>1139.9976</td>\n",
       "    </tr>\n",
       "    <tr>\n",
       "      <th>R543</th>\n",
       "      <td>2736.9964</td>\n",
       "      <td>2736.9964</td>\n",
       "      <td>2736.9964</td>\n",
       "    </tr>\n",
       "    <tr>\n",
       "      <th>R544</th>\n",
       "      <td>1165.6912</td>\n",
       "      <td>1165.6912</td>\n",
       "      <td>1165.6912</td>\n",
       "    </tr>\n",
       "    <tr>\n",
       "      <th>R545</th>\n",
       "      <td>1018.0266</td>\n",
       "      <td>1018.0266</td>\n",
       "      <td>1018.0266</td>\n",
       "    </tr>\n",
       "    <tr>\n",
       "      <th>R549</th>\n",
       "      <td>2188.0338</td>\n",
       "      <td>2188.0338</td>\n",
       "      <td>2188.0338</td>\n",
       "    </tr>\n",
       "    <tr>\n",
       "      <th>R570</th>\n",
       "      <td>20686.4878</td>\n",
       "      <td>20686.4878</td>\n",
       "      <td>20686.4878</td>\n",
       "    </tr>\n",
       "    <tr>\n",
       "      <th>R571</th>\n",
       "      <td>19116.9204</td>\n",
       "      <td>19116.9204</td>\n",
       "      <td>19116.9204</td>\n",
       "    </tr>\n",
       "    <tr>\n",
       "      <th>R572</th>\n",
       "      <td>12359.6088</td>\n",
       "      <td>12359.6088</td>\n",
       "      <td>12359.6088</td>\n",
       "    </tr>\n",
       "  </tbody>\n",
       "</table>\n",
       "</div>"
      ],
      "text/plain": [
       "            R570        R571        R572\n",
       "R014  -9161.6796  -9161.6796  -9161.6796\n",
       "R017  -2351.7272  -2351.7272  -2351.7272\n",
       "R018  -2176.9924  -2176.9924  -2176.9924\n",
       "R022 -10379.6618 -10379.6618 -10379.6618\n",
       "R024  -1463.8204  -1463.8204  -1463.8204\n",
       "R049  -1907.6908  -1907.6908  -1907.6908\n",
       "R051  -5786.0592  -5786.0592  -5786.0592\n",
       "R054  -1516.9128  -1516.9128  -1516.9128\n",
       "R079  -2449.5902  -2449.5902  -2449.5902\n",
       "R080   3361.8220   3361.8220   3361.8220\n",
       "R108   1820.7320   1820.7320   1820.7320\n",
       "R113  -1233.2298  -1233.2298  -1233.2298\n",
       "R116  -3249.2052  -3249.2052  -3249.2052\n",
       "R166  -1563.8110  -1563.8110  -1563.8110\n",
       "R171   1333.6228   1333.6228   1333.6228\n",
       "R176  -1819.0730  -1819.0730  -1819.0730\n",
       "R178  -6540.5194  -6540.5194  -6540.5194\n",
       "R179 -15101.5586 -15101.5586 -15101.5586\n",
       "R188  -2337.8804  -2337.8804  -2337.8804\n",
       "R189  -1003.1784  -1003.1784  -1003.1784\n",
       "R202  -1218.5228  -1218.5228  -1218.5228\n",
       "R227   1212.5198   1212.5198   1212.5198\n",
       "R232  -2890.8548  -2890.8548  -2890.8548\n",
       "R236   1581.4444   1581.4444   1581.4444\n",
       "R257  -1558.9764  -1558.9764  -1558.9764\n",
       "R290   1344.6210   1344.6210   1344.6210\n",
       "R300  -1977.6224  -1977.6224  -1977.6224\n",
       "R304  -1211.7008  -1211.7008  -1211.7008\n",
       "R319   3131.6378   3131.6378   3131.6378\n",
       "R322  -1416.1274  -1416.1274  -1416.1274\n",
       "R463  -1478.0348  -1478.0348  -1478.0348\n",
       "R542   1139.9976   1139.9976   1139.9976\n",
       "R543   2736.9964   2736.9964   2736.9964\n",
       "R544   1165.6912   1165.6912   1165.6912\n",
       "R545   1018.0266   1018.0266   1018.0266\n",
       "R549   2188.0338   2188.0338   2188.0338\n",
       "R570  20686.4878  20686.4878  20686.4878\n",
       "R571  19116.9204  19116.9204  19116.9204\n",
       "R572  12359.6088  12359.6088  12359.6088"
      ]
     },
     "execution_count": 145,
     "metadata": {},
     "output_type": "execute_result"
    }
   ],
   "source": [
    "diff_units = [d[0] for d in diffs]\n",
    "diff_values = [d[1] for d in diffs]\n",
    "diff_frame = pd.DataFrame(diff_values, index=diff_units)\n",
    "diff_frame.columns = ['R570']\n",
    "diff_frame['R571'] = diff_frame['R572'] = diff_frame.R570\n",
    "diff_frame"
   ]
  },
  {
   "cell_type": "code",
   "execution_count": 149,
   "metadata": {},
   "outputs": [
    {
     "data": {
      "text/plain": [
       "52163.017"
      ]
     },
     "execution_count": 149,
     "metadata": {},
     "output_type": "execute_result"
    }
   ],
   "source": [
    "diff_frame.loc[['R570', 'R571', 'R572']].iloc[:, 0].sum()"
   ]
  },
  {
   "cell_type": "code",
   "execution_count": 129,
   "metadata": {},
   "outputs": [
    {
     "data": {
      "text/html": [
       "<div>\n",
       "<style>\n",
       "    .dataframe thead tr:only-child th {\n",
       "        text-align: right;\n",
       "    }\n",
       "\n",
       "    .dataframe thead th {\n",
       "        text-align: left;\n",
       "    }\n",
       "\n",
       "    .dataframe tbody tr th {\n",
       "        vertical-align: top;\n",
       "    }\n",
       "</style>\n",
       "<table border=\"1\" class=\"dataframe\">\n",
       "  <thead>\n",
       "    <tr style=\"text-align: right;\">\n",
       "      <th></th>\n",
       "      <th>R570</th>\n",
       "      <th>R571</th>\n",
       "      <th>R572</th>\n",
       "    </tr>\n",
       "  </thead>\n",
       "  <tbody>\n",
       "    <tr>\n",
       "      <th>R014</th>\n",
       "      <td>-0.175636</td>\n",
       "      <td>-0.175636</td>\n",
       "      <td>-0.175636</td>\n",
       "    </tr>\n",
       "    <tr>\n",
       "      <th>R017</th>\n",
       "      <td>-0.045084</td>\n",
       "      <td>-0.045084</td>\n",
       "      <td>-0.045084</td>\n",
       "    </tr>\n",
       "    <tr>\n",
       "      <th>R018</th>\n",
       "      <td>-0.041734</td>\n",
       "      <td>-0.041734</td>\n",
       "      <td>-0.041734</td>\n",
       "    </tr>\n",
       "    <tr>\n",
       "      <th>R022</th>\n",
       "      <td>-0.198985</td>\n",
       "      <td>-0.198985</td>\n",
       "      <td>-0.198985</td>\n",
       "    </tr>\n",
       "    <tr>\n",
       "      <th>R024</th>\n",
       "      <td>-0.028062</td>\n",
       "      <td>-0.028062</td>\n",
       "      <td>-0.028062</td>\n",
       "    </tr>\n",
       "    <tr>\n",
       "      <th>R049</th>\n",
       "      <td>-0.036572</td>\n",
       "      <td>-0.036572</td>\n",
       "      <td>-0.036572</td>\n",
       "    </tr>\n",
       "    <tr>\n",
       "      <th>R051</th>\n",
       "      <td>-0.110923</td>\n",
       "      <td>-0.110923</td>\n",
       "      <td>-0.110923</td>\n",
       "    </tr>\n",
       "    <tr>\n",
       "      <th>R054</th>\n",
       "      <td>-0.029080</td>\n",
       "      <td>-0.029080</td>\n",
       "      <td>-0.029080</td>\n",
       "    </tr>\n",
       "    <tr>\n",
       "      <th>R079</th>\n",
       "      <td>-0.046960</td>\n",
       "      <td>-0.046960</td>\n",
       "      <td>-0.046960</td>\n",
       "    </tr>\n",
       "    <tr>\n",
       "      <th>R080</th>\n",
       "      <td>0.064448</td>\n",
       "      <td>0.064448</td>\n",
       "      <td>0.064448</td>\n",
       "    </tr>\n",
       "    <tr>\n",
       "      <th>R108</th>\n",
       "      <td>0.034905</td>\n",
       "      <td>0.034905</td>\n",
       "      <td>0.034905</td>\n",
       "    </tr>\n",
       "    <tr>\n",
       "      <th>R113</th>\n",
       "      <td>-0.023642</td>\n",
       "      <td>-0.023642</td>\n",
       "      <td>-0.023642</td>\n",
       "    </tr>\n",
       "    <tr>\n",
       "      <th>R116</th>\n",
       "      <td>-0.062289</td>\n",
       "      <td>-0.062289</td>\n",
       "      <td>-0.062289</td>\n",
       "    </tr>\n",
       "    <tr>\n",
       "      <th>R166</th>\n",
       "      <td>-0.029979</td>\n",
       "      <td>-0.029979</td>\n",
       "      <td>-0.029979</td>\n",
       "    </tr>\n",
       "    <tr>\n",
       "      <th>R171</th>\n",
       "      <td>0.025566</td>\n",
       "      <td>0.025566</td>\n",
       "      <td>0.025566</td>\n",
       "    </tr>\n",
       "    <tr>\n",
       "      <th>R176</th>\n",
       "      <td>-0.034873</td>\n",
       "      <td>-0.034873</td>\n",
       "      <td>-0.034873</td>\n",
       "    </tr>\n",
       "    <tr>\n",
       "      <th>R178</th>\n",
       "      <td>-0.125386</td>\n",
       "      <td>-0.125386</td>\n",
       "      <td>-0.125386</td>\n",
       "    </tr>\n",
       "    <tr>\n",
       "      <th>R179</th>\n",
       "      <td>-0.289507</td>\n",
       "      <td>-0.289507</td>\n",
       "      <td>-0.289507</td>\n",
       "    </tr>\n",
       "    <tr>\n",
       "      <th>R188</th>\n",
       "      <td>-0.044819</td>\n",
       "      <td>-0.044819</td>\n",
       "      <td>-0.044819</td>\n",
       "    </tr>\n",
       "    <tr>\n",
       "      <th>R189</th>\n",
       "      <td>-0.019232</td>\n",
       "      <td>-0.019232</td>\n",
       "      <td>-0.019232</td>\n",
       "    </tr>\n",
       "    <tr>\n",
       "      <th>R202</th>\n",
       "      <td>-0.023360</td>\n",
       "      <td>-0.023360</td>\n",
       "      <td>-0.023360</td>\n",
       "    </tr>\n",
       "    <tr>\n",
       "      <th>R227</th>\n",
       "      <td>0.023245</td>\n",
       "      <td>0.023245</td>\n",
       "      <td>0.023245</td>\n",
       "    </tr>\n",
       "    <tr>\n",
       "      <th>R232</th>\n",
       "      <td>-0.055420</td>\n",
       "      <td>-0.055420</td>\n",
       "      <td>-0.055420</td>\n",
       "    </tr>\n",
       "    <tr>\n",
       "      <th>R236</th>\n",
       "      <td>0.030317</td>\n",
       "      <td>0.030317</td>\n",
       "      <td>0.030317</td>\n",
       "    </tr>\n",
       "    <tr>\n",
       "      <th>R257</th>\n",
       "      <td>-0.029887</td>\n",
       "      <td>-0.029887</td>\n",
       "      <td>-0.029887</td>\n",
       "    </tr>\n",
       "    <tr>\n",
       "      <th>R290</th>\n",
       "      <td>0.025777</td>\n",
       "      <td>0.025777</td>\n",
       "      <td>0.025777</td>\n",
       "    </tr>\n",
       "    <tr>\n",
       "      <th>R300</th>\n",
       "      <td>-0.037912</td>\n",
       "      <td>-0.037912</td>\n",
       "      <td>-0.037912</td>\n",
       "    </tr>\n",
       "    <tr>\n",
       "      <th>R304</th>\n",
       "      <td>-0.023229</td>\n",
       "      <td>-0.023229</td>\n",
       "      <td>-0.023229</td>\n",
       "    </tr>\n",
       "    <tr>\n",
       "      <th>R319</th>\n",
       "      <td>0.060036</td>\n",
       "      <td>0.060036</td>\n",
       "      <td>0.060036</td>\n",
       "    </tr>\n",
       "    <tr>\n",
       "      <th>R322</th>\n",
       "      <td>-0.027148</td>\n",
       "      <td>-0.027148</td>\n",
       "      <td>-0.027148</td>\n",
       "    </tr>\n",
       "    <tr>\n",
       "      <th>R463</th>\n",
       "      <td>-0.028335</td>\n",
       "      <td>-0.028335</td>\n",
       "      <td>-0.028335</td>\n",
       "    </tr>\n",
       "    <tr>\n",
       "      <th>R542</th>\n",
       "      <td>0.021855</td>\n",
       "      <td>0.021855</td>\n",
       "      <td>0.021855</td>\n",
       "    </tr>\n",
       "    <tr>\n",
       "      <th>R543</th>\n",
       "      <td>0.052470</td>\n",
       "      <td>0.052470</td>\n",
       "      <td>0.052470</td>\n",
       "    </tr>\n",
       "    <tr>\n",
       "      <th>R544</th>\n",
       "      <td>0.022347</td>\n",
       "      <td>0.022347</td>\n",
       "      <td>0.022347</td>\n",
       "    </tr>\n",
       "    <tr>\n",
       "      <th>R545</th>\n",
       "      <td>0.019516</td>\n",
       "      <td>0.019516</td>\n",
       "      <td>0.019516</td>\n",
       "    </tr>\n",
       "    <tr>\n",
       "      <th>R549</th>\n",
       "      <td>0.041946</td>\n",
       "      <td>0.041946</td>\n",
       "      <td>0.041946</td>\n",
       "    </tr>\n",
       "    <tr>\n",
       "      <th>R570</th>\n",
       "      <td>0.000000</td>\n",
       "      <td>0.000000</td>\n",
       "      <td>0.000000</td>\n",
       "    </tr>\n",
       "    <tr>\n",
       "      <th>R571</th>\n",
       "      <td>0.000000</td>\n",
       "      <td>0.000000</td>\n",
       "      <td>0.000000</td>\n",
       "    </tr>\n",
       "    <tr>\n",
       "      <th>R572</th>\n",
       "      <td>0.000000</td>\n",
       "      <td>0.000000</td>\n",
       "      <td>0.000000</td>\n",
       "    </tr>\n",
       "  </tbody>\n",
       "</table>\n",
       "</div>"
      ],
      "text/plain": [
       "          R570      R571      R572\n",
       "R014 -0.175636 -0.175636 -0.175636\n",
       "R017 -0.045084 -0.045084 -0.045084\n",
       "R018 -0.041734 -0.041734 -0.041734\n",
       "R022 -0.198985 -0.198985 -0.198985\n",
       "R024 -0.028062 -0.028062 -0.028062\n",
       "R049 -0.036572 -0.036572 -0.036572\n",
       "R051 -0.110923 -0.110923 -0.110923\n",
       "R054 -0.029080 -0.029080 -0.029080\n",
       "R079 -0.046960 -0.046960 -0.046960\n",
       "R080  0.064448  0.064448  0.064448\n",
       "R108  0.034905  0.034905  0.034905\n",
       "R113 -0.023642 -0.023642 -0.023642\n",
       "R116 -0.062289 -0.062289 -0.062289\n",
       "R166 -0.029979 -0.029979 -0.029979\n",
       "R171  0.025566  0.025566  0.025566\n",
       "R176 -0.034873 -0.034873 -0.034873\n",
       "R178 -0.125386 -0.125386 -0.125386\n",
       "R179 -0.289507 -0.289507 -0.289507\n",
       "R188 -0.044819 -0.044819 -0.044819\n",
       "R189 -0.019232 -0.019232 -0.019232\n",
       "R202 -0.023360 -0.023360 -0.023360\n",
       "R227  0.023245  0.023245  0.023245\n",
       "R232 -0.055420 -0.055420 -0.055420\n",
       "R236  0.030317  0.030317  0.030317\n",
       "R257 -0.029887 -0.029887 -0.029887\n",
       "R290  0.025777  0.025777  0.025777\n",
       "R300 -0.037912 -0.037912 -0.037912\n",
       "R304 -0.023229 -0.023229 -0.023229\n",
       "R319  0.060036  0.060036  0.060036\n",
       "R322 -0.027148 -0.027148 -0.027148\n",
       "R463 -0.028335 -0.028335 -0.028335\n",
       "R542  0.021855  0.021855  0.021855\n",
       "R543  0.052470  0.052470  0.052470\n",
       "R544  0.022347  0.022347  0.022347\n",
       "R545  0.019516  0.019516  0.019516\n",
       "R549  0.041946  0.041946  0.041946\n",
       "R570  0.000000  0.000000  0.000000\n",
       "R571  0.000000  0.000000  0.000000\n",
       "R572  0.000000  0.000000  0.000000"
      ]
     },
     "execution_count": 129,
     "metadata": {},
     "output_type": "execute_result"
    }
   ],
   "source": [
    "diff_new = diff_frame / added_to_q\n",
    "diff_new.loc['R570':'R572'] = 0\n",
    "diff_new"
   ]
  },
  {
   "cell_type": "code",
   "execution_count": 130,
   "metadata": {},
   "outputs": [],
   "source": [
    "# details[(details.unit == 'R012') | (details.unit == 'R031') | (details.unit == 'R293')]  # penn station\n",
    "# details[details.unit == 'R014']  # fulton\n",
    "# details[details.unit == 'R020']  # rockefeller center?\n",
    "# details[details.unit == 'R021']  # bryant park\n",
    "# details[details.unit == 'R022']  # herald square\n",
    "# details[details.unit == 'R032']  # times square\n",
    "# details[(details.unit == 'R046') | (details.unit == 'R047')]  # grand central\n",
    "# details[details.unit == 'R080']  # 57th & 7th\n",
    "# details[details.unit == 'R118']  # canal st\n",
    "# details[details.unit == 'R550']  # PATH?"
   ]
  },
  {
   "cell_type": "markdown",
   "metadata": {},
   "source": [
    "There are a lot of large stations that are probably affected by holiday traffic, so we shouldn't take those into account... We should try to exclude those stations (and combine their multiple units) when we do our analysis."
   ]
  },
  {
   "cell_type": "code",
   "execution_count": 131,
   "metadata": {
    "collapsed": true
   },
   "outputs": [],
   "source": [
    "diff_new.to_csv('second_avenue_opens.csv')"
   ]
  },
  {
   "cell_type": "code",
   "execution_count": 140,
   "metadata": {},
   "outputs": [
    {
     "data": {
      "text/plain": [
       "77"
      ]
     },
     "execution_count": 140,
     "metadata": {},
     "output_type": "execute_result"
    }
   ],
   "source": [
    "data.index = pd.DatetimeIndex(data.index)\n",
    "data.index.get_loc('2017-01-01')"
   ]
  },
  {
   "cell_type": "code",
   "execution_count": 142,
   "metadata": {},
   "outputs": [
    {
     "name": "stdout",
     "output_type": "stream",
     "text": [
      "('R014', 'R017', 'R018', 'R022', 'R024', 'R049', 'R051', 'R054', 'R079', 'R080', 'R108', 'R113', 'R116', 'R166', 'R171', 'R176', 'R178', 'R179', 'R188', 'R189', 'R202', 'R227', 'R232', 'R236', 'R257', 'R290', 'R300', 'R304', 'R319', 'R322', 'R463', 'R542', 'R543', 'R544', 'R545', 'R549', 'R570', 'R571', 'R572')\n"
     ]
    }
   ],
   "source": [
    "u, v = list(zip(*diffs))\n",
    "print(u)"
   ]
  },
  {
   "cell_type": "code",
   "execution_count": 143,
   "metadata": {},
   "outputs": [
    {
     "name": "stdout",
     "output_type": "stream",
     "text": [
      "(-9161.6795999999958, -2351.7271999999975, -2176.9924000000028, -10379.661799999994, -1463.8204000000005, -1907.6908000000003, -5786.0592000000033, -1516.9128000000001, -2449.5902000000006, 3361.8220000000001, 1820.732, -1233.229800000001, -3249.2052000000003, -1563.8109999999997, 1333.6228000000001, -1819.0729999999967, -6540.519400000001, -15101.558599999997, -2337.8803999999982, -1003.1783999999998, -1218.5228000000006, 1212.5198, -2890.8548000000001, 1581.4444000000003, -1558.9764000000014, 1344.6209999999992, -1977.6224000000002, -1211.7007999999996, 3131.6377999999986, -1416.1273999999994, -1478.0348000000013, 1139.9975999999997, 2736.9964, 1165.6912000000002, 1018.0266000000001, 2188.0338000000011, 20686.487799999999, 19116.920399999999, 12359.6088)\n"
     ]
    }
   ],
   "source": [
    "print(v)"
   ]
  },
  {
   "cell_type": "markdown",
   "metadata": {},
   "source": [
    "Final\n",
    "------\n",
    "\n",
    "OK, I am pretty sure that this is enough to actually run all of the elasticities that I need. All of the important steps are saved in `run_single.py` for easier usage. For running others, I'll either need to add in some command line parsing or just load the file into a notebook."
   ]
  },
  {
   "cell_type": "code",
   "execution_count": null,
   "metadata": {
    "collapsed": true
   },
   "outputs": [],
   "source": []
  }
 ],
 "metadata": {
  "kernelspec": {
   "display_name": "Python 3",
   "language": "python",
   "name": "python3"
  },
  "language_info": {
   "codemirror_mode": {
    "name": "ipython",
    "version": 3
   },
   "file_extension": ".py",
   "mimetype": "text/x-python",
   "name": "python",
   "nbconvert_exporter": "python",
   "pygments_lexer": "ipython3",
   "version": "3.6.1"
  }
 },
 "nbformat": 4,
 "nbformat_minor": 2
}
