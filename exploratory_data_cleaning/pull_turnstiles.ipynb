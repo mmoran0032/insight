{
 "cells": [
  {
   "cell_type": "code",
   "execution_count": 1,
   "metadata": {
    "collapsed": true
   },
   "outputs": [],
   "source": [
    "from bs4 import BeautifulSoup\n",
    "import requests\n",
    "\n",
    "url_base = 'http://web.mta.info/developers/turnstile.html'\n",
    "filename = 'turnstile_{}.txt'"
   ]
  },
  {
   "cell_type": "markdown",
   "metadata": {},
   "source": [
    "Get URLs for files"
   ]
  },
  {
   "cell_type": "code",
   "execution_count": 2,
   "metadata": {},
   "outputs": [],
   "source": [
    "r = requests.get(url_base)\n",
    "assert r.status_code == 200\n",
    "# r.text"
   ]
  },
  {
   "cell_type": "code",
   "execution_count": 4,
   "metadata": {},
   "outputs": [],
   "source": [
    "soup = BeautifulSoup(r.text, 'html.parser')\n",
    "# info = soup.findall('div', class_='span-84')"
   ]
  },
  {
   "cell_type": "code",
   "execution_count": 5,
   "metadata": {},
   "outputs": [
    {
     "data": {
      "text/plain": [
       "['data/nyct/turnstile/turnstile_170610.txt',\n",
       " 'data/nyct/turnstile/turnstile_170603.txt',\n",
       " 'data/nyct/turnstile/turnstile_170527.txt',\n",
       " 'data/nyct/turnstile/turnstile_170520.txt',\n",
       " 'data/nyct/turnstile/turnstile_170513.txt']"
      ]
     },
     "execution_count": 5,
     "metadata": {},
     "output_type": "execute_result"
    }
   ],
   "source": [
    "info = soup.find('div', 'span-84')\n",
    "links = info.find_all('a')\n",
    "dates = [l.text for l in links]\n",
    "urls = [l.get('href') for l in links]\n",
    "urls[:5]"
   ]
  },
  {
   "cell_type": "code",
   "execution_count": 22,
   "metadata": {},
   "outputs": [
    {
     "data": {
      "text/plain": [
       "'turnstile_170610.txt'"
      ]
     },
     "execution_count": 22,
     "metadata": {},
     "output_type": "execute_result"
    }
   ],
   "source": [
    "from pathlib import Path\n",
    "\n",
    "test = links[0]\n",
    "Path(test.get('href')).parts[-1]"
   ]
  },
  {
   "cell_type": "code",
   "execution_count": 7,
   "metadata": {},
   "outputs": [
    {
     "data": {
      "text/plain": [
       "['http://web.mta.info/developers/data/nyct/turnstile/turnstile_170610.txt',\n",
       " 'http://web.mta.info/developers/data/nyct/turnstile/turnstile_170603.txt',\n",
       " 'http://web.mta.info/developers/data/nyct/turnstile/turnstile_170527.txt',\n",
       " 'http://web.mta.info/developers/data/nyct/turnstile/turnstile_170520.txt',\n",
       " 'http://web.mta.info/developers/data/nyct/turnstile/turnstile_170513.txt']"
      ]
     },
     "execution_count": 7,
     "metadata": {},
     "output_type": "execute_result"
    }
   ],
   "source": [
    "base = 'http://web.mta.info/developers/'\n",
    "urls = [f'{base}{addr}' for addr in urls]\n",
    "urls[:5]"
   ]
  },
  {
   "cell_type": "code",
   "execution_count": 8,
   "metadata": {
    "collapsed": true
   },
   "outputs": [
    {
     "ename": "ChunkedEncodingError",
     "evalue": "('Connection broken: IncompleteRead(620 bytes read)', IncompleteRead(620 bytes read))",
     "output_type": "error",
     "traceback": [
      "\u001b[0;31m---------------------------------------------------------------------------\u001b[0m",
      "\u001b[0;31mValueError\u001b[0m                                Traceback (most recent call last)",
      "\u001b[0;32m/opt/miniconda3/lib/python3.6/site-packages/requests/packages/urllib3/response.py\u001b[0m in \u001b[0;36m_update_chunk_length\u001b[0;34m(self)\u001b[0m\n\u001b[1;32m    534\u001b[0m         \u001b[0;32mtry\u001b[0m\u001b[0;34m:\u001b[0m\u001b[0;34m\u001b[0m\u001b[0m\n\u001b[0;32m--> 535\u001b[0;31m             \u001b[0mself\u001b[0m\u001b[0;34m.\u001b[0m\u001b[0mchunk_left\u001b[0m \u001b[0;34m=\u001b[0m \u001b[0mint\u001b[0m\u001b[0;34m(\u001b[0m\u001b[0mline\u001b[0m\u001b[0;34m,\u001b[0m \u001b[0;36m16\u001b[0m\u001b[0;34m)\u001b[0m\u001b[0;34m\u001b[0m\u001b[0m\n\u001b[0m\u001b[1;32m    536\u001b[0m         \u001b[0;32mexcept\u001b[0m \u001b[0mValueError\u001b[0m\u001b[0;34m:\u001b[0m\u001b[0;34m\u001b[0m\u001b[0m\n",
      "\u001b[0;31mValueError\u001b[0m: invalid literal for int() with base 16: b\"\\xa4\\x10\\xfdK\\x02\\xc12\\xac\\xc7N\\xffDY\\x80\\xa5\\xea\\xeb\\xeb\\xc6\\xda\\xe6\\xd1{\\tS\\xf6\\xaf\\x1b\\x1bM\\x83\\xce\\xfeU\\x05\\xa5k\\xec#*\\xd5\\xec_U0\\xba\\xf4\\xdf\\xd6\\xd4 \\xfeuc\\xa1\\xa9v\\x1d\\x01\\xd0_^\\t\\x1d\\x03ve\\x8",
      "\nDuring handling of the above exception, another exception occurred:\n",
      "\u001b[0;31mIncompleteRead\u001b[0m                            Traceback (most recent call last)",
      "\u001b[0;32m/opt/miniconda3/lib/python3.6/site-packages/requests/packages/urllib3/response.py\u001b[0m in \u001b[0;36m_error_catcher\u001b[0;34m(self)\u001b[0m\n\u001b[1;32m    297\u001b[0m             \u001b[0;32mtry\u001b[0m\u001b[0;34m:\u001b[0m\u001b[0;34m\u001b[0m\u001b[0m\n\u001b[0;32m--> 298\u001b[0;31m                 \u001b[0;32myield\u001b[0m\u001b[0;34m\u001b[0m\u001b[0m\n\u001b[0m\u001b[1;32m    299\u001b[0m \u001b[0;34m\u001b[0m\u001b[0m\n",
      "\u001b[0;32m/opt/miniconda3/lib/python3.6/site-packages/requests/packages/urllib3/response.py\u001b[0m in \u001b[0;36mread_chunked\u001b[0;34m(self, amt, decode_content)\u001b[0m\n\u001b[1;32m    589\u001b[0m             \u001b[0;32mwhile\u001b[0m \u001b[0;32mTrue\u001b[0m\u001b[0;34m:\u001b[0m\u001b[0;34m\u001b[0m\u001b[0m\n\u001b[0;32m--> 590\u001b[0;31m                 \u001b[0mself\u001b[0m\u001b[0;34m.\u001b[0m\u001b[0m_update_chunk_length\u001b[0m\u001b[0;34m(\u001b[0m\u001b[0;34m)\u001b[0m\u001b[0;34m\u001b[0m\u001b[0m\n\u001b[0m\u001b[1;32m    591\u001b[0m                 \u001b[0;32mif\u001b[0m \u001b[0mself\u001b[0m\u001b[0;34m.\u001b[0m\u001b[0mchunk_left\u001b[0m \u001b[0;34m==\u001b[0m \u001b[0;36m0\u001b[0m\u001b[0;34m:\u001b[0m\u001b[0;34m\u001b[0m\u001b[0m\n",
      "\u001b[0;32m/opt/miniconda3/lib/python3.6/site-packages/requests/packages/urllib3/response.py\u001b[0m in \u001b[0;36m_update_chunk_length\u001b[0;34m(self)\u001b[0m\n\u001b[1;32m    538\u001b[0m             \u001b[0mself\u001b[0m\u001b[0;34m.\u001b[0m\u001b[0mclose\u001b[0m\u001b[0;34m(\u001b[0m\u001b[0;34m)\u001b[0m\u001b[0;34m\u001b[0m\u001b[0m\n\u001b[0;32m--> 539\u001b[0;31m             \u001b[0;32mraise\u001b[0m \u001b[0mhttplib\u001b[0m\u001b[0;34m.\u001b[0m\u001b[0mIncompleteRead\u001b[0m\u001b[0;34m(\u001b[0m\u001b[0mline\u001b[0m\u001b[0;34m)\u001b[0m\u001b[0;34m\u001b[0m\u001b[0m\n\u001b[0m\u001b[1;32m    540\u001b[0m \u001b[0;34m\u001b[0m\u001b[0m\n",
      "\u001b[0;31mIncompleteRead\u001b[0m: IncompleteRead(620 bytes read)",
      "\nDuring handling of the above exception, another exception occurred:\n",
      "\u001b[0;31mProtocolError\u001b[0m                             Traceback (most recent call last)",
      "\u001b[0;32m/opt/miniconda3/lib/python3.6/site-packages/requests/models.py\u001b[0m in \u001b[0;36mgenerate\u001b[0;34m()\u001b[0m\n\u001b[1;32m    718\u001b[0m                 \u001b[0;32mtry\u001b[0m\u001b[0;34m:\u001b[0m\u001b[0;34m\u001b[0m\u001b[0m\n\u001b[0;32m--> 719\u001b[0;31m                     \u001b[0;32mfor\u001b[0m \u001b[0mchunk\u001b[0m \u001b[0;32min\u001b[0m \u001b[0mself\u001b[0m\u001b[0;34m.\u001b[0m\u001b[0mraw\u001b[0m\u001b[0;34m.\u001b[0m\u001b[0mstream\u001b[0m\u001b[0;34m(\u001b[0m\u001b[0mchunk_size\u001b[0m\u001b[0;34m,\u001b[0m \u001b[0mdecode_content\u001b[0m\u001b[0;34m=\u001b[0m\u001b[0;32mTrue\u001b[0m\u001b[0;34m)\u001b[0m\u001b[0;34m:\u001b[0m\u001b[0;34m\u001b[0m\u001b[0m\n\u001b[0m\u001b[1;32m    720\u001b[0m                         \u001b[0;32myield\u001b[0m \u001b[0mchunk\u001b[0m\u001b[0;34m\u001b[0m\u001b[0m\n",
      "\u001b[0;32m/opt/miniconda3/lib/python3.6/site-packages/requests/packages/urllib3/response.py\u001b[0m in \u001b[0;36mstream\u001b[0;34m(self, amt, decode_content)\u001b[0m\n\u001b[1;32m    427\u001b[0m         \u001b[0;32mif\u001b[0m \u001b[0mself\u001b[0m\u001b[0;34m.\u001b[0m\u001b[0mchunked\u001b[0m \u001b[0;32mand\u001b[0m \u001b[0mself\u001b[0m\u001b[0;34m.\u001b[0m\u001b[0msupports_chunked_reads\u001b[0m\u001b[0;34m(\u001b[0m\u001b[0;34m)\u001b[0m\u001b[0;34m:\u001b[0m\u001b[0;34m\u001b[0m\u001b[0m\n\u001b[0;32m--> 428\u001b[0;31m             \u001b[0;32mfor\u001b[0m \u001b[0mline\u001b[0m \u001b[0;32min\u001b[0m \u001b[0mself\u001b[0m\u001b[0;34m.\u001b[0m\u001b[0mread_chunked\u001b[0m\u001b[0;34m(\u001b[0m\u001b[0mamt\u001b[0m\u001b[0;34m,\u001b[0m \u001b[0mdecode_content\u001b[0m\u001b[0;34m=\u001b[0m\u001b[0mdecode_content\u001b[0m\u001b[0;34m)\u001b[0m\u001b[0;34m:\u001b[0m\u001b[0;34m\u001b[0m\u001b[0m\n\u001b[0m\u001b[1;32m    429\u001b[0m                 \u001b[0;32myield\u001b[0m \u001b[0mline\u001b[0m\u001b[0;34m\u001b[0m\u001b[0m\n",
      "\u001b[0;32m/opt/miniconda3/lib/python3.6/site-packages/requests/packages/urllib3/response.py\u001b[0m in \u001b[0;36mread_chunked\u001b[0;34m(self, amt, decode_content)\u001b[0m\n\u001b[1;32m    617\u001b[0m             \u001b[0;32mif\u001b[0m \u001b[0mself\u001b[0m\u001b[0;34m.\u001b[0m\u001b[0m_original_response\u001b[0m\u001b[0;34m:\u001b[0m\u001b[0;34m\u001b[0m\u001b[0m\n\u001b[0;32m--> 618\u001b[0;31m                 \u001b[0mself\u001b[0m\u001b[0;34m.\u001b[0m\u001b[0m_original_response\u001b[0m\u001b[0;34m.\u001b[0m\u001b[0mclose\u001b[0m\u001b[0;34m(\u001b[0m\u001b[0;34m)\u001b[0m\u001b[0;34m\u001b[0m\u001b[0m\n\u001b[0m",
      "\u001b[0;32m/opt/miniconda3/lib/python3.6/contextlib.py\u001b[0m in \u001b[0;36m__exit__\u001b[0;34m(self, type, value, traceback)\u001b[0m\n\u001b[1;32m     99\u001b[0m             \u001b[0;32mtry\u001b[0m\u001b[0;34m:\u001b[0m\u001b[0;34m\u001b[0m\u001b[0m\n\u001b[0;32m--> 100\u001b[0;31m                 \u001b[0mself\u001b[0m\u001b[0;34m.\u001b[0m\u001b[0mgen\u001b[0m\u001b[0;34m.\u001b[0m\u001b[0mthrow\u001b[0m\u001b[0;34m(\u001b[0m\u001b[0mtype\u001b[0m\u001b[0;34m,\u001b[0m \u001b[0mvalue\u001b[0m\u001b[0;34m,\u001b[0m \u001b[0mtraceback\u001b[0m\u001b[0;34m)\u001b[0m\u001b[0;34m\u001b[0m\u001b[0m\n\u001b[0m\u001b[1;32m    101\u001b[0m                 \u001b[0;32mraise\u001b[0m \u001b[0mRuntimeError\u001b[0m\u001b[0;34m(\u001b[0m\u001b[0;34m\"generator didn't stop after throw()\"\u001b[0m\u001b[0;34m)\u001b[0m\u001b[0;34m\u001b[0m\u001b[0m\n",
      "\u001b[0;32m/opt/miniconda3/lib/python3.6/site-packages/requests/packages/urllib3/response.py\u001b[0m in \u001b[0;36m_error_catcher\u001b[0;34m(self)\u001b[0m\n\u001b[1;32m    315\u001b[0m                 \u001b[0;31m# This includes IncompleteRead.\u001b[0m\u001b[0;34m\u001b[0m\u001b[0;34m\u001b[0m\u001b[0m\n\u001b[0;32m--> 316\u001b[0;31m                 \u001b[0;32mraise\u001b[0m \u001b[0mProtocolError\u001b[0m\u001b[0;34m(\u001b[0m\u001b[0;34m'Connection broken: %r'\u001b[0m \u001b[0;34m%\u001b[0m \u001b[0me\u001b[0m\u001b[0;34m,\u001b[0m \u001b[0me\u001b[0m\u001b[0;34m)\u001b[0m\u001b[0;34m\u001b[0m\u001b[0m\n\u001b[0m\u001b[1;32m    317\u001b[0m \u001b[0;34m\u001b[0m\u001b[0m\n",
      "\u001b[0;31mProtocolError\u001b[0m: ('Connection broken: IncompleteRead(620 bytes read)', IncompleteRead(620 bytes read))",
      "\nDuring handling of the above exception, another exception occurred:\n",
      "\u001b[0;31mChunkedEncodingError\u001b[0m                      Traceback (most recent call last)",
      "\u001b[0;32m<ipython-input-8-e1bfd08eacea>\u001b[0m in \u001b[0;36m<module>\u001b[0;34m()\u001b[0m\n\u001b[1;32m      1\u001b[0m \u001b[0;32mfor\u001b[0m \u001b[0murl\u001b[0m \u001b[0;32min\u001b[0m \u001b[0murls\u001b[0m\u001b[0;34m:\u001b[0m\u001b[0;34m\u001b[0m\u001b[0m\n\u001b[1;32m      2\u001b[0m     \u001b[0mname\u001b[0m \u001b[0;34m=\u001b[0m \u001b[0murl\u001b[0m\u001b[0;34m.\u001b[0m\u001b[0msplit\u001b[0m\u001b[0;34m(\u001b[0m\u001b[0;34m'/'\u001b[0m\u001b[0;34m)\u001b[0m\u001b[0;34m[\u001b[0m\u001b[0;34m-\u001b[0m\u001b[0;36m1\u001b[0m\u001b[0;34m]\u001b[0m\u001b[0;34m\u001b[0m\u001b[0m\n\u001b[0;32m----> 3\u001b[0;31m     \u001b[0mr\u001b[0m \u001b[0;34m=\u001b[0m \u001b[0mrequests\u001b[0m\u001b[0;34m.\u001b[0m\u001b[0mget\u001b[0m\u001b[0;34m(\u001b[0m\u001b[0murl\u001b[0m\u001b[0;34m)\u001b[0m\u001b[0;34m\u001b[0m\u001b[0m\n\u001b[0m\u001b[1;32m      4\u001b[0m     \u001b[0;32mwith\u001b[0m \u001b[0mopen\u001b[0m\u001b[0;34m(\u001b[0m\u001b[0;34mf'../raw_data/{name}'\u001b[0m\u001b[0;34m,\u001b[0m \u001b[0;34m'w'\u001b[0m\u001b[0;34m)\u001b[0m \u001b[0;32mas\u001b[0m \u001b[0mf\u001b[0m\u001b[0;34m:\u001b[0m\u001b[0;34m\u001b[0m\u001b[0m\n\u001b[1;32m      5\u001b[0m         \u001b[0mf\u001b[0m\u001b[0;34m.\u001b[0m\u001b[0mwrite\u001b[0m\u001b[0;34m(\u001b[0m\u001b[0mr\u001b[0m\u001b[0;34m.\u001b[0m\u001b[0mtext\u001b[0m\u001b[0;34m)\u001b[0m\u001b[0;34m\u001b[0m\u001b[0m\n",
      "\u001b[0;32m/opt/miniconda3/lib/python3.6/site-packages/requests/api.py\u001b[0m in \u001b[0;36mget\u001b[0;34m(url, params, **kwargs)\u001b[0m\n\u001b[1;32m     68\u001b[0m \u001b[0;34m\u001b[0m\u001b[0m\n\u001b[1;32m     69\u001b[0m     \u001b[0mkwargs\u001b[0m\u001b[0;34m.\u001b[0m\u001b[0msetdefault\u001b[0m\u001b[0;34m(\u001b[0m\u001b[0;34m'allow_redirects'\u001b[0m\u001b[0;34m,\u001b[0m \u001b[0;32mTrue\u001b[0m\u001b[0;34m)\u001b[0m\u001b[0;34m\u001b[0m\u001b[0m\n\u001b[0;32m---> 70\u001b[0;31m     \u001b[0;32mreturn\u001b[0m \u001b[0mrequest\u001b[0m\u001b[0;34m(\u001b[0m\u001b[0;34m'get'\u001b[0m\u001b[0;34m,\u001b[0m \u001b[0murl\u001b[0m\u001b[0;34m,\u001b[0m \u001b[0mparams\u001b[0m\u001b[0;34m=\u001b[0m\u001b[0mparams\u001b[0m\u001b[0;34m,\u001b[0m \u001b[0;34m**\u001b[0m\u001b[0mkwargs\u001b[0m\u001b[0;34m)\u001b[0m\u001b[0;34m\u001b[0m\u001b[0m\n\u001b[0m\u001b[1;32m     71\u001b[0m \u001b[0;34m\u001b[0m\u001b[0m\n\u001b[1;32m     72\u001b[0m \u001b[0;34m\u001b[0m\u001b[0m\n",
      "\u001b[0;32m/opt/miniconda3/lib/python3.6/site-packages/requests/api.py\u001b[0m in \u001b[0;36mrequest\u001b[0;34m(method, url, **kwargs)\u001b[0m\n\u001b[1;32m     54\u001b[0m     \u001b[0;31m# cases, and look like a memory leak in others.\u001b[0m\u001b[0;34m\u001b[0m\u001b[0;34m\u001b[0m\u001b[0m\n\u001b[1;32m     55\u001b[0m     \u001b[0;32mwith\u001b[0m \u001b[0msessions\u001b[0m\u001b[0;34m.\u001b[0m\u001b[0mSession\u001b[0m\u001b[0;34m(\u001b[0m\u001b[0;34m)\u001b[0m \u001b[0;32mas\u001b[0m \u001b[0msession\u001b[0m\u001b[0;34m:\u001b[0m\u001b[0;34m\u001b[0m\u001b[0m\n\u001b[0;32m---> 56\u001b[0;31m         \u001b[0;32mreturn\u001b[0m \u001b[0msession\u001b[0m\u001b[0;34m.\u001b[0m\u001b[0mrequest\u001b[0m\u001b[0;34m(\u001b[0m\u001b[0mmethod\u001b[0m\u001b[0;34m=\u001b[0m\u001b[0mmethod\u001b[0m\u001b[0;34m,\u001b[0m \u001b[0murl\u001b[0m\u001b[0;34m=\u001b[0m\u001b[0murl\u001b[0m\u001b[0;34m,\u001b[0m \u001b[0;34m**\u001b[0m\u001b[0mkwargs\u001b[0m\u001b[0;34m)\u001b[0m\u001b[0;34m\u001b[0m\u001b[0m\n\u001b[0m\u001b[1;32m     57\u001b[0m \u001b[0;34m\u001b[0m\u001b[0m\n\u001b[1;32m     58\u001b[0m \u001b[0;34m\u001b[0m\u001b[0m\n",
      "\u001b[0;32m/opt/miniconda3/lib/python3.6/site-packages/requests/sessions.py\u001b[0m in \u001b[0;36mrequest\u001b[0;34m(self, method, url, params, data, headers, cookies, files, auth, timeout, allow_redirects, proxies, hooks, stream, verify, cert, json)\u001b[0m\n\u001b[1;32m    486\u001b[0m         }\n\u001b[1;32m    487\u001b[0m         \u001b[0msend_kwargs\u001b[0m\u001b[0;34m.\u001b[0m\u001b[0mupdate\u001b[0m\u001b[0;34m(\u001b[0m\u001b[0msettings\u001b[0m\u001b[0;34m)\u001b[0m\u001b[0;34m\u001b[0m\u001b[0m\n\u001b[0;32m--> 488\u001b[0;31m         \u001b[0mresp\u001b[0m \u001b[0;34m=\u001b[0m \u001b[0mself\u001b[0m\u001b[0;34m.\u001b[0m\u001b[0msend\u001b[0m\u001b[0;34m(\u001b[0m\u001b[0mprep\u001b[0m\u001b[0;34m,\u001b[0m \u001b[0;34m**\u001b[0m\u001b[0msend_kwargs\u001b[0m\u001b[0;34m)\u001b[0m\u001b[0;34m\u001b[0m\u001b[0m\n\u001b[0m\u001b[1;32m    489\u001b[0m \u001b[0;34m\u001b[0m\u001b[0m\n\u001b[1;32m    490\u001b[0m         \u001b[0;32mreturn\u001b[0m \u001b[0mresp\u001b[0m\u001b[0;34m\u001b[0m\u001b[0m\n",
      "\u001b[0;32m/opt/miniconda3/lib/python3.6/site-packages/requests/sessions.py\u001b[0m in \u001b[0;36msend\u001b[0;34m(self, request, **kwargs)\u001b[0m\n\u001b[1;32m    639\u001b[0m \u001b[0;34m\u001b[0m\u001b[0m\n\u001b[1;32m    640\u001b[0m         \u001b[0;32mif\u001b[0m \u001b[0;32mnot\u001b[0m \u001b[0mstream\u001b[0m\u001b[0;34m:\u001b[0m\u001b[0;34m\u001b[0m\u001b[0m\n\u001b[0;32m--> 641\u001b[0;31m             \u001b[0mr\u001b[0m\u001b[0;34m.\u001b[0m\u001b[0mcontent\u001b[0m\u001b[0;34m\u001b[0m\u001b[0m\n\u001b[0m\u001b[1;32m    642\u001b[0m \u001b[0;34m\u001b[0m\u001b[0m\n\u001b[1;32m    643\u001b[0m         \u001b[0;32mreturn\u001b[0m \u001b[0mr\u001b[0m\u001b[0;34m\u001b[0m\u001b[0m\n",
      "\u001b[0;32m/opt/miniconda3/lib/python3.6/site-packages/requests/models.py\u001b[0m in \u001b[0;36mcontent\u001b[0;34m(self)\u001b[0m\n\u001b[1;32m    795\u001b[0m                 \u001b[0mself\u001b[0m\u001b[0;34m.\u001b[0m\u001b[0m_content\u001b[0m \u001b[0;34m=\u001b[0m \u001b[0;32mNone\u001b[0m\u001b[0;34m\u001b[0m\u001b[0m\n\u001b[1;32m    796\u001b[0m             \u001b[0;32melse\u001b[0m\u001b[0;34m:\u001b[0m\u001b[0;34m\u001b[0m\u001b[0m\n\u001b[0;32m--> 797\u001b[0;31m                 \u001b[0mself\u001b[0m\u001b[0;34m.\u001b[0m\u001b[0m_content\u001b[0m \u001b[0;34m=\u001b[0m \u001b[0mbytes\u001b[0m\u001b[0;34m(\u001b[0m\u001b[0;34m)\u001b[0m\u001b[0;34m.\u001b[0m\u001b[0mjoin\u001b[0m\u001b[0;34m(\u001b[0m\u001b[0mself\u001b[0m\u001b[0;34m.\u001b[0m\u001b[0miter_content\u001b[0m\u001b[0;34m(\u001b[0m\u001b[0mCONTENT_CHUNK_SIZE\u001b[0m\u001b[0;34m)\u001b[0m\u001b[0;34m)\u001b[0m \u001b[0;32mor\u001b[0m \u001b[0mbytes\u001b[0m\u001b[0;34m(\u001b[0m\u001b[0;34m)\u001b[0m\u001b[0;34m\u001b[0m\u001b[0m\n\u001b[0m\u001b[1;32m    798\u001b[0m \u001b[0;34m\u001b[0m\u001b[0m\n\u001b[1;32m    799\u001b[0m         \u001b[0mself\u001b[0m\u001b[0;34m.\u001b[0m\u001b[0m_content_consumed\u001b[0m \u001b[0;34m=\u001b[0m \u001b[0;32mTrue\u001b[0m\u001b[0;34m\u001b[0m\u001b[0m\n",
      "\u001b[0;32m/opt/miniconda3/lib/python3.6/site-packages/requests/models.py\u001b[0m in \u001b[0;36mgenerate\u001b[0;34m()\u001b[0m\n\u001b[1;32m    720\u001b[0m                         \u001b[0;32myield\u001b[0m \u001b[0mchunk\u001b[0m\u001b[0;34m\u001b[0m\u001b[0m\n\u001b[1;32m    721\u001b[0m                 \u001b[0;32mexcept\u001b[0m \u001b[0mProtocolError\u001b[0m \u001b[0;32mas\u001b[0m \u001b[0me\u001b[0m\u001b[0;34m:\u001b[0m\u001b[0;34m\u001b[0m\u001b[0m\n\u001b[0;32m--> 722\u001b[0;31m                     \u001b[0;32mraise\u001b[0m \u001b[0mChunkedEncodingError\u001b[0m\u001b[0;34m(\u001b[0m\u001b[0me\u001b[0m\u001b[0;34m)\u001b[0m\u001b[0;34m\u001b[0m\u001b[0m\n\u001b[0m\u001b[1;32m    723\u001b[0m                 \u001b[0;32mexcept\u001b[0m \u001b[0mDecodeError\u001b[0m \u001b[0;32mas\u001b[0m \u001b[0me\u001b[0m\u001b[0;34m:\u001b[0m\u001b[0;34m\u001b[0m\u001b[0m\n\u001b[1;32m    724\u001b[0m                     \u001b[0;32mraise\u001b[0m \u001b[0mContentDecodingError\u001b[0m\u001b[0;34m(\u001b[0m\u001b[0me\u001b[0m\u001b[0;34m)\u001b[0m\u001b[0;34m\u001b[0m\u001b[0m\n",
      "\u001b[0;31mChunkedEncodingError\u001b[0m: ('Connection broken: IncompleteRead(620 bytes read)', IncompleteRead(620 bytes read))"
     ]
    }
   ],
   "source": [
    "for url in urls:\n",
    "    name = url.split('/')[-1]\n",
    "    r = requests.get(url)\n",
    "    with open(f'../raw_data/{name}', 'w') as f:\n",
    "        f.write(r.text)"
   ]
  },
  {
   "cell_type": "code",
   "execution_count": 9,
   "metadata": {},
   "outputs": [
    {
     "name": "stdout",
     "output_type": "stream",
     "text": [
      "    216     216    4548\r\n"
     ]
    }
   ],
   "source": [
    "!ls ../raw_data | wc"
   ]
  },
  {
   "cell_type": "code",
   "execution_count": 13,
   "metadata": {
    "collapsed": true
   },
   "outputs": [
    {
     "data": {
      "text/plain": [
       "['http://web.mta.info/developers/data/nyct/turnstile/turnstile_130504.txt',\n",
       " 'http://web.mta.info/developers/data/nyct/turnstile/turnstile_130427.txt',\n",
       " 'http://web.mta.info/developers/data/nyct/turnstile/turnstile_130420.txt',\n",
       " 'http://web.mta.info/developers/data/nyct/turnstile/turnstile_130413.txt',\n",
       " 'http://web.mta.info/developers/data/nyct/turnstile/turnstile_130406.txt',\n",
       " 'http://web.mta.info/developers/data/nyct/turnstile/turnstile_130330.txt',\n",
       " 'http://web.mta.info/developers/data/nyct/turnstile/turnstile_130323.txt',\n",
       " 'http://web.mta.info/developers/data/nyct/turnstile/turnstile_130316.txt',\n",
       " 'http://web.mta.info/developers/data/nyct/turnstile/turnstile_130309.txt',\n",
       " 'http://web.mta.info/developers/data/nyct/turnstile/turnstile_130302.txt',\n",
       " 'http://web.mta.info/developers/data/nyct/turnstile/turnstile_130223.txt',\n",
       " 'http://web.mta.info/developers/data/nyct/turnstile/turnstile_130216.txt',\n",
       " 'http://web.mta.info/developers/data/nyct/turnstile/turnstile_130209.txt',\n",
       " 'http://web.mta.info/developers/data/nyct/turnstile/turnstile_130202.txt',\n",
       " 'http://web.mta.info/developers/data/nyct/turnstile/turnstile_130126.txt',\n",
       " 'http://web.mta.info/developers/data/nyct/turnstile/turnstile_130119.txt',\n",
       " 'http://web.mta.info/developers/data/nyct/turnstile/turnstile_130112.txt',\n",
       " 'http://web.mta.info/developers/data/nyct/turnstile/turnstile_130105.txt',\n",
       " 'http://web.mta.info/developers/data/nyct/turnstile/turnstile_121229.txt',\n",
       " 'http://web.mta.info/developers/data/nyct/turnstile/turnstile_121222.txt',\n",
       " 'http://web.mta.info/developers/data/nyct/turnstile/turnstile_121215.txt',\n",
       " 'http://web.mta.info/developers/data/nyct/turnstile/turnstile_121208.txt',\n",
       " 'http://web.mta.info/developers/data/nyct/turnstile/turnstile_121201.txt',\n",
       " 'http://web.mta.info/developers/data/nyct/turnstile/turnstile_121124.txt',\n",
       " 'http://web.mta.info/developers/data/nyct/turnstile/turnstile_121117.txt',\n",
       " 'http://web.mta.info/developers/data/nyct/turnstile/turnstile_121110.txt',\n",
       " 'http://web.mta.info/developers/data/nyct/turnstile/turnstile_121103.txt',\n",
       " 'http://web.mta.info/developers/data/nyct/turnstile/turnstile_121027.txt',\n",
       " 'http://web.mta.info/developers/data/nyct/turnstile/turnstile_121020.txt',\n",
       " 'http://web.mta.info/developers/data/nyct/turnstile/turnstile_121013.txt',\n",
       " 'http://web.mta.info/developers/data/nyct/turnstile/turnstile_121006.txt',\n",
       " 'http://web.mta.info/developers/data/nyct/turnstile/turnstile_120929.txt',\n",
       " 'http://web.mta.info/developers/data/nyct/turnstile/turnstile_120922.txt',\n",
       " 'http://web.mta.info/developers/data/nyct/turnstile/turnstile_120915.txt',\n",
       " 'http://web.mta.info/developers/data/nyct/turnstile/turnstile_120908.txt',\n",
       " 'http://web.mta.info/developers/data/nyct/turnstile/turnstile_120901.txt',\n",
       " 'http://web.mta.info/developers/data/nyct/turnstile/turnstile_120825.txt',\n",
       " 'http://web.mta.info/developers/data/nyct/turnstile/turnstile_120818.txt',\n",
       " 'http://web.mta.info/developers/data/nyct/turnstile/turnstile_120811.txt',\n",
       " 'http://web.mta.info/developers/data/nyct/turnstile/turnstile_120804.txt',\n",
       " 'http://web.mta.info/developers/data/nyct/turnstile/turnstile_120728.txt',\n",
       " 'http://web.mta.info/developers/data/nyct/turnstile/turnstile_120721.txt',\n",
       " 'http://web.mta.info/developers/data/nyct/turnstile/turnstile_120714.txt',\n",
       " 'http://web.mta.info/developers/data/nyct/turnstile/turnstile_120707.txt',\n",
       " 'http://web.mta.info/developers/data/nyct/turnstile/turnstile_120630.txt',\n",
       " 'http://web.mta.info/developers/data/nyct/turnstile/turnstile_120623.txt',\n",
       " 'http://web.mta.info/developers/data/nyct/turnstile/turnstile_120616.txt',\n",
       " 'http://web.mta.info/developers/data/nyct/turnstile/turnstile_120609.txt',\n",
       " 'http://web.mta.info/developers/data/nyct/turnstile/turnstile_120602.txt',\n",
       " 'http://web.mta.info/developers/data/nyct/turnstile/turnstile_120526.txt',\n",
       " 'http://web.mta.info/developers/data/nyct/turnstile/turnstile_120519.txt',\n",
       " 'http://web.mta.info/developers/data/nyct/turnstile/turnstile_120512.txt',\n",
       " 'http://web.mta.info/developers/data/nyct/turnstile/turnstile_120505.txt',\n",
       " 'http://web.mta.info/developers/data/nyct/turnstile/turnstile_120428.txt',\n",
       " 'http://web.mta.info/developers/data/nyct/turnstile/turnstile_120421.txt',\n",
       " 'http://web.mta.info/developers/data/nyct/turnstile/turnstile_120414.txt',\n",
       " 'http://web.mta.info/developers/data/nyct/turnstile/turnstile_120407.txt',\n",
       " 'http://web.mta.info/developers/data/nyct/turnstile/turnstile_120331.txt',\n",
       " 'http://web.mta.info/developers/data/nyct/turnstile/turnstile_120324.txt',\n",
       " 'http://web.mta.info/developers/data/nyct/turnstile/turnstile_120317.txt',\n",
       " 'http://web.mta.info/developers/data/nyct/turnstile/turnstile_120310.txt',\n",
       " 'http://web.mta.info/developers/data/nyct/turnstile/turnstile_120303.txt',\n",
       " 'http://web.mta.info/developers/data/nyct/turnstile/turnstile_120225.txt',\n",
       " 'http://web.mta.info/developers/data/nyct/turnstile/turnstile_120218.txt',\n",
       " 'http://web.mta.info/developers/data/nyct/turnstile/turnstile_120211.txt',\n",
       " 'http://web.mta.info/developers/data/nyct/turnstile/turnstile_120204.txt',\n",
       " 'http://web.mta.info/developers/data/nyct/turnstile/turnstile_120128.txt',\n",
       " 'http://web.mta.info/developers/data/nyct/turnstile/turnstile_120121.txt',\n",
       " 'http://web.mta.info/developers/data/nyct/turnstile/turnstile_120114.txt',\n",
       " 'http://web.mta.info/developers/data/nyct/turnstile/turnstile_120107.txt',\n",
       " 'http://web.mta.info/developers/data/nyct/turnstile/turnstile_111231.txt',\n",
       " 'http://web.mta.info/developers/data/nyct/turnstile/turnstile_111224.txt',\n",
       " 'http://web.mta.info/developers/data/nyct/turnstile/turnstile_111219.txt',\n",
       " 'http://web.mta.info/developers/data/nyct/turnstile/turnstile_111210.txt',\n",
       " 'http://web.mta.info/developers/data/nyct/turnstile/turnstile_111203.txt',\n",
       " 'http://web.mta.info/developers/data/nyct/turnstile/turnstile_111126.txt',\n",
       " 'http://web.mta.info/developers/data/nyct/turnstile/turnstile_111119.txt',\n",
       " 'http://web.mta.info/developers/data/nyct/turnstile/turnstile_111112.txt',\n",
       " 'http://web.mta.info/developers/data/nyct/turnstile/turnstile_111105.txt',\n",
       " 'http://web.mta.info/developers/data/nyct/turnstile/turnstile_111029.txt',\n",
       " 'http://web.mta.info/developers/data/nyct/turnstile/turnstile_111022.txt',\n",
       " 'http://web.mta.info/developers/data/nyct/turnstile/turnstile_111015.txt',\n",
       " 'http://web.mta.info/developers/data/nyct/turnstile/turnstile_111008.txt',\n",
       " 'http://web.mta.info/developers/data/nyct/turnstile/turnstile_111001.txt',\n",
       " 'http://web.mta.info/developers/data/nyct/turnstile/turnstile_110924.txt',\n",
       " 'http://web.mta.info/developers/data/nyct/turnstile/turnstile_110917.txt',\n",
       " 'http://web.mta.info/developers/data/nyct/turnstile/turnstile_110910.txt',\n",
       " 'http://web.mta.info/developers/data/nyct/turnstile/turnstile_110903.txt',\n",
       " 'http://web.mta.info/developers/data/nyct/turnstile/turnstile_110827.txt',\n",
       " 'http://web.mta.info/developers/data/nyct/turnstile/turnstile_110820.txt',\n",
       " 'http://web.mta.info/developers/data/nyct/turnstile/turnstile_110813.txt',\n",
       " 'http://web.mta.info/developers/data/nyct/turnstile/turnstile_110806.txt',\n",
       " 'http://web.mta.info/developers/data/nyct/turnstile/turnstile_110730.txt',\n",
       " 'http://web.mta.info/developers/data/nyct/turnstile/turnstile_110723.txt',\n",
       " 'http://web.mta.info/developers/data/nyct/turnstile/turnstile_110716.txt',\n",
       " 'http://web.mta.info/developers/data/nyct/turnstile/turnstile_110709.txt',\n",
       " 'http://web.mta.info/developers/data/nyct/turnstile/turnstile_110702.txt',\n",
       " 'http://web.mta.info/developers/data/nyct/turnstile/turnstile_110625.txt',\n",
       " 'http://web.mta.info/developers/data/nyct/turnstile/turnstile_110618.txt',\n",
       " 'http://web.mta.info/developers/data/nyct/turnstile/turnstile_110611.txt',\n",
       " 'http://web.mta.info/developers/data/nyct/turnstile/turnstile_110604.txt',\n",
       " 'http://web.mta.info/developers/data/nyct/turnstile/turnstile_110528.txt',\n",
       " 'http://web.mta.info/developers/data/nyct/turnstile/turnstile_110521.txt',\n",
       " 'http://web.mta.info/developers/data/nyct/turnstile/turnstile_110514.txt',\n",
       " 'http://web.mta.info/developers/data/nyct/turnstile/turnstile_110507.txt',\n",
       " 'http://web.mta.info/developers/data/nyct/turnstile/turnstile_110430.txt',\n",
       " 'http://web.mta.info/developers/data/nyct/turnstile/turnstile_110423.txt',\n",
       " 'http://web.mta.info/developers/data/nyct/turnstile/turnstile_110416.txt',\n",
       " 'http://web.mta.info/developers/data/nyct/turnstile/turnstile_110409.txt',\n",
       " 'http://web.mta.info/developers/data/nyct/turnstile/turnstile_110402.txt',\n",
       " 'http://web.mta.info/developers/data/nyct/turnstile/turnstile_110326.txt',\n",
       " 'http://web.mta.info/developers/data/nyct/turnstile/turnstile_110319.txt',\n",
       " 'http://web.mta.info/developers/data/nyct/turnstile/turnstile_110312.txt',\n",
       " 'http://web.mta.info/developers/data/nyct/turnstile/turnstile_110305.txt',\n",
       " 'http://web.mta.info/developers/data/nyct/turnstile/turnstile_110226.txt',\n",
       " 'http://web.mta.info/developers/data/nyct/turnstile/turnstile_110219.txt',\n",
       " 'http://web.mta.info/developers/data/nyct/turnstile/turnstile_110212.txt',\n",
       " 'http://web.mta.info/developers/data/nyct/turnstile/turnstile_110205.txt',\n",
       " 'http://web.mta.info/developers/data/nyct/turnstile/turnstile_110129.txt',\n",
       " 'http://web.mta.info/developers/data/nyct/turnstile/turnstile_110122.txt',\n",
       " 'http://web.mta.info/developers/data/nyct/turnstile/turnstile_110115.txt',\n",
       " 'http://web.mta.info/developers/data/nyct/turnstile/turnstile_110108.txt',\n",
       " 'http://web.mta.info/developers/data/nyct/turnstile/turnstile_110101.txt',\n",
       " 'http://web.mta.info/developers/data/nyct/turnstile/turnstile_101225.txt',\n",
       " 'http://web.mta.info/developers/data/nyct/turnstile/turnstile_101218.txt',\n",
       " 'http://web.mta.info/developers/data/nyct/turnstile/turnstile_101211.txt',\n",
       " 'http://web.mta.info/developers/data/nyct/turnstile/turnstile_101204.txt',\n",
       " 'http://web.mta.info/developers/data/nyct/turnstile/turnstile_101127.txt',\n",
       " 'http://web.mta.info/developers/data/nyct/turnstile/turnstile_101120.txt',\n",
       " 'http://web.mta.info/developers/data/nyct/turnstile/turnstile_101113.txt',\n",
       " 'http://web.mta.info/developers/data/nyct/turnstile/turnstile_101106.txt',\n",
       " 'http://web.mta.info/developers/data/nyct/turnstile/turnstile_101030.txt',\n",
       " 'http://web.mta.info/developers/data/nyct/turnstile/turnstile_101023.txt',\n",
       " 'http://web.mta.info/developers/data/nyct/turnstile/turnstile_101016.txt',\n",
       " 'http://web.mta.info/developers/data/nyct/turnstile/turnstile_101009.txt',\n",
       " 'http://web.mta.info/developers/data/nyct/turnstile/turnstile_101002.txt',\n",
       " 'http://web.mta.info/developers/data/nyct/turnstile/turnstile_100925.txt',\n",
       " 'http://web.mta.info/developers/data/nyct/turnstile/turnstile_100918.txt',\n",
       " 'http://web.mta.info/developers/data/nyct/turnstile/turnstile_100911.txt',\n",
       " 'http://web.mta.info/developers/data/nyct/turnstile/turnstile_100904.txt',\n",
       " 'http://web.mta.info/developers/data/nyct/turnstile/turnstile_100828.txt',\n",
       " 'http://web.mta.info/developers/data/nyct/turnstile/turnstile_100821.txt',\n",
       " 'http://web.mta.info/developers/data/nyct/turnstile/turnstile_100814.txt',\n",
       " 'http://web.mta.info/developers/data/nyct/turnstile/turnstile_100807.txt',\n",
       " 'http://web.mta.info/developers/data/nyct/turnstile/turnstile_100731.txt',\n",
       " 'http://web.mta.info/developers/data/nyct/turnstile/turnstile_100724.txt',\n",
       " 'http://web.mta.info/developers/data/nyct/turnstile/turnstile_100717.txt',\n",
       " 'http://web.mta.info/developers/data/nyct/turnstile/turnstile_100710.txt',\n",
       " 'http://web.mta.info/developers/data/nyct/turnstile/turnstile_100703.txt',\n",
       " 'http://web.mta.info/developers/data/nyct/turnstile/turnstile_100626.txt',\n",
       " 'http://web.mta.info/developers/data/nyct/turnstile/turnstile_100619.txt',\n",
       " 'http://web.mta.info/developers/data/nyct/turnstile/turnstile_100612.txt',\n",
       " 'http://web.mta.info/developers/data/nyct/turnstile/turnstile_100605.txt',\n",
       " 'http://web.mta.info/developers/data/nyct/turnstile/turnstile_100522.txt',\n",
       " 'http://web.mta.info/developers/data/nyct/turnstile/turnstile_100515.txt',\n",
       " 'http://web.mta.info/developers/data/nyct/turnstile/turnstile_100508.txt',\n",
       " 'http://web.mta.info/developers/data/nyct/turnstile/turnstile_100505.txt']"
      ]
     },
     "execution_count": 13,
     "metadata": {},
     "output_type": "execute_result"
    }
   ],
   "source": [
    "import os\n",
    "\n",
    "basenames = [f.split('/')[-1] for f in urls]\n",
    "downloaded_files = os.listdir('../raw_data')\n",
    "to_download = [url for url, filename in zip(urls, basenames)\n",
    "               if filename not in downloaded_files]\n",
    "# to_download"
   ]
  },
  {
   "cell_type": "code",
   "execution_count": 15,
   "metadata": {},
   "outputs": [],
   "source": [
    "def download_urls(urls):\n",
    "    for url in urls:\n",
    "        name = url.split('/')[-1]\n",
    "        r = requests.get(url)\n",
    "        with open(f'../raw_data/{name}', 'w') as f:\n",
    "            f.write(r.text)"
   ]
  },
  {
   "cell_type": "code",
   "execution_count": 16,
   "metadata": {
    "collapsed": true
   },
   "outputs": [],
   "source": [
    "download_urls(to_download)"
   ]
  },
  {
   "cell_type": "code",
   "execution_count": 17,
   "metadata": {},
   "outputs": [
    {
     "name": "stdout",
     "output_type": "stream",
     "text": [
      "    373     373    7845\r\n"
     ]
    }
   ],
   "source": [
    "!ls ../raw_data | wc"
   ]
  },
  {
   "cell_type": "code",
   "execution_count": null,
   "metadata": {
    "collapsed": true
   },
   "outputs": [],
   "source": []
  }
 ],
 "metadata": {
  "kernelspec": {
   "display_name": "Python 3",
   "language": "python",
   "name": "python3"
  },
  "language_info": {
   "codemirror_mode": {
    "name": "ipython",
    "version": 3
   },
   "file_extension": ".py",
   "mimetype": "text/x-python",
   "name": "python",
   "nbconvert_exporter": "python",
   "pygments_lexer": "ipython3",
   "version": "3.6.1"
  }
 },
 "nbformat": 4,
 "nbformat_minor": 2
}
