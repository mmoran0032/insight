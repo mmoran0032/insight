{
 "cells": [
  {
   "cell_type": "markdown",
   "metadata": {},
   "source": [
    "Predict demand for new stations\n",
    "===================\n",
    "\n",
    "Using the loaded and processed turnstile data and the demographic details of the part of Manhattan the Second Ave subway will run through, we can predict the number of riders that will be joining the system following the construction of two new stations (at 116th and 125th St). I expect to see a difference in the 456 trains based on the availability of the new stations at 96th and 86th St, and use that difference to quantify what will happen with two more stations."
   ]
  },
  {
   "cell_type": "code",
   "execution_count": 1,
   "metadata": {
    "collapsed": true
   },
   "outputs": [],
   "source": [
    "%matplotlib inline\n",
    "\n",
    "import matplotlib.pyplot as plt\n",
    "import pandas as pd\n",
    "\n",
    "from sqlalchemy import create_engine\n",
    "from sqlalchemy_utils import database_exists, create_database\n",
    "import psycopg2"
   ]
  },
  {
   "cell_type": "code",
   "execution_count": 2,
   "metadata": {
    "collapsed": true
   },
   "outputs": [],
   "source": [
    "demo_db = 'demographics'\n",
    "station_db = 'stations'\n",
    "username = 'mikemoran'\n",
    "\n",
    "demographics = create_engine(f'postgres://{username}@localhost/{demo_db}')\n",
    "stations = create_engine(f'postgres://{username}@localhost/{station_db}')"
   ]
  },
  {
   "cell_type": "code",
   "execution_count": 3,
   "metadata": {},
   "outputs": [
    {
     "data": {
      "text/html": [
       "<div>\n",
       "<style>\n",
       "    .dataframe thead tr:only-child th {\n",
       "        text-align: right;\n",
       "    }\n",
       "\n",
       "    .dataframe thead th {\n",
       "        text-align: left;\n",
       "    }\n",
       "\n",
       "    .dataframe tbody tr th {\n",
       "        vertical-align: top;\n",
       "    }\n",
       "</style>\n",
       "<table border=\"1\" class=\"dataframe\">\n",
       "  <thead>\n",
       "    <tr style=\"text-align: right;\">\n",
       "      <th></th>\n",
       "      <th>index</th>\n",
       "      <th>commute_car</th>\n",
       "      <th>commute_public</th>\n",
       "      <th>commute_walk</th>\n",
       "      <th>employed</th>\n",
       "      <th>mean_commute_minutes</th>\n",
       "      <th>median_income</th>\n",
       "      <th>neighborhood</th>\n",
       "      <th>population</th>\n",
       "    </tr>\n",
       "  </thead>\n",
       "  <tbody>\n",
       "    <tr>\n",
       "      <th>0</th>\n",
       "      <td>0</td>\n",
       "      <td>1467</td>\n",
       "      <td>16331</td>\n",
       "      <td>2407</td>\n",
       "      <td>22315</td>\n",
       "      <td>35.0</td>\n",
       "      <td>26099</td>\n",
       "      <td>East Harlem North</td>\n",
       "      <td>47371</td>\n",
       "    </tr>\n",
       "    <tr>\n",
       "      <th>1</th>\n",
       "      <td>1</td>\n",
       "      <td>1564</td>\n",
       "      <td>17124</td>\n",
       "      <td>4050</td>\n",
       "      <td>25095</td>\n",
       "      <td>33.2</td>\n",
       "      <td>35857</td>\n",
       "      <td>East Harlem South</td>\n",
       "      <td>49229</td>\n",
       "    </tr>\n",
       "    <tr>\n",
       "      <th>2</th>\n",
       "      <td>2</td>\n",
       "      <td>3153</td>\n",
       "      <td>25407</td>\n",
       "      <td>12422</td>\n",
       "      <td>49080</td>\n",
       "      <td>29.5</td>\n",
       "      <td>98797</td>\n",
       "      <td>Lenox Hill-Roosevelt Island</td>\n",
       "      <td>69894</td>\n",
       "    </tr>\n",
       "    <tr>\n",
       "      <th>3</th>\n",
       "      <td>3</td>\n",
       "      <td>2697</td>\n",
       "      <td>14528</td>\n",
       "      <td>5487</td>\n",
       "      <td>30007</td>\n",
       "      <td>26.7</td>\n",
       "      <td>155213</td>\n",
       "      <td>Upper East Side-Carnegie Hill</td>\n",
       "      <td>49172</td>\n",
       "    </tr>\n",
       "    <tr>\n",
       "      <th>4</th>\n",
       "      <td>4</td>\n",
       "      <td>3463</td>\n",
       "      <td>32344</td>\n",
       "      <td>6899</td>\n",
       "      <td>51031</td>\n",
       "      <td>33.3</td>\n",
       "      <td>98840</td>\n",
       "      <td>Yorkville</td>\n",
       "      <td>71578</td>\n",
       "    </tr>\n",
       "  </tbody>\n",
       "</table>\n",
       "</div>"
      ],
      "text/plain": [
       "   index  commute_car  commute_public  commute_walk  employed  \\\n",
       "0      0         1467           16331          2407     22315   \n",
       "1      1         1564           17124          4050     25095   \n",
       "2      2         3153           25407         12422     49080   \n",
       "3      3         2697           14528          5487     30007   \n",
       "4      4         3463           32344          6899     51031   \n",
       "\n",
       "   mean_commute_minutes  median_income                   neighborhood  \\\n",
       "0                  35.0          26099              East Harlem North   \n",
       "1                  33.2          35857              East Harlem South   \n",
       "2                  29.5          98797    Lenox Hill-Roosevelt Island   \n",
       "3                  26.7         155213  Upper East Side-Carnegie Hill   \n",
       "4                  33.3          98840                      Yorkville   \n",
       "\n",
       "   population  \n",
       "0       47371  \n",
       "1       49229  \n",
       "2       69894  \n",
       "3       49172  \n",
       "4       71578  "
      ]
     },
     "execution_count": 3,
     "metadata": {},
     "output_type": "execute_result"
    }
   ],
   "source": [
    "conn = psycopg2.connect(database=demo_db, user=username)\n",
    "\n",
    "# query:\n",
    "sql_query = \"\"\"\n",
    "SELECT * FROM demographics_nyc_table;\n",
    "\"\"\"\n",
    "demo_from_sql = pd.read_sql_query(sql_query, conn)\n",
    "demo_from_sql.head()"
   ]
  },
  {
   "cell_type": "code",
   "execution_count": null,
   "metadata": {
    "collapsed": true
   },
   "outputs": [],
   "source": []
  }
 ],
 "metadata": {
  "kernelspec": {
   "display_name": "Python 3",
   "language": "python",
   "name": "python3"
  },
  "language_info": {
   "codemirror_mode": {
    "name": "ipython",
    "version": 3
   },
   "file_extension": ".py",
   "mimetype": "text/x-python",
   "name": "python",
   "nbconvert_exporter": "python",
   "pygments_lexer": "ipython3",
   "version": "3.6.1"
  }
 },
 "nbformat": 4,
 "nbformat_minor": 2
}
