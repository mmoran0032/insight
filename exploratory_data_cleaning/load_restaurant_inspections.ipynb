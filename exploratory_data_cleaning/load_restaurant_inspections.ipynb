{
 "cells": [
  {
   "cell_type": "markdown",
   "metadata": {},
   "source": [
    "Restuarant Inspections\n",
    "=======\n",
    "\n",
    "Since my other economic indicators don't have the required geospatial details, I'm going to see if restaurant inspections could be a decent indicator."
   ]
  },
  {
   "cell_type": "code",
   "execution_count": 2,
   "metadata": {
    "collapsed": true
   },
   "outputs": [],
   "source": [
    "%matplotlib inline\n",
    "\n",
    "from sqlalchemy import create_engine\n",
    "from sqlalchemy_utils import create_database, database_exists\n",
    "import psycopg2\n",
    "\n",
    "import matplotlib.pyplot as plt\n",
    "import numpy as np\n",
    "import pandas as pd"
   ]
  },
  {
   "cell_type": "code",
   "execution_count": 7,
   "metadata": {},
   "outputs": [
    {
     "data": {
      "text/html": [
       "<div>\n",
       "<style>\n",
       "    .dataframe thead tr:only-child th {\n",
       "        text-align: right;\n",
       "    }\n",
       "\n",
       "    .dataframe thead th {\n",
       "        text-align: left;\n",
       "    }\n",
       "\n",
       "    .dataframe tbody tr th {\n",
       "        vertical-align: top;\n",
       "    }\n",
       "</style>\n",
       "<table border=\"1\" class=\"dataframe\">\n",
       "  <thead>\n",
       "    <tr style=\"text-align: right;\">\n",
       "      <th></th>\n",
       "      <th>camis</th>\n",
       "      <th>dba</th>\n",
       "      <th>boro</th>\n",
       "      <th>building</th>\n",
       "      <th>street</th>\n",
       "      <th>zipcode</th>\n",
       "      <th>phone</th>\n",
       "      <th>cuisine_description</th>\n",
       "      <th>inspection_date</th>\n",
       "      <th>action</th>\n",
       "      <th>violation_code</th>\n",
       "      <th>violation_description</th>\n",
       "      <th>critical_flag</th>\n",
       "      <th>score</th>\n",
       "      <th>grade</th>\n",
       "      <th>grade_date</th>\n",
       "      <th>record_date</th>\n",
       "      <th>inspection_type</th>\n",
       "    </tr>\n",
       "  </thead>\n",
       "  <tbody>\n",
       "    <tr>\n",
       "      <th>0</th>\n",
       "      <td>41468119</td>\n",
       "      <td>NANSEN LODGE SOCIAL CLUB</td>\n",
       "      <td>STATEN ISLAND</td>\n",
       "      <td>3441</td>\n",
       "      <td>VICTORY BOULEVARD</td>\n",
       "      <td>10314.0</td>\n",
       "      <td>7189830464</td>\n",
       "      <td>American</td>\n",
       "      <td>2016-06-03</td>\n",
       "      <td>Violations were cited in the following area(s).</td>\n",
       "      <td>06D</td>\n",
       "      <td>Food contact surface not properly washed, rins...</td>\n",
       "      <td>Critical</td>\n",
       "      <td>7.0</td>\n",
       "      <td>A</td>\n",
       "      <td>2016-06-03</td>\n",
       "      <td>2017-06-06</td>\n",
       "      <td>Cycle Inspection / Initial Inspection</td>\n",
       "    </tr>\n",
       "    <tr>\n",
       "      <th>1</th>\n",
       "      <td>41112524</td>\n",
       "      <td>ADRIENNE'S PIZZA BAR</td>\n",
       "      <td>MANHATTAN</td>\n",
       "      <td>54</td>\n",
       "      <td>STONE STREET</td>\n",
       "      <td>10004.0</td>\n",
       "      <td>2122483838</td>\n",
       "      <td>Italian</td>\n",
       "      <td>2015-11-12</td>\n",
       "      <td>Violations were cited in the following area(s).</td>\n",
       "      <td>10I</td>\n",
       "      <td>Single service item reused, improperly stored,...</td>\n",
       "      <td>Not Critical</td>\n",
       "      <td>12.0</td>\n",
       "      <td>A</td>\n",
       "      <td>2015-11-12</td>\n",
       "      <td>2017-06-06</td>\n",
       "      <td>Cycle Inspection / Initial Inspection</td>\n",
       "    </tr>\n",
       "    <tr>\n",
       "      <th>2</th>\n",
       "      <td>50002713</td>\n",
       "      <td>TARTINERY (THE PLAZA SHOPS)</td>\n",
       "      <td>MANHATTAN</td>\n",
       "      <td>1</td>\n",
       "      <td>W 58TH STREET</td>\n",
       "      <td>10019.0</td>\n",
       "      <td>6467553231</td>\n",
       "      <td>American</td>\n",
       "      <td>2016-04-01</td>\n",
       "      <td>Violations were cited in the following area(s).</td>\n",
       "      <td>06C</td>\n",
       "      <td>Food not protected from potential source of co...</td>\n",
       "      <td>Critical</td>\n",
       "      <td>36.0</td>\n",
       "      <td>NaN</td>\n",
       "      <td>NaT</td>\n",
       "      <td>2017-06-06</td>\n",
       "      <td>Cycle Inspection / Initial Inspection</td>\n",
       "    </tr>\n",
       "    <tr>\n",
       "      <th>3</th>\n",
       "      <td>41695981</td>\n",
       "      <td>PICO DE GALLO</td>\n",
       "      <td>QUEENS</td>\n",
       "      <td>8212</td>\n",
       "      <td>ROOSEVELT AVENUE</td>\n",
       "      <td>11372.0</td>\n",
       "      <td>7186390808</td>\n",
       "      <td>Spanish</td>\n",
       "      <td>2016-01-11</td>\n",
       "      <td>Violations were cited in the following area(s).</td>\n",
       "      <td>06F</td>\n",
       "      <td>Wiping cloths soiled or not stored in sanitizi...</td>\n",
       "      <td>Critical</td>\n",
       "      <td>20.0</td>\n",
       "      <td>NaN</td>\n",
       "      <td>NaT</td>\n",
       "      <td>2017-06-06</td>\n",
       "      <td>Cycle Inspection / Initial Inspection</td>\n",
       "    </tr>\n",
       "    <tr>\n",
       "      <th>4</th>\n",
       "      <td>50050808</td>\n",
       "      <td>SICHUAN CUISINE</td>\n",
       "      <td>QUEENS</td>\n",
       "      <td>13620</td>\n",
       "      <td>ROOSEVELT AVE</td>\n",
       "      <td>11354.0</td>\n",
       "      <td>7187372900</td>\n",
       "      <td>Asian</td>\n",
       "      <td>2017-03-20</td>\n",
       "      <td>Establishment re-opened by DOHMH</td>\n",
       "      <td>10F</td>\n",
       "      <td>Non-food contact surface improperly constructe...</td>\n",
       "      <td>Not Critical</td>\n",
       "      <td>4.0</td>\n",
       "      <td>P</td>\n",
       "      <td>2017-03-20</td>\n",
       "      <td>2017-06-06</td>\n",
       "      <td>Cycle Inspection / Reopening Inspection</td>\n",
       "    </tr>\n",
       "  </tbody>\n",
       "</table>\n",
       "</div>"
      ],
      "text/plain": [
       "      camis                          dba           boro building  \\\n",
       "0  41468119     NANSEN LODGE SOCIAL CLUB  STATEN ISLAND     3441   \n",
       "1  41112524         ADRIENNE'S PIZZA BAR      MANHATTAN       54   \n",
       "2  50002713  TARTINERY (THE PLAZA SHOPS)      MANHATTAN        1   \n",
       "3  41695981                PICO DE GALLO         QUEENS     8212   \n",
       "4  50050808              SICHUAN CUISINE         QUEENS    13620   \n",
       "\n",
       "              street  zipcode       phone cuisine_description inspection_date  \\\n",
       "0  VICTORY BOULEVARD  10314.0  7189830464            American      2016-06-03   \n",
       "1       STONE STREET  10004.0  2122483838             Italian      2015-11-12   \n",
       "2      W 58TH STREET  10019.0  6467553231            American      2016-04-01   \n",
       "3   ROOSEVELT AVENUE  11372.0  7186390808             Spanish      2016-01-11   \n",
       "4      ROOSEVELT AVE  11354.0  7187372900               Asian      2017-03-20   \n",
       "\n",
       "                                            action violation_code  \\\n",
       "0  Violations were cited in the following area(s).            06D   \n",
       "1  Violations were cited in the following area(s).            10I   \n",
       "2  Violations were cited in the following area(s).            06C   \n",
       "3  Violations were cited in the following area(s).            06F   \n",
       "4                 Establishment re-opened by DOHMH            10F   \n",
       "\n",
       "                               violation_description critical_flag  score  \\\n",
       "0  Food contact surface not properly washed, rins...      Critical    7.0   \n",
       "1  Single service item reused, improperly stored,...  Not Critical   12.0   \n",
       "2  Food not protected from potential source of co...      Critical   36.0   \n",
       "3  Wiping cloths soiled or not stored in sanitizi...      Critical   20.0   \n",
       "4  Non-food contact surface improperly constructe...  Not Critical    4.0   \n",
       "\n",
       "  grade grade_date record_date                          inspection_type  \n",
       "0     A 2016-06-03  2017-06-06    Cycle Inspection / Initial Inspection  \n",
       "1     A 2015-11-12  2017-06-06    Cycle Inspection / Initial Inspection  \n",
       "2   NaN        NaT  2017-06-06    Cycle Inspection / Initial Inspection  \n",
       "3   NaN        NaT  2017-06-06    Cycle Inspection / Initial Inspection  \n",
       "4     P 2017-03-20  2017-06-06  Cycle Inspection / Reopening Inspection  "
      ]
     },
     "execution_count": 7,
     "metadata": {},
     "output_type": "execute_result"
    }
   ],
   "source": [
    "filename = 'other_data/restaurant_inspections.csv'\n",
    "\n",
    "# cols = ['DBA', 'ZIPCODE', 'CUISINE DESCRIPTION', 'INSPECTION DATE', 'GRADE', 'INSPECTION TYPE']\n",
    "data = pd.read_csv(filename, header=0, parse_dates=['INSPECTION DATE', 'GRADE DATE', 'RECORD DATE'],\n",
    "                   infer_datetime_format=True)\n",
    "new_cols = ['_'.join(s.lower().split()) for s in data.columns]\n",
    "data.columns = new_cols\n",
    "data.head()"
   ]
  },
  {
   "cell_type": "code",
   "execution_count": 8,
   "metadata": {},
   "outputs": [
    {
     "data": {
      "text/plain": [
       "((415028, 18), (415435, 18))"
      ]
     },
     "execution_count": 8,
     "metadata": {},
     "output_type": "execute_result"
    }
   ],
   "source": [
    "data_drop = data.dropna(subset=['camis', 'dba', 'boro', 'building', 'street',\n",
    "                                'zipcode', 'cuisine_description', 'inspection_date'])\n",
    "# data_drop[data_drop.action.isnull()].count()\n",
    "data_drop.shape, data.shape"
   ]
  },
  {
   "cell_type": "code",
   "execution_count": 12,
   "metadata": {},
   "outputs": [
    {
     "name": "stderr",
     "output_type": "stream",
     "text": [
      "/opt/miniconda3/lib/python3.6/site-packages/ipykernel_launcher.py:1: SettingWithCopyWarning: \n",
      "A value is trying to be set on a copy of a slice from a DataFrame.\n",
      "Try using .loc[row_indexer,col_indexer] = value instead\n",
      "\n",
      "See the caveats in the documentation: http://pandas.pydata.org/pandas-docs/stable/indexing.html#indexing-view-versus-copy\n",
      "  \"\"\"Entry point for launching an IPython kernel.\n"
     ]
    },
    {
     "data": {
      "text/plain": [
       "<matplotlib.axes._subplots.AxesSubplot at 0x7f99e38aebe0>"
      ]
     },
     "execution_count": 12,
     "metadata": {},
     "output_type": "execute_result"
    },
    {
     "name": "stderr",
     "output_type": "stream",
     "text": [
      "/opt/miniconda3/lib/python3.6/site-packages/matplotlib/figure.py:1743: UserWarning: This figure includes Axes that are not compatible with tight_layout, so its results might be incorrect.\n",
      "  warnings.warn(\"This figure includes Axes that are not \"\n"
     ]
    },
    {
     "data": {
      "image/png": "[encoded data removed]",
      "text/plain": [
       "<matplotlib.figure.Figure at 0x7f9a17b872e8>"
      ]
     },
     "metadata": {},
     "output_type": "display_data"
    }
   ],
   "source": [
    "data_drop['year'] = data_drop.inspection_date.dt.year\n",
    "data_drop.groupby('year')['cuisine_description'].count().plot(kind='bar')"
   ]
  },
  {
   "cell_type": "code",
   "execution_count": null,
   "metadata": {
    "collapsed": true
   },
   "outputs": [],
   "source": []
  }
 ],
 "metadata": {
  "kernelspec": {
   "display_name": "Python 3",
   "language": "python",
   "name": "python3"
  },
  "language_info": {
   "codemirror_mode": {
    "name": "ipython",
    "version": 3
   },
   "file_extension": ".py",
   "mimetype": "text/x-python",
   "name": "python",
   "nbconvert_exporter": "python",
   "pygments_lexer": "ipython3",
   "version": "3.6.1"
  }
 },
 "nbformat": 4,
 "nbformat_minor": 2
}
