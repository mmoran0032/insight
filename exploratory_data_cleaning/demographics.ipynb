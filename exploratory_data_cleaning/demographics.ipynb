{
 "cells": [
  {
   "cell_type": "markdown",
   "metadata": {},
   "source": [
    "Pull demographics\n",
    "============\n",
    "\n",
    "Using NYC demographic data, try to see if we can use the data in our subway prediction."
   ]
  },
  {
   "cell_type": "code",
   "execution_count": 1,
   "metadata": {
    "collapsed": true
   },
   "outputs": [],
   "source": [
    "import os\n",
    "\n",
    "import pandas as pd"
   ]
  },
  {
   "cell_type": "code",
   "execution_count": 2,
   "metadata": {},
   "outputs": [
    {
     "data": {
      "text/plain": [
       "['demographics/demo_east_harlem_north.xls',\n",
       " 'demographics/demo_east_harlem_south.xls',\n",
       " 'demographics/demo_lenox_hill.xls',\n",
       " 'demographics/demo_upper_east_carnegie.xls',\n",
       " 'demographics/demo_yorkville.xls']"
      ]
     },
     "execution_count": 2,
     "metadata": {},
     "output_type": "execute_result"
    }
   ],
   "source": [
    "files = [f'demographics/{n}' for n in sorted(os.listdir('demographics'))]\n",
    "files"
   ]
  },
  {
   "cell_type": "code",
   "execution_count": 4,
   "metadata": {},
   "outputs": [
    {
     "data": {
      "text/html": [
       "<div>\n",
       "<style>\n",
       "    .dataframe thead tr:only-child th {\n",
       "        text-align: right;\n",
       "    }\n",
       "\n",
       "    .dataframe thead th {\n",
       "        text-align: left;\n",
       "    }\n",
       "\n",
       "    .dataframe tbody tr th {\n",
       "        vertical-align: top;\n",
       "    }\n",
       "</style>\n",
       "<table border=\"1\" class=\"dataframe\">\n",
       "  <thead>\n",
       "    <tr style=\"text-align: right;\">\n",
       "      <th></th>\n",
       "      <th>2010-2014 ACS Economic Profile</th>\n",
       "      <th>Unnamed: 1</th>\n",
       "      <th>Unnamed: 2</th>\n",
       "      <th>NYC Census FactFinder</th>\n",
       "      <th>Unnamed: 4</th>\n",
       "      <th>Unnamed: 5</th>\n",
       "    </tr>\n",
       "  </thead>\n",
       "  <tbody>\n",
       "    <tr>\n",
       "      <th>0</th>\n",
       "      <td>Selected Neighborhood: East Harlem North</td>\n",
       "      <td>NaN</td>\n",
       "      <td>NaN</td>\n",
       "      <td>NaN</td>\n",
       "      <td>NaN</td>\n",
       "      <td>NaN</td>\n",
       "    </tr>\n",
       "    <tr>\n",
       "      <th>1</th>\n",
       "      <td>Selected Economic Characteristics\\n(Grayed val...</td>\n",
       "      <td>Number</td>\n",
       "      <td>NaN</td>\n",
       "      <td>NaN</td>\n",
       "      <td>Percent</td>\n",
       "      <td>NaN</td>\n",
       "    </tr>\n",
       "    <tr>\n",
       "      <th>2</th>\n",
       "      <td>NaN</td>\n",
       "      <td>Estimate</td>\n",
       "      <td>MOE</td>\n",
       "      <td>CV*</td>\n",
       "      <td>Estimate</td>\n",
       "      <td>MOE</td>\n",
       "    </tr>\n",
       "    <tr>\n",
       "      <th>3</th>\n",
       "      <td>EMPLOYMENT STATUS</td>\n",
       "      <td>NaN</td>\n",
       "      <td>NaN</td>\n",
       "      <td>NaN</td>\n",
       "      <td>NaN</td>\n",
       "      <td>NaN</td>\n",
       "    </tr>\n",
       "    <tr>\n",
       "      <th>4</th>\n",
       "      <td>Population 16 years and over</td>\n",
       "      <td>47371</td>\n",
       "      <td>1722</td>\n",
       "      <td>2.2</td>\n",
       "      <td>1</td>\n",
       "      <td>NaN</td>\n",
       "    </tr>\n",
       "  </tbody>\n",
       "</table>\n",
       "</div>"
      ],
      "text/plain": [
       "                      2010-2014 ACS Economic Profile Unnamed: 1 Unnamed: 2  \\\n",
       "0           Selected Neighborhood: East Harlem North        NaN        NaN   \n",
       "1  Selected Economic Characteristics\\n(Grayed val...     Number        NaN   \n",
       "2                                                NaN   Estimate        MOE   \n",
       "3                                  EMPLOYMENT STATUS        NaN        NaN   \n",
       "4                       Population 16 years and over      47371       1722   \n",
       "\n",
       "  NYC Census FactFinder Unnamed: 4 Unnamed: 5  \n",
       "0                   NaN        NaN        NaN  \n",
       "1                   NaN    Percent        NaN  \n",
       "2                   CV*   Estimate        MOE  \n",
       "3                   NaN        NaN        NaN  \n",
       "4                   2.2          1        NaN  "
      ]
     },
     "execution_count": 4,
     "metadata": {},
     "output_type": "execute_result"
    }
   ],
   "source": [
    "demos = [pd.read_excel(f) for f in files]\n",
    "demos[0].head()"
   ]
  },
  {
   "cell_type": "markdown",
   "metadata": {},
   "source": [
    "We need to get these files into something useable. Values to include are population (total and employed in labor force), commuting (car, public, walked), and household income distribution. I'll just keep the raw numbers for this."
   ]
  },
  {
   "cell_type": "code",
   "execution_count": 11,
   "metadata": {},
   "outputs": [
    {
     "data": {
      "text/plain": [
       "(49229, 25095)"
      ]
     },
     "execution_count": 11,
     "metadata": {},
     "output_type": "execute_result"
    }
   ],
   "source": [
    "test = demos[1]\n",
    "population = test.iloc[4]['Unnamed: 1']\n",
    "employed = test.iloc[7]['Unnamed: 1']\n",
    "population, employed"
   ]
  },
  {
   "cell_type": "code",
   "execution_count": 12,
   "metadata": {},
   "outputs": [
    {
     "data": {
      "text/plain": [
       "(1564, 17124, 4050, 33.2)"
      ]
     },
     "execution_count": 12,
     "metadata": {},
     "output_type": "execute_result"
    }
   ],
   "source": [
    "# commuting\n",
    "\n",
    "car_alone = test.iloc[28]['Unnamed: 1']\n",
    "public = test.iloc[30]['Unnamed: 1']\n",
    "walked = test.iloc[31]['Unnamed: 1']\n",
    "mean_travel_time_min = test.iloc[35]['Unnamed: 1']\n",
    "car_alone, public, walked, mean_travel_time_min"
   ]
  },
  {
   "cell_type": "code",
   "execution_count": 13,
   "metadata": {},
   "outputs": [
    {
     "data": {
      "text/plain": [
       "35857"
      ]
     },
     "execution_count": 13,
     "metadata": {},
     "output_type": "execute_result"
    }
   ],
   "source": [
    "# income\n",
    "median_income = test.iloc[80]['Unnamed: 1']\n",
    "median_income"
   ]
  },
  {
   "cell_type": "code",
   "execution_count": 17,
   "metadata": {},
   "outputs": [
    {
     "data": {
      "text/plain": [
       "{'commute_car': 1564,\n",
       " 'commute_public': 17124,\n",
       " 'commute_walk': 4050,\n",
       " 'employed': 25095,\n",
       " 'mean_commute_minutes': 33.2,\n",
       " 'median_income': 35857,\n",
       " 'neighborhood': 'East Harlem South',\n",
       " 'population': 49229}"
      ]
     },
     "execution_count": 17,
     "metadata": {},
     "output_type": "execute_result"
    }
   ],
   "source": [
    "details = {'neighborhood': test.iloc[0]['2010-2014 ACS Economic Profile'].split(':')[1].strip(),\n",
    "           'population': test.iloc[4]['Unnamed: 1'],\n",
    "           'employed': test.iloc[7]['Unnamed: 1'],\n",
    "           'commute_car': test.iloc[28]['Unnamed: 1'],\n",
    "           'commute_public': test.iloc[30]['Unnamed: 1'],\n",
    "           'commute_walk': test.iloc[31]['Unnamed: 1'],\n",
    "           'mean_commute_minutes': test.iloc[35]['Unnamed: 1'],\n",
    "           'median_income': test.iloc[80]['Unnamed: 1']}\n",
    "details"
   ]
  },
  {
   "cell_type": "code",
   "execution_count": 20,
   "metadata": {},
   "outputs": [],
   "source": [
    "frame = pd.DataFrame(details, index=[0])"
   ]
  },
  {
   "cell_type": "code",
   "execution_count": 21,
   "metadata": {},
   "outputs": [
    {
     "data": {
      "text/html": [
       "<div>\n",
       "<style>\n",
       "    .dataframe thead tr:only-child th {\n",
       "        text-align: right;\n",
       "    }\n",
       "\n",
       "    .dataframe thead th {\n",
       "        text-align: left;\n",
       "    }\n",
       "\n",
       "    .dataframe tbody tr th {\n",
       "        vertical-align: top;\n",
       "    }\n",
       "</style>\n",
       "<table border=\"1\" class=\"dataframe\">\n",
       "  <thead>\n",
       "    <tr style=\"text-align: right;\">\n",
       "      <th></th>\n",
       "      <th>commute_car</th>\n",
       "      <th>commute_public</th>\n",
       "      <th>commute_walk</th>\n",
       "      <th>employed</th>\n",
       "      <th>mean_commute_minutes</th>\n",
       "      <th>median_income</th>\n",
       "      <th>neighborhood</th>\n",
       "      <th>population</th>\n",
       "    </tr>\n",
       "  </thead>\n",
       "  <tbody>\n",
       "    <tr>\n",
       "      <th>0</th>\n",
       "      <td>1564</td>\n",
       "      <td>17124</td>\n",
       "      <td>4050</td>\n",
       "      <td>25095</td>\n",
       "      <td>33.2</td>\n",
       "      <td>35857</td>\n",
       "      <td>East Harlem South</td>\n",
       "      <td>49229</td>\n",
       "    </tr>\n",
       "  </tbody>\n",
       "</table>\n",
       "</div>"
      ],
      "text/plain": [
       "   commute_car  commute_public  commute_walk  employed  mean_commute_minutes  \\\n",
       "0         1564           17124          4050     25095                  33.2   \n",
       "\n",
       "   median_income       neighborhood  population  \n",
       "0          35857  East Harlem South       49229  "
      ]
     },
     "execution_count": 21,
     "metadata": {},
     "output_type": "execute_result"
    }
   ],
   "source": [
    "frame"
   ]
  },
  {
   "cell_type": "code",
   "execution_count": 22,
   "metadata": {
    "collapsed": true
   },
   "outputs": [],
   "source": [
    "def pull_demographics(frame, index):\n",
    "    details = {'neighborhood': frame.iloc[0]['2010-2014 ACS Economic Profile'].split(':')[1].strip(),\n",
    "           'population': frame.iloc[4]['Unnamed: 1'],\n",
    "           'employed': frame.iloc[7]['Unnamed: 1'],\n",
    "           'commute_car': frame.iloc[28]['Unnamed: 1'],\n",
    "           'commute_public': frame.iloc[30]['Unnamed: 1'],\n",
    "           'commute_walk': frame.iloc[31]['Unnamed: 1'],\n",
    "           'mean_commute_minutes': frame.iloc[35]['Unnamed: 1'],\n",
    "           'median_income': frame.iloc[80]['Unnamed: 1']}\n",
    "    new_frame = pd.DataFrame(details, index=[index])\n",
    "    return new_frame"
   ]
  },
  {
   "cell_type": "code",
   "execution_count": 24,
   "metadata": {},
   "outputs": [
    {
     "data": {
      "text/html": [
       "<div>\n",
       "<style>\n",
       "    .dataframe thead tr:only-child th {\n",
       "        text-align: right;\n",
       "    }\n",
       "\n",
       "    .dataframe thead th {\n",
       "        text-align: left;\n",
       "    }\n",
       "\n",
       "    .dataframe tbody tr th {\n",
       "        vertical-align: top;\n",
       "    }\n",
       "</style>\n",
       "<table border=\"1\" class=\"dataframe\">\n",
       "  <thead>\n",
       "    <tr style=\"text-align: right;\">\n",
       "      <th></th>\n",
       "      <th>commute_car</th>\n",
       "      <th>commute_public</th>\n",
       "      <th>commute_walk</th>\n",
       "      <th>employed</th>\n",
       "      <th>mean_commute_minutes</th>\n",
       "      <th>median_income</th>\n",
       "      <th>neighborhood</th>\n",
       "      <th>population</th>\n",
       "    </tr>\n",
       "  </thead>\n",
       "  <tbody>\n",
       "    <tr>\n",
       "      <th>0</th>\n",
       "      <td>1467</td>\n",
       "      <td>16331</td>\n",
       "      <td>2407</td>\n",
       "      <td>22315</td>\n",
       "      <td>35.0</td>\n",
       "      <td>26099</td>\n",
       "      <td>East Harlem North</td>\n",
       "      <td>47371</td>\n",
       "    </tr>\n",
       "    <tr>\n",
       "      <th>1</th>\n",
       "      <td>1564</td>\n",
       "      <td>17124</td>\n",
       "      <td>4050</td>\n",
       "      <td>25095</td>\n",
       "      <td>33.2</td>\n",
       "      <td>35857</td>\n",
       "      <td>East Harlem South</td>\n",
       "      <td>49229</td>\n",
       "    </tr>\n",
       "    <tr>\n",
       "      <th>2</th>\n",
       "      <td>3153</td>\n",
       "      <td>25407</td>\n",
       "      <td>12422</td>\n",
       "      <td>49080</td>\n",
       "      <td>29.5</td>\n",
       "      <td>98797</td>\n",
       "      <td>Lenox Hill-Roosevelt Island</td>\n",
       "      <td>69894</td>\n",
       "    </tr>\n",
       "    <tr>\n",
       "      <th>3</th>\n",
       "      <td>2697</td>\n",
       "      <td>14528</td>\n",
       "      <td>5487</td>\n",
       "      <td>30007</td>\n",
       "      <td>26.7</td>\n",
       "      <td>155213</td>\n",
       "      <td>Upper East Side-Carnegie Hill</td>\n",
       "      <td>49172</td>\n",
       "    </tr>\n",
       "    <tr>\n",
       "      <th>4</th>\n",
       "      <td>3463</td>\n",
       "      <td>32344</td>\n",
       "      <td>6899</td>\n",
       "      <td>51031</td>\n",
       "      <td>33.3</td>\n",
       "      <td>98840</td>\n",
       "      <td>Yorkville</td>\n",
       "      <td>71578</td>\n",
       "    </tr>\n",
       "  </tbody>\n",
       "</table>\n",
       "</div>"
      ],
      "text/plain": [
       "   commute_car  commute_public  commute_walk  employed  mean_commute_minutes  \\\n",
       "0         1467           16331          2407     22315                  35.0   \n",
       "1         1564           17124          4050     25095                  33.2   \n",
       "2         3153           25407         12422     49080                  29.5   \n",
       "3         2697           14528          5487     30007                  26.7   \n",
       "4         3463           32344          6899     51031                  33.3   \n",
       "\n",
       "   median_income                   neighborhood  population  \n",
       "0          26099              East Harlem North       47371  \n",
       "1          35857              East Harlem South       49229  \n",
       "2          98797    Lenox Hill-Roosevelt Island       69894  \n",
       "3         155213  Upper East Side-Carnegie Hill       49172  \n",
       "4          98840                      Yorkville       71578  "
      ]
     },
     "execution_count": 24,
     "metadata": {},
     "output_type": "execute_result"
    }
   ],
   "source": [
    "demo_frames = [pull_demographics(f, i) for i, f in enumerate(demos)]\n",
    "demo = pd.concat(demo_frames)\n",
    "demo"
   ]
  },
  {
   "cell_type": "code",
   "execution_count": 25,
   "metadata": {
    "collapsed": true
   },
   "outputs": [],
   "source": [
    "demo.to_csv('demographics/extracted.csv')"
   ]
  },
  {
   "cell_type": "markdown",
   "metadata": {},
   "source": [
    "Create SQL database\n",
    "------------------------"
   ]
  },
  {
   "cell_type": "code",
   "execution_count": 26,
   "metadata": {
    "collapsed": true
   },
   "outputs": [],
   "source": [
    "from sqlalchemy import create_engine\n",
    "from sqlalchemy_utils import database_exists, create_database\n",
    "import psycopg2"
   ]
  },
  {
   "cell_type": "code",
   "execution_count": 27,
   "metadata": {
    "collapsed": true
   },
   "outputs": [],
   "source": [
    "dbname = 'demographics'\n",
    "engine = create_engine(f'postgres://mikemoran@localhost/{dbname}')\n",
    "if not database_exists(engine.url):\n",
    "    create_database(engine.url)"
   ]
  },
  {
   "cell_type": "code",
   "execution_count": 28,
   "metadata": {
    "collapsed": true
   },
   "outputs": [],
   "source": [
    "demo.to_sql('demographics_nyc_table', engine, if_exists='replace')"
   ]
  },
  {
   "cell_type": "code",
   "execution_count": null,
   "metadata": {
    "collapsed": true
   },
   "outputs": [],
   "source": []
  }
 ],
 "metadata": {
  "kernelspec": {
   "display_name": "Python 3",
   "language": "python",
   "name": "python3"
  },
  "language_info": {
   "codemirror_mode": {
    "name": "ipython",
    "version": 3
   },
   "file_extension": ".py",
   "mimetype": "text/x-python",
   "name": "python",
   "nbconvert_exporter": "python",
   "pygments_lexer": "ipython3",
   "version": "3.6.1"
  }
 },
 "nbformat": 4,
 "nbformat_minor": 2
}
