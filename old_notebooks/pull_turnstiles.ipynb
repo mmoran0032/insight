{
 "cells": [
  {
   "cell_type": "code",
   "execution_count": 1,
   "metadata": {
    "collapsed": true
   },
   "outputs": [],
   "source": [
    "from bs4 import BeautifulSoup\n",
    "import requests\n",
    "\n",
    "url_base = 'http://web.mta.info/developers/turnstile.html'\n",
    "filename = 'turnstile_{}.txt'"
   ]
  },
  {
   "cell_type": "markdown",
   "metadata": {},
   "source": [
    "Get URLs for files"
   ]
  },
  {
   "cell_type": "code",
   "execution_count": 2,
   "metadata": {},
   "outputs": [],
   "source": [
    "r = requests.get(url_base)\n",
    "assert r.status_code == 200\n",
    "# r.text"
   ]
  },
  {
   "cell_type": "code",
   "execution_count": 4,
   "metadata": {},
   "outputs": [],
   "source": [
    "soup = BeautifulSoup(r.text, 'html.parser')\n",
    "# info = soup.findall('div', class_='span-84')"
   ]
  },
  {
   "cell_type": "code",
   "execution_count": 5,
   "metadata": {},
   "outputs": [
    {
     "data": {
      "text/plain": [
       "['data/nyct/turnstile/turnstile_170610.txt',\n",
       " 'data/nyct/turnstile/turnstile_170603.txt',\n",
       " 'data/nyct/turnstile/turnstile_170527.txt',\n",
       " 'data/nyct/turnstile/turnstile_170520.txt',\n",
       " 'data/nyct/turnstile/turnstile_170513.txt']"
      ]
     },
     "execution_count": 5,
     "metadata": {},
     "output_type": "execute_result"
    }
   ],
   "source": [
    "info = soup.find('div', 'span-84')\n",
    "links = info.find_all('a')\n",
    "dates = [l.text for l in links]\n",
    "urls = [l.get('href') for l in links]\n",
    "urls[:5]"
   ]
  },
  {
   "cell_type": "code",
   "execution_count": 6,
   "metadata": {},
   "outputs": [
    {
     "data": {
      "text/plain": [
       "'data/nyct/turnstile/turnstile_170610.txt'"
      ]
     },
     "execution_count": 6,
     "metadata": {},
     "output_type": "execute_result"
    }
   ],
   "source": [
    "test = links[0]\n",
    "test.get('href')"
   ]
  },
  {
   "cell_type": "code",
   "execution_count": 7,
   "metadata": {},
   "outputs": [
    {
     "data": {
      "text/plain": [
       "['http://web.mta.info/developers/data/nyct/turnstile/turnstile_170610.txt',\n",
       " 'http://web.mta.info/developers/data/nyct/turnstile/turnstile_170603.txt',\n",
       " 'http://web.mta.info/developers/data/nyct/turnstile/turnstile_170527.txt',\n",
       " 'http://web.mta.info/developers/data/nyct/turnstile/turnstile_170520.txt',\n",
       " 'http://web.mta.info/developers/data/nyct/turnstile/turnstile_170513.txt']"
      ]
     },
     "execution_count": 7,
     "metadata": {},
     "output_type": "execute_result"
    }
   ],
   "source": [
    "base = 'http://web.mta.info/developers/'\n",
    "urls = [f'{base}{addr}' for addr in urls]\n",
    "urls[:5]"
   ]
  },
  {
   "cell_type": "code",
   "execution_count": null,
   "metadata": {
    "collapsed": true
   },
   "outputs": [],
   "source": [
    "for url in urls:\n",
    "    name = url.split('/')[-1]\n",
    "    r = requests.get(url)\n",
    "    with open(f'../raw_data/{name}', 'w') as f:\n",
    "        f.write(r.text)"
   ]
  },
  {
   "cell_type": "code",
   "execution_count": null,
   "metadata": {},
   "outputs": [],
   "source": [
    "!ls ../raw_data | wc"
   ]
  }
 ],
 "metadata": {
  "kernelspec": {
   "display_name": "Python 3",
   "language": "python",
   "name": "python3"
  },
  "language_info": {
   "codemirror_mode": {
    "name": "ipython",
    "version": 3
   },
   "file_extension": ".py",
   "mimetype": "text/x-python",
   "name": "python",
   "nbconvert_exporter": "python",
   "pygments_lexer": "ipython3",
   "version": "3.6.1"
  }
 },
 "nbformat": 4,
 "nbformat_minor": 2
}
