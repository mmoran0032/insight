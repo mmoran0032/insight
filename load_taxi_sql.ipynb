{
 "cells": [
  {
   "cell_type": "code",
   "execution_count": 1,
   "metadata": {
    "collapsed": true
   },
   "outputs": [],
   "source": [
    "%matplotlib inline\n",
    "\n",
    "from sqlalchemy import create_engine\n",
    "from sqlalchemy_utils import create_database, database_exists\n",
    "import psycopg2\n",
    "\n",
    "import matplotlib.pyplot as plt\n",
    "import numpy as np\n",
    "import pandas as pd\n",
    "\n",
    "filenames = ['all_rideshares', 'license']\n",
    "files = [f'other_data/{n}.csv' for n in filenames]"
   ]
  },
  {
   "cell_type": "markdown",
   "metadata": {},
   "source": [
    "Ridesharing\n",
    "-------------"
   ]
  },
  {
   "cell_type": "code",
   "execution_count": 20,
   "metadata": {},
   "outputs": [
    {
     "data": {
      "text/html": [
       "<div>\n",
       "<style>\n",
       "    .dataframe thead tr:only-child th {\n",
       "        text-align: right;\n",
       "    }\n",
       "\n",
       "    .dataframe thead th {\n",
       "        text-align: left;\n",
       "    }\n",
       "\n",
       "    .dataframe tbody tr th {\n",
       "        vertical-align: top;\n",
       "    }\n",
       "</style>\n",
       "<table border=\"1\" class=\"dataframe\">\n",
       "  <thead>\n",
       "    <tr style=\"text-align: right;\">\n",
       "      <th></th>\n",
       "      <th>Base License Number</th>\n",
       "      <th>Wave Number</th>\n",
       "      <th>Base Name</th>\n",
       "      <th>Years</th>\n",
       "      <th>Week Number</th>\n",
       "      <th>Pickup Start Date</th>\n",
       "      <th>Pickup End Date</th>\n",
       "      <th>Total Dispatched Trips</th>\n",
       "      <th>Unique Dispatched Vehicle</th>\n",
       "      <th>service</th>\n",
       "    </tr>\n",
       "  </thead>\n",
       "  <tbody>\n",
       "    <tr>\n",
       "      <th>0</th>\n",
       "      <td>B02395</td>\n",
       "      <td>3</td>\n",
       "      <td>ABATAR INC</td>\n",
       "      <td>2015</td>\n",
       "      <td>37</td>\n",
       "      <td>09/06/2015</td>\n",
       "      <td>09/12/2015</td>\n",
       "      <td>1</td>\n",
       "      <td>1</td>\n",
       "      <td>UBER</td>\n",
       "    </tr>\n",
       "    <tr>\n",
       "      <th>1</th>\n",
       "      <td>B02395</td>\n",
       "      <td>3</td>\n",
       "      <td>ABATAR INC</td>\n",
       "      <td>2015</td>\n",
       "      <td>38</td>\n",
       "      <td>09/13/2015</td>\n",
       "      <td>09/19/2015</td>\n",
       "      <td>5</td>\n",
       "      <td>1</td>\n",
       "      <td>UBER</td>\n",
       "    </tr>\n",
       "    <tr>\n",
       "      <th>2</th>\n",
       "      <td>B02395</td>\n",
       "      <td>3</td>\n",
       "      <td>ABATAR INC</td>\n",
       "      <td>2015</td>\n",
       "      <td>39</td>\n",
       "      <td>09/20/2015</td>\n",
       "      <td>09/26/2015</td>\n",
       "      <td>3</td>\n",
       "      <td>1</td>\n",
       "      <td>UBER</td>\n",
       "    </tr>\n",
       "    <tr>\n",
       "      <th>3</th>\n",
       "      <td>B02395</td>\n",
       "      <td>3</td>\n",
       "      <td>ABATAR INC</td>\n",
       "      <td>2015</td>\n",
       "      <td>44</td>\n",
       "      <td>10/25/2015</td>\n",
       "      <td>10/31/2015</td>\n",
       "      <td>44</td>\n",
       "      <td>4</td>\n",
       "      <td>UBER</td>\n",
       "    </tr>\n",
       "    <tr>\n",
       "      <th>4</th>\n",
       "      <td>B02395</td>\n",
       "      <td>3</td>\n",
       "      <td>ABATAR INC</td>\n",
       "      <td>2015</td>\n",
       "      <td>45</td>\n",
       "      <td>11/01/2015</td>\n",
       "      <td>11/07/2015</td>\n",
       "      <td>29</td>\n",
       "      <td>5</td>\n",
       "      <td>UBER</td>\n",
       "    </tr>\n",
       "  </tbody>\n",
       "</table>\n",
       "</div>"
      ],
      "text/plain": [
       "  Base License Number  Wave Number   Base Name  Years  Week Number  \\\n",
       "0              B02395            3  ABATAR INC   2015           37   \n",
       "1              B02395            3  ABATAR INC   2015           38   \n",
       "2              B02395            3  ABATAR INC   2015           39   \n",
       "3              B02395            3  ABATAR INC   2015           44   \n",
       "4              B02395            3  ABATAR INC   2015           45   \n",
       "\n",
       "  Pickup Start Date Pickup End Date  Total Dispatched Trips  \\\n",
       "0        09/06/2015      09/12/2015                       1   \n",
       "1        09/13/2015      09/19/2015                       5   \n",
       "2        09/20/2015      09/26/2015                       3   \n",
       "3        10/25/2015      10/31/2015                      44   \n",
       "4        11/01/2015      11/07/2015                      29   \n",
       "\n",
       "   Unique Dispatched Vehicle service  \n",
       "0                          1    UBER  \n",
       "1                          1    UBER  \n",
       "2                          1    UBER  \n",
       "3                          4    UBER  \n",
       "4                          5    UBER  "
      ]
     },
     "execution_count": 20,
     "metadata": {},
     "output_type": "execute_result"
    }
   ],
   "source": [
    "def extract_service(x):\n",
    "    if 'uber' in x.lower():\n",
    "        return 'UBER'\n",
    "    elif 'lyft' in x.lower():\n",
    "        return 'LYFT'\n",
    "    elif 'via' in x.lower():\n",
    "        return 'VIA'\n",
    "    elif 'juno' in x.lower():\n",
    "        return 'JUNO'\n",
    "    elif 'gett' in x.lower():\n",
    "        return 'GETT'\n",
    "    else:\n",
    "        return 'OTHER'\n",
    "\n",
    "# cols = ['DBA', 'Years', 'Week Number', 'Pickup Start Date',\n",
    "#         'Pickup End Date', 'Total Dispatched Trips']\n",
    "rideshare = pd.read_csv(files[0], header=0)\n",
    "rideshare['service'] = rideshare.DBA.map(extract_service)\n",
    "rideshare.drop('DBA', axis=1, inplace=True)\n",
    "# columns = ['year', 'week_number', 'pickup_start_date',\n",
    "#            'pickup_end_date', 'total_trips', 'service']\n",
    "# rideshare.columns = columns\n",
    "# rideshare = rideshare[np.roll(columns, shift=1)]\n",
    "rideshare.head()"
   ]
  },
  {
   "cell_type": "code",
   "execution_count": 3,
   "metadata": {},
   "outputs": [
    {
     "data": {
      "text/plain": [
       "DatetimeIndex(['2015-01-04', '2015-01-11', '2015-01-18', '2015-01-25',\n",
       "               '2015-02-01', '2015-02-08', '2015-02-15', '2015-02-22',\n",
       "               '2015-03-01', '2015-03-08',\n",
       "               ...\n",
       "               '2017-10-29', '2017-11-05', '2017-11-12', '2017-11-19',\n",
       "               '2017-11-26', '2017-12-03', '2017-12-10', '2017-12-17',\n",
       "               '2017-12-24', '2017-12-31'],\n",
       "              dtype='datetime64[ns]', length=157, freq='W-SUN')"
      ]
     },
     "execution_count": 3,
     "metadata": {},
     "output_type": "execute_result"
    }
   ],
   "source": [
    "pd.DatetimeIndex(start='2015-01-01', end='2017-12-31', freq='w')"
   ]
  },
  {
   "cell_type": "code",
   "execution_count": 4,
   "metadata": {},
   "outputs": [
    {
     "data": {
      "text/html": [
       "<div>\n",
       "<style>\n",
       "    .dataframe thead tr:only-child th {\n",
       "        text-align: right;\n",
       "    }\n",
       "\n",
       "    .dataframe thead th {\n",
       "        text-align: left;\n",
       "    }\n",
       "\n",
       "    .dataframe tbody tr th {\n",
       "        vertical-align: top;\n",
       "    }\n",
       "</style>\n",
       "<table border=\"1\" class=\"dataframe\">\n",
       "  <thead>\n",
       "    <tr style=\"text-align: right;\">\n",
       "      <th></th>\n",
       "      <th>year</th>\n",
       "      <th>week_number</th>\n",
       "    </tr>\n",
       "  </thead>\n",
       "  <tbody>\n",
       "    <tr>\n",
       "      <th>2015-01-04</th>\n",
       "      <td>2015</td>\n",
       "      <td>1</td>\n",
       "    </tr>\n",
       "    <tr>\n",
       "      <th>2015-01-11</th>\n",
       "      <td>2015</td>\n",
       "      <td>2</td>\n",
       "    </tr>\n",
       "    <tr>\n",
       "      <th>2015-01-18</th>\n",
       "      <td>2015</td>\n",
       "      <td>3</td>\n",
       "    </tr>\n",
       "    <tr>\n",
       "      <th>2015-01-25</th>\n",
       "      <td>2015</td>\n",
       "      <td>4</td>\n",
       "    </tr>\n",
       "    <tr>\n",
       "      <th>2015-02-01</th>\n",
       "      <td>2015</td>\n",
       "      <td>5</td>\n",
       "    </tr>\n",
       "  </tbody>\n",
       "</table>\n",
       "</div>"
      ],
      "text/plain": [
       "            year  week_number\n",
       "2015-01-04  2015            1\n",
       "2015-01-11  2015            2\n",
       "2015-01-18  2015            3\n",
       "2015-01-25  2015            4\n",
       "2015-02-01  2015            5"
      ]
     },
     "execution_count": 4,
     "metadata": {},
     "output_type": "execute_result"
    }
   ],
   "source": [
    "time_frame = pd.DataFrame(index=pd.DatetimeIndex(start='2015-01-01', end='2017-12-31', freq='w'),\n",
    "                          data={'week': 1})\n",
    "time_frame['year'] = time_frame.index.year\n",
    "time_frame['week_number'] = time_frame.index.week\n",
    "time_frame.drop('week', axis=1, inplace=True)\n",
    "time_frame.head()"
   ]
  },
  {
   "cell_type": "code",
   "execution_count": 5,
   "metadata": {},
   "outputs": [
    {
     "data": {
      "text/html": [
       "<div>\n",
       "<style>\n",
       "    .dataframe thead tr:only-child th {\n",
       "        text-align: right;\n",
       "    }\n",
       "\n",
       "    .dataframe thead th {\n",
       "        text-align: left;\n",
       "    }\n",
       "\n",
       "    .dataframe tbody tr th {\n",
       "        vertical-align: top;\n",
       "    }\n",
       "</style>\n",
       "<table border=\"1\" class=\"dataframe\">\n",
       "  <thead>\n",
       "    <tr style=\"text-align: right;\">\n",
       "      <th></th>\n",
       "      <th>index</th>\n",
       "      <th>year</th>\n",
       "      <th>week_number</th>\n",
       "      <th>service</th>\n",
       "      <th>total_trips</th>\n",
       "    </tr>\n",
       "  </thead>\n",
       "  <tbody>\n",
       "    <tr>\n",
       "      <th>0</th>\n",
       "      <td>2015-01-04</td>\n",
       "      <td>2015</td>\n",
       "      <td>1</td>\n",
       "      <td>UBER</td>\n",
       "      <td>132820.0</td>\n",
       "    </tr>\n",
       "    <tr>\n",
       "      <th>1</th>\n",
       "      <td>2015-01-11</td>\n",
       "      <td>2015</td>\n",
       "      <td>2</td>\n",
       "      <td>UBER</td>\n",
       "      <td>356286.0</td>\n",
       "    </tr>\n",
       "    <tr>\n",
       "      <th>2</th>\n",
       "      <td>2015-01-18</td>\n",
       "      <td>2015</td>\n",
       "      <td>3</td>\n",
       "      <td>UBER</td>\n",
       "      <td>386848.0</td>\n",
       "    </tr>\n",
       "    <tr>\n",
       "      <th>3</th>\n",
       "      <td>2015-01-25</td>\n",
       "      <td>2015</td>\n",
       "      <td>4</td>\n",
       "      <td>UBER</td>\n",
       "      <td>385412.0</td>\n",
       "    </tr>\n",
       "    <tr>\n",
       "      <th>4</th>\n",
       "      <td>2015-02-01</td>\n",
       "      <td>2015</td>\n",
       "      <td>5</td>\n",
       "      <td>UBER</td>\n",
       "      <td>369692.0</td>\n",
       "    </tr>\n",
       "  </tbody>\n",
       "</table>\n",
       "</div>"
      ],
      "text/plain": [
       "       index  year  week_number service  total_trips\n",
       "0 2015-01-04  2015            1    UBER     132820.0\n",
       "1 2015-01-11  2015            2    UBER     356286.0\n",
       "2 2015-01-18  2015            3    UBER     386848.0\n",
       "3 2015-01-25  2015            4    UBER     385412.0\n",
       "4 2015-02-01  2015            5    UBER     369692.0"
      ]
     },
     "execution_count": 5,
     "metadata": {},
     "output_type": "execute_result"
    }
   ],
   "source": [
    "summed = rideshare.groupby(['service', 'year', 'week_number']).sum()\n",
    "summed.reset_index(inplace=True)\n",
    "summed.head()\n",
    "full = time_frame.join(summed.set_index(['year', 'week_number']),\n",
    "                       on=['year', 'week_number'], how='outer')\n",
    "full.reset_index(inplace=True)\n",
    "full.head()"
   ]
  },
  {
   "cell_type": "code",
   "execution_count": 6,
   "metadata": {
    "collapsed": true
   },
   "outputs": [],
   "source": [
    "engine = create_engine(f'postgres://mikemoran@localhost/transit')\n",
    "if not database_exists(engine.url):\n",
    "    create_database(engine.url)"
   ]
  },
  {
   "cell_type": "code",
   "execution_count": 7,
   "metadata": {
    "collapsed": true
   },
   "outputs": [],
   "source": [
    "full.to_sql('ridesharing', engine, if_exists='replace')"
   ]
  },
  {
   "cell_type": "markdown",
   "metadata": {},
   "source": [
    "Business Licenses\n",
    "---------------------"
   ]
  },
  {
   "cell_type": "code",
   "execution_count": 10,
   "metadata": {},
   "outputs": [
    {
     "data": {
      "text/html": [
       "<div>\n",
       "<style>\n",
       "    .dataframe thead tr:only-child th {\n",
       "        text-align: right;\n",
       "    }\n",
       "\n",
       "    .dataframe thead th {\n",
       "        text-align: left;\n",
       "    }\n",
       "\n",
       "    .dataframe tbody tr th {\n",
       "        vertical-align: top;\n",
       "    }\n",
       "</style>\n",
       "<table border=\"1\" class=\"dataframe\">\n",
       "  <thead>\n",
       "    <tr style=\"text-align: right;\">\n",
       "      <th></th>\n",
       "      <th>License Type</th>\n",
       "      <th>Application or Renewal</th>\n",
       "      <th>Business Name</th>\n",
       "      <th>Status</th>\n",
       "      <th>Start Date</th>\n",
       "      <th>License Category</th>\n",
       "      <th>Street</th>\n",
       "      <th>Street 2</th>\n",
       "      <th>Zip</th>\n",
       "    </tr>\n",
       "  </thead>\n",
       "  <tbody>\n",
       "    <tr>\n",
       "      <th>0</th>\n",
       "      <td>Business</td>\n",
       "      <td>Renewal</td>\n",
       "      <td>PEYKO TZENOV</td>\n",
       "      <td>Issued</td>\n",
       "      <td>01/09/2017</td>\n",
       "      <td>Home Improvement Contractor</td>\n",
       "      <td>RESERVOIR OVAL E</td>\n",
       "      <td>NaN</td>\n",
       "      <td>10467</td>\n",
       "    </tr>\n",
       "    <tr>\n",
       "      <th>1</th>\n",
       "      <td>Business</td>\n",
       "      <td>Renewal</td>\n",
       "      <td>T-MOBILE NORTHEAST LLC</td>\n",
       "      <td>Issued</td>\n",
       "      <td>12/28/2016</td>\n",
       "      <td>Electronics Store</td>\n",
       "      <td>FULTON ST</td>\n",
       "      <td>NaN</td>\n",
       "      <td>11201</td>\n",
       "    </tr>\n",
       "    <tr>\n",
       "      <th>2</th>\n",
       "      <td>Business</td>\n",
       "      <td>Renewal</td>\n",
       "      <td>LUCAS ELECTRONICS INC</td>\n",
       "      <td>Issued</td>\n",
       "      <td>12/31/2016</td>\n",
       "      <td>Electronics Store</td>\n",
       "      <td>MANHATTAN AVE</td>\n",
       "      <td>NaN</td>\n",
       "      <td>11222</td>\n",
       "    </tr>\n",
       "    <tr>\n",
       "      <th>3</th>\n",
       "      <td>Business</td>\n",
       "      <td>Renewal</td>\n",
       "      <td>DEKALB NEWSSTAND CORP</td>\n",
       "      <td>Issued</td>\n",
       "      <td>01/02/2017</td>\n",
       "      <td>Cigarette Retail Dealer</td>\n",
       "      <td>KNICKERBOCKER AVE</td>\n",
       "      <td>NaN</td>\n",
       "      <td>11237</td>\n",
       "    </tr>\n",
       "    <tr>\n",
       "      <th>4</th>\n",
       "      <td>Individual</td>\n",
       "      <td>Renewal</td>\n",
       "      <td>JUSTINIANO SALDIVAR</td>\n",
       "      <td>Issued</td>\n",
       "      <td>01/09/2017</td>\n",
       "      <td>Home Improvement Salesperson</td>\n",
       "      <td>82ND RD</td>\n",
       "      <td>NaN</td>\n",
       "      <td>11004</td>\n",
       "    </tr>\n",
       "  </tbody>\n",
       "</table>\n",
       "</div>"
      ],
      "text/plain": [
       "  License Type Application or Renewal           Business Name  Status  \\\n",
       "0     Business                Renewal            PEYKO TZENOV  Issued   \n",
       "1     Business                Renewal  T-MOBILE NORTHEAST LLC  Issued   \n",
       "2     Business                Renewal   LUCAS ELECTRONICS INC  Issued   \n",
       "3     Business                Renewal   DEKALB NEWSSTAND CORP  Issued   \n",
       "4   Individual                Renewal     JUSTINIANO SALDIVAR  Issued   \n",
       "\n",
       "   Start Date              License Category             Street Street 2    Zip  \n",
       "0  01/09/2017   Home Improvement Contractor   RESERVOIR OVAL E      NaN  10467  \n",
       "1  12/28/2016             Electronics Store          FULTON ST      NaN  11201  \n",
       "2  12/31/2016             Electronics Store      MANHATTAN AVE      NaN  11222  \n",
       "3  01/02/2017       Cigarette Retail Dealer  KNICKERBOCKER AVE      NaN  11237  \n",
       "4  01/09/2017  Home Improvement Salesperson            82ND RD      NaN  11004  "
      ]
     },
     "execution_count": 10,
     "metadata": {},
     "output_type": "execute_result"
    }
   ],
   "source": [
    "cols = ['License Type', 'Application or Renewal', 'Business Name',\n",
    "        'Status', 'Start Date', 'License Category',\n",
    "        'Street', 'Street 2', 'Zip']\n",
    "business = pd.read_csv(files[1], header=0, usecols=cols)\n",
    "# business = business[business.status == 'Issued']\n",
    "business.head()"
   ]
  },
  {
   "cell_type": "code",
   "execution_count": 12,
   "metadata": {},
   "outputs": [
    {
     "data": {
      "text/plain": [
       "array(['Issued', 'Denied', 'Pending', 'Withdrawn'], dtype=object)"
      ]
     },
     "execution_count": 12,
     "metadata": {},
     "output_type": "execute_result"
    }
   ],
   "source": [
    "business.Status.unique()"
   ]
  },
  {
   "cell_type": "code",
   "execution_count": 19,
   "metadata": {},
   "outputs": [
    {
     "data": {
      "text/html": [
       "<div>\n",
       "<style>\n",
       "    .dataframe thead tr:only-child th {\n",
       "        text-align: right;\n",
       "    }\n",
       "\n",
       "    .dataframe thead th {\n",
       "        text-align: left;\n",
       "    }\n",
       "\n",
       "    .dataframe tbody tr th {\n",
       "        vertical-align: top;\n",
       "    }\n",
       "</style>\n",
       "<table border=\"1\" class=\"dataframe\">\n",
       "  <thead>\n",
       "    <tr style=\"text-align: right;\">\n",
       "      <th></th>\n",
       "      <th>License Type</th>\n",
       "      <th>Application or Renewal</th>\n",
       "      <th>Business Name</th>\n",
       "      <th>Status</th>\n",
       "      <th>Start Date</th>\n",
       "      <th>License Category</th>\n",
       "      <th>Street</th>\n",
       "      <th>Street 2</th>\n",
       "      <th>Zip</th>\n",
       "    </tr>\n",
       "  </thead>\n",
       "  <tbody>\n",
       "  </tbody>\n",
       "</table>\n",
       "</div>"
      ],
      "text/plain": [
       "Empty DataFrame\n",
       "Columns: [License Type, Application or Renewal, Business Name, Status, Start Date, License Category, Street, Street 2, Zip]\n",
       "Index: []"
      ]
     },
     "execution_count": 19,
     "metadata": {},
     "output_type": "execute_result"
    }
   ],
   "source": [
    "issued = business[(business.Status == 'Issued') &\n",
    "#                   (business.Zip == 10035)]\n",
    "#                    (business.Zip == 10029)]\n",
    "#                    (business.Zip == 10128)]\n",
    "#                    (business.Zip == 10075)]\n",
    "                   (business.Zip == 10021)]\n",
    "issued.head()"
   ]
  },
  {
   "cell_type": "code",
   "execution_count": null,
   "metadata": {
    "collapsed": true
   },
   "outputs": [],
   "source": []
  }
 ],
 "metadata": {
  "kernelspec": {
   "display_name": "Python 3",
   "language": "python",
   "name": "python3"
  },
  "language_info": {
   "codemirror_mode": {
    "name": "ipython",
    "version": 3
   },
   "file_extension": ".py",
   "mimetype": "text/x-python",
   "name": "python",
   "nbconvert_exporter": "python",
   "pygments_lexer": "ipython3",
   "version": "3.6.1"
  }
 },
 "nbformat": 4,
 "nbformat_minor": 2
}
